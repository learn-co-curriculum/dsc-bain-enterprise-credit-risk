{
 "cells": [
  {
   "cell_type": "raw",
   "metadata": {},
   "source": [
    "# Credit Card Default Problem\n",
    "\n",
    "https://www.kaggle.com/uciml/default-of-credit-card-clients-dataset/\n",
    "\n",
    "__Business Case:__ Credit Card Co has seen and increase in defaults most recently and has asked Bain to help identify clinets with highest risk of default so it can take appropriate measures to reduce risk (e.g. reduce their credit limit, set-up a payment plan, etc.). Client wants to understand if it's possible to build a default predictor and how much it could potentially save with this approach."
   ]
  },
  {
   "cell_type": "markdown",
   "metadata": {},
   "source": [
    " # Sprint 1\n",
    "\n",
    "Develop a very simple predictor of risk by loading data, doing exploratory data analysis, cleaning data  and eventually a simple classifier with logistic regression.\n",
    "\n",
    "1. Load all the necessary libraries and set-up environment\n",
    "2. Load the data\n",
    "3. Explore data – what types, any obvious issues\n",
    "4. Run mechanical feature engineering\n",
    "5. Split data \n",
    "6. Run logistic regression\n",
    "7. Explore coefficients\n",
    "8. Deep dive on the most predictive data\n",
    "9. Clean-up data\n",
    "10. Re-run logistic regression\n",
    "\n"
   ]
  },
  {
   "cell_type": "markdown",
   "metadata": {},
   "source": [
    "## 1.1 Load all the necessary libraries and set-up environment\n"
   ]
  },
  {
   "cell_type": "code",
   "execution_count": 1,
   "metadata": {},
   "outputs": [
    {
     "data": {
      "application/javascript": [
       "// Ensure our output is sufficiently large\n",
       "IPython.OutputArea.auto_scroll_threshold = 9999;\n"
      ],
      "text/plain": [
       "<IPython.core.display.Javascript object>"
      ]
     },
     "metadata": {},
     "output_type": "display_data"
    }
   ],
   "source": [
    "%%javascript\n",
    "// Ensure our output is sufficiently large\n",
    "IPython.OutputArea.auto_scroll_threshold = 9999;\n"
   ]
  },
  {
   "cell_type": "code",
   "execution_count": 2,
   "metadata": {},
   "outputs": [],
   "source": [
    "# Emnsure all charts plotted automatically\n",
    "%matplotlib inline"
   ]
  },
  {
   "cell_type": "code",
   "execution_count": 5,
   "metadata": {},
   "outputs": [],
   "source": [
    "import warnings\n",
    "import numpy as np\n",
    "import pandas as pd\n",
    "#make sure it doesn't truncate too much\n",
    "pd.set_option('display.max_rows', 100)\n",
    "pd.set_option('display.max_columns', 100)\n",
    "\n",
    "import sklearn\n",
    "import sklearn.linear_model\n",
    "\n",
    "from sklearn.metrics import confusion_matrix, precision_recall_fscore_support, roc_curve, auc\n",
    "\n",
    "from sklearn_pandas import DataFrameMapper\n",
    "from sklearn import preprocessing\n",
    "\n",
    "from xgboost import XGBClassifier\n",
    "\n",
    "from IPython.display import display, Markdown\n",
    "\n",
    "import matplotlib.pyplot as plt\n",
    "import seaborn as sns"
   ]
  },
  {
   "cell_type": "markdown",
   "metadata": {},
   "source": [
    "__You should see:__\n",
    "\n",
    "Nothing, if anything went wrong (i.e. errors), you need to install additional libraries "
   ]
  },
  {
   "cell_type": "markdown",
   "metadata": {},
   "source": [
    "## 1.2. Load the data\n",
    "\n",
    "* You load the CSV file (Credit_Card.csv) into a Pandas object. Name this Pandas object df_raw_data\n",
    "\n",
    "* Print out top 10 rows just to make sure we got it all and understand what's in the data"
   ]
  },
  {
   "cell_type": "code",
   "execution_count": 6,
   "metadata": {},
   "outputs": [
    {
     "data": {
      "text/html": [
       "<div>\n",
       "<style scoped>\n",
       "    .dataframe tbody tr th:only-of-type {\n",
       "        vertical-align: middle;\n",
       "    }\n",
       "\n",
       "    .dataframe tbody tr th {\n",
       "        vertical-align: top;\n",
       "    }\n",
       "\n",
       "    .dataframe thead th {\n",
       "        text-align: right;\n",
       "    }\n",
       "</style>\n",
       "<table border=\"1\" class=\"dataframe\">\n",
       "  <thead>\n",
       "    <tr style=\"text-align: right;\">\n",
       "      <th></th>\n",
       "      <th>ID</th>\n",
       "      <th>LIMIT_BAL</th>\n",
       "      <th>SEX</th>\n",
       "      <th>EDUCATION</th>\n",
       "      <th>MARRIAGE</th>\n",
       "      <th>AGE</th>\n",
       "      <th>PAY_0</th>\n",
       "      <th>PAY_2</th>\n",
       "      <th>PAY_3</th>\n",
       "      <th>PAY_4</th>\n",
       "      <th>PAY_5</th>\n",
       "      <th>PAY_6</th>\n",
       "      <th>BILL_AMT1</th>\n",
       "      <th>BILL_AMT2</th>\n",
       "      <th>BILL_AMT3</th>\n",
       "      <th>BILL_AMT4</th>\n",
       "      <th>BILL_AMT5</th>\n",
       "      <th>BILL_AMT6</th>\n",
       "      <th>PAY_AMT1</th>\n",
       "      <th>PAY_AMT2</th>\n",
       "      <th>PAY_AMT3</th>\n",
       "      <th>PAY_AMT4</th>\n",
       "      <th>PAY_AMT5</th>\n",
       "      <th>PAY_AMT6</th>\n",
       "      <th>default.payment.next.month</th>\n",
       "    </tr>\n",
       "  </thead>\n",
       "  <tbody>\n",
       "    <tr>\n",
       "      <th>0</th>\n",
       "      <td>1</td>\n",
       "      <td>20000.0</td>\n",
       "      <td>2</td>\n",
       "      <td>2</td>\n",
       "      <td>1</td>\n",
       "      <td>24</td>\n",
       "      <td>2</td>\n",
       "      <td>2</td>\n",
       "      <td>-1</td>\n",
       "      <td>-1</td>\n",
       "      <td>-2</td>\n",
       "      <td>-2</td>\n",
       "      <td>3913.0</td>\n",
       "      <td>3102.0</td>\n",
       "      <td>689.0</td>\n",
       "      <td>0.0</td>\n",
       "      <td>0.0</td>\n",
       "      <td>0.0</td>\n",
       "      <td>0.0</td>\n",
       "      <td>689.0</td>\n",
       "      <td>0.0</td>\n",
       "      <td>0.0</td>\n",
       "      <td>0.0</td>\n",
       "      <td>0.0</td>\n",
       "      <td>1</td>\n",
       "    </tr>\n",
       "    <tr>\n",
       "      <th>1</th>\n",
       "      <td>2</td>\n",
       "      <td>120000.0</td>\n",
       "      <td>2</td>\n",
       "      <td>2</td>\n",
       "      <td>2</td>\n",
       "      <td>26</td>\n",
       "      <td>-1</td>\n",
       "      <td>2</td>\n",
       "      <td>0</td>\n",
       "      <td>0</td>\n",
       "      <td>0</td>\n",
       "      <td>2</td>\n",
       "      <td>24242.0</td>\n",
       "      <td>1725.0</td>\n",
       "      <td>2682.0</td>\n",
       "      <td>3272.0</td>\n",
       "      <td>3455.0</td>\n",
       "      <td>3261.0</td>\n",
       "      <td>0.0</td>\n",
       "      <td>1000.0</td>\n",
       "      <td>1000.0</td>\n",
       "      <td>1000.0</td>\n",
       "      <td>0.0</td>\n",
       "      <td>2000.0</td>\n",
       "      <td>1</td>\n",
       "    </tr>\n",
       "    <tr>\n",
       "      <th>2</th>\n",
       "      <td>3</td>\n",
       "      <td>90000.0</td>\n",
       "      <td>2</td>\n",
       "      <td>2</td>\n",
       "      <td>2</td>\n",
       "      <td>34</td>\n",
       "      <td>0</td>\n",
       "      <td>0</td>\n",
       "      <td>0</td>\n",
       "      <td>0</td>\n",
       "      <td>0</td>\n",
       "      <td>0</td>\n",
       "      <td>29239.0</td>\n",
       "      <td>14027.0</td>\n",
       "      <td>13559.0</td>\n",
       "      <td>14331.0</td>\n",
       "      <td>14948.0</td>\n",
       "      <td>15549.0</td>\n",
       "      <td>1518.0</td>\n",
       "      <td>1500.0</td>\n",
       "      <td>1000.0</td>\n",
       "      <td>1000.0</td>\n",
       "      <td>1000.0</td>\n",
       "      <td>5000.0</td>\n",
       "      <td>0</td>\n",
       "    </tr>\n",
       "    <tr>\n",
       "      <th>3</th>\n",
       "      <td>4</td>\n",
       "      <td>50000.0</td>\n",
       "      <td>2</td>\n",
       "      <td>2</td>\n",
       "      <td>1</td>\n",
       "      <td>37</td>\n",
       "      <td>0</td>\n",
       "      <td>0</td>\n",
       "      <td>0</td>\n",
       "      <td>0</td>\n",
       "      <td>0</td>\n",
       "      <td>0</td>\n",
       "      <td>46990.0</td>\n",
       "      <td>48233.0</td>\n",
       "      <td>49291.0</td>\n",
       "      <td>28314.0</td>\n",
       "      <td>28959.0</td>\n",
       "      <td>29547.0</td>\n",
       "      <td>2000.0</td>\n",
       "      <td>2019.0</td>\n",
       "      <td>1200.0</td>\n",
       "      <td>1100.0</td>\n",
       "      <td>1069.0</td>\n",
       "      <td>1000.0</td>\n",
       "      <td>0</td>\n",
       "    </tr>\n",
       "    <tr>\n",
       "      <th>4</th>\n",
       "      <td>5</td>\n",
       "      <td>50000.0</td>\n",
       "      <td>1</td>\n",
       "      <td>2</td>\n",
       "      <td>1</td>\n",
       "      <td>57</td>\n",
       "      <td>-1</td>\n",
       "      <td>0</td>\n",
       "      <td>-1</td>\n",
       "      <td>0</td>\n",
       "      <td>0</td>\n",
       "      <td>0</td>\n",
       "      <td>8617.0</td>\n",
       "      <td>5670.0</td>\n",
       "      <td>35835.0</td>\n",
       "      <td>20940.0</td>\n",
       "      <td>19146.0</td>\n",
       "      <td>19131.0</td>\n",
       "      <td>2000.0</td>\n",
       "      <td>36681.0</td>\n",
       "      <td>10000.0</td>\n",
       "      <td>9000.0</td>\n",
       "      <td>689.0</td>\n",
       "      <td>679.0</td>\n",
       "      <td>0</td>\n",
       "    </tr>\n",
       "    <tr>\n",
       "      <th>5</th>\n",
       "      <td>6</td>\n",
       "      <td>50000.0</td>\n",
       "      <td>1</td>\n",
       "      <td>1</td>\n",
       "      <td>2</td>\n",
       "      <td>37</td>\n",
       "      <td>0</td>\n",
       "      <td>0</td>\n",
       "      <td>0</td>\n",
       "      <td>0</td>\n",
       "      <td>0</td>\n",
       "      <td>0</td>\n",
       "      <td>64400.0</td>\n",
       "      <td>57069.0</td>\n",
       "      <td>57608.0</td>\n",
       "      <td>19394.0</td>\n",
       "      <td>19619.0</td>\n",
       "      <td>20024.0</td>\n",
       "      <td>2500.0</td>\n",
       "      <td>1815.0</td>\n",
       "      <td>657.0</td>\n",
       "      <td>1000.0</td>\n",
       "      <td>1000.0</td>\n",
       "      <td>800.0</td>\n",
       "      <td>1</td>\n",
       "    </tr>\n",
       "    <tr>\n",
       "      <th>6</th>\n",
       "      <td>7</td>\n",
       "      <td>500000.0</td>\n",
       "      <td>1</td>\n",
       "      <td>1</td>\n",
       "      <td>2</td>\n",
       "      <td>29</td>\n",
       "      <td>0</td>\n",
       "      <td>0</td>\n",
       "      <td>0</td>\n",
       "      <td>0</td>\n",
       "      <td>0</td>\n",
       "      <td>0</td>\n",
       "      <td>367965.0</td>\n",
       "      <td>412023.0</td>\n",
       "      <td>445007.0</td>\n",
       "      <td>542653.0</td>\n",
       "      <td>483003.0</td>\n",
       "      <td>473944.0</td>\n",
       "      <td>55000.0</td>\n",
       "      <td>40000.0</td>\n",
       "      <td>38000.0</td>\n",
       "      <td>20239.0</td>\n",
       "      <td>13750.0</td>\n",
       "      <td>13770.0</td>\n",
       "      <td>0</td>\n",
       "    </tr>\n",
       "    <tr>\n",
       "      <th>7</th>\n",
       "      <td>8</td>\n",
       "      <td>100000.0</td>\n",
       "      <td>2</td>\n",
       "      <td>2</td>\n",
       "      <td>2</td>\n",
       "      <td>23</td>\n",
       "      <td>0</td>\n",
       "      <td>-1</td>\n",
       "      <td>-1</td>\n",
       "      <td>0</td>\n",
       "      <td>0</td>\n",
       "      <td>-1</td>\n",
       "      <td>11876.0</td>\n",
       "      <td>380.0</td>\n",
       "      <td>601.0</td>\n",
       "      <td>221.0</td>\n",
       "      <td>-159.0</td>\n",
       "      <td>567.0</td>\n",
       "      <td>380.0</td>\n",
       "      <td>601.0</td>\n",
       "      <td>0.0</td>\n",
       "      <td>581.0</td>\n",
       "      <td>1687.0</td>\n",
       "      <td>1542.0</td>\n",
       "      <td>0</td>\n",
       "    </tr>\n",
       "    <tr>\n",
       "      <th>8</th>\n",
       "      <td>9</td>\n",
       "      <td>140000.0</td>\n",
       "      <td>2</td>\n",
       "      <td>3</td>\n",
       "      <td>1</td>\n",
       "      <td>28</td>\n",
       "      <td>0</td>\n",
       "      <td>0</td>\n",
       "      <td>2</td>\n",
       "      <td>0</td>\n",
       "      <td>0</td>\n",
       "      <td>0</td>\n",
       "      <td>11285.0</td>\n",
       "      <td>14096.0</td>\n",
       "      <td>12108.0</td>\n",
       "      <td>12211.0</td>\n",
       "      <td>11793.0</td>\n",
       "      <td>3719.0</td>\n",
       "      <td>3329.0</td>\n",
       "      <td>0.0</td>\n",
       "      <td>432.0</td>\n",
       "      <td>1000.0</td>\n",
       "      <td>1000.0</td>\n",
       "      <td>1000.0</td>\n",
       "      <td>0</td>\n",
       "    </tr>\n",
       "    <tr>\n",
       "      <th>9</th>\n",
       "      <td>10</td>\n",
       "      <td>20000.0</td>\n",
       "      <td>1</td>\n",
       "      <td>3</td>\n",
       "      <td>2</td>\n",
       "      <td>35</td>\n",
       "      <td>-2</td>\n",
       "      <td>-2</td>\n",
       "      <td>-2</td>\n",
       "      <td>-2</td>\n",
       "      <td>-1</td>\n",
       "      <td>-1</td>\n",
       "      <td>0.0</td>\n",
       "      <td>0.0</td>\n",
       "      <td>0.0</td>\n",
       "      <td>0.0</td>\n",
       "      <td>13007.0</td>\n",
       "      <td>13912.0</td>\n",
       "      <td>0.0</td>\n",
       "      <td>0.0</td>\n",
       "      <td>0.0</td>\n",
       "      <td>13007.0</td>\n",
       "      <td>1122.0</td>\n",
       "      <td>0.0</td>\n",
       "      <td>0</td>\n",
       "    </tr>\n",
       "  </tbody>\n",
       "</table>\n",
       "</div>"
      ],
      "text/plain": [
       "   ID  LIMIT_BAL  SEX  EDUCATION  MARRIAGE  AGE  PAY_0  PAY_2  PAY_3  PAY_4  \\\n",
       "0   1    20000.0    2          2         1   24      2      2     -1     -1   \n",
       "1   2   120000.0    2          2         2   26     -1      2      0      0   \n",
       "2   3    90000.0    2          2         2   34      0      0      0      0   \n",
       "3   4    50000.0    2          2         1   37      0      0      0      0   \n",
       "4   5    50000.0    1          2         1   57     -1      0     -1      0   \n",
       "5   6    50000.0    1          1         2   37      0      0      0      0   \n",
       "6   7   500000.0    1          1         2   29      0      0      0      0   \n",
       "7   8   100000.0    2          2         2   23      0     -1     -1      0   \n",
       "8   9   140000.0    2          3         1   28      0      0      2      0   \n",
       "9  10    20000.0    1          3         2   35     -2     -2     -2     -2   \n",
       "\n",
       "   PAY_5  PAY_6  BILL_AMT1  BILL_AMT2  BILL_AMT3  BILL_AMT4  BILL_AMT5  \\\n",
       "0     -2     -2     3913.0     3102.0      689.0        0.0        0.0   \n",
       "1      0      2    24242.0     1725.0     2682.0     3272.0     3455.0   \n",
       "2      0      0    29239.0    14027.0    13559.0    14331.0    14948.0   \n",
       "3      0      0    46990.0    48233.0    49291.0    28314.0    28959.0   \n",
       "4      0      0     8617.0     5670.0    35835.0    20940.0    19146.0   \n",
       "5      0      0    64400.0    57069.0    57608.0    19394.0    19619.0   \n",
       "6      0      0   367965.0   412023.0   445007.0   542653.0   483003.0   \n",
       "7      0     -1    11876.0      380.0      601.0      221.0     -159.0   \n",
       "8      0      0    11285.0    14096.0    12108.0    12211.0    11793.0   \n",
       "9     -1     -1        0.0        0.0        0.0        0.0    13007.0   \n",
       "\n",
       "   BILL_AMT6  PAY_AMT1  PAY_AMT2  PAY_AMT3  PAY_AMT4  PAY_AMT5  PAY_AMT6  \\\n",
       "0        0.0       0.0     689.0       0.0       0.0       0.0       0.0   \n",
       "1     3261.0       0.0    1000.0    1000.0    1000.0       0.0    2000.0   \n",
       "2    15549.0    1518.0    1500.0    1000.0    1000.0    1000.0    5000.0   \n",
       "3    29547.0    2000.0    2019.0    1200.0    1100.0    1069.0    1000.0   \n",
       "4    19131.0    2000.0   36681.0   10000.0    9000.0     689.0     679.0   \n",
       "5    20024.0    2500.0    1815.0     657.0    1000.0    1000.0     800.0   \n",
       "6   473944.0   55000.0   40000.0   38000.0   20239.0   13750.0   13770.0   \n",
       "7      567.0     380.0     601.0       0.0     581.0    1687.0    1542.0   \n",
       "8     3719.0    3329.0       0.0     432.0    1000.0    1000.0    1000.0   \n",
       "9    13912.0       0.0       0.0       0.0   13007.0    1122.0       0.0   \n",
       "\n",
       "   default.payment.next.month  \n",
       "0                           1  \n",
       "1                           1  \n",
       "2                           0  \n",
       "3                           0  \n",
       "4                           0  \n",
       "5                           1  \n",
       "6                           0  \n",
       "7                           0  \n",
       "8                           0  \n",
       "9                           0  "
      ]
     },
     "execution_count": 6,
     "metadata": {},
     "output_type": "execute_result"
    }
   ],
   "source": [
    "# Solution\n",
    "df_raw_data = pd.read_csv('Credit_Card.csv', sep=',', header=0)\n",
    "\n",
    "\n",
    "df_raw_data.head(10)"
   ]
  },
  {
   "cell_type": "markdown",
   "metadata": {},
   "source": [
    "__You should see:__\n",
    "\n",
    "10 rows of data across all 25 columns (different variables)\n",
    "\n",
    "__Helpful  decoder ring for what each variable means (stuff you would get from the client)__\n",
    "\n",
    "* ID: ID of each client\n",
    "* LIMIT_BAL: Amount of given credit in NT dollars (includes individual and family/supplementary credit\n",
    "* SEX: Gender (1=male, 2=female)\n",
    "* EDUCATION: (1=graduate school, 2=university, 3=high school, 4=others, 5=unknown, 6=unknown)\n",
    "* MARRIAGE: Marital status (1=married, 2=single, 3=others)\n",
    "* AGE: Age in years\n",
    "* PAY_0: Repayment status in September, 2005 (-1=pay duly, 1=payment delay for one month, 2=payment delay for two months, ...8=payment delay for eight months, 9=payment delay for nine months and above)\n",
    "* PAY_2: Repayment status in August, 2005 (scale same as above)\n",
    "* PAY_3: Repayment status in July, 2005 (scale same as above)\n",
    "* PAY_4: Repayment status in June, 2005 (scale same as above)\n",
    "* PAY_5: Repayment status in May, 2005 (scale same as above)\n",
    "* PAY_6: Repayment status in April, 2005 (scale same as above)\n",
    "* BILL_AMT1: Amount of bill statement in September, 2005 (NT dollar)\n",
    "* BILL_AMT2: Amount of bill statement in August, 2005 (NT dollar)\n",
    "* BILL_AMT3: Amount of bill statement in July, 2005 (NT dollar)\n",
    "* BILL_AMT4: Amount of bill statement in June, 2005 (NT dollar)\n",
    "* BILL_AMT5: Amount of bill statement in May, 2005 (NT dollar)\n",
    "* BILL_AMT6: Amount of bill statement in April, 2005 (NT dollar)\n",
    "* PAY_AMT1: Amount of previous payment in September, 2005 (NT dollar)\n",
    "* PAY_AMT2: Amount of previous payment in August, 2005 (NT dollar)\n",
    "* PAY_AMT3: Amount of previous payment in July, 2005 (NT dollar)\n",
    "* PAY_AMT4: Amount of previous payment in June, 2005 (NT dollar)\n",
    "* PAY_AMT5: Amount of previous payment in May, 2005 (NT dollar)\n",
    "* PAY_AMT6: Amount of previous payment in April, 2005 (NT dollar)\n",
    "* default.payment.next.month: Default payment (1=yes, 0=no)"
   ]
  },
  {
   "cell_type": "markdown",
   "metadata": {},
   "source": [
    "## 1.3. Explore the data\n",
    "\n",
    "* Examine all the columns to:\n",
    " * Determine what needs mechanical transformation (one-hot, normalization) before we can run it into the Logistic Regressioon\n",
    " * Check for obvious data issues:\n",
    "  * nan and missing data\n",
    "  * outliers\n",
    " \n",
    "* We can do all of these by doing two things:\n",
    " * Examining column type (e.g. string, float, int) - you can do this by examining dtypes attribute of the dataframe\n",
    " * For floats and ints - doing histograms (e.g. using matplotlib)\n",
    "  * You could do it one by one or make it automatic in some way (e.g. for loop)\n",
    " "
   ]
  },
  {
   "cell_type": "code",
   "execution_count": 7,
   "metadata": {},
   "outputs": [
    {
     "data": {
      "text/plain": [
       "ID                              int64\n",
       "LIMIT_BAL                     float64\n",
       "SEX                             int64\n",
       "EDUCATION                       int64\n",
       "MARRIAGE                        int64\n",
       "AGE                             int64\n",
       "PAY_0                           int64\n",
       "PAY_2                           int64\n",
       "PAY_3                           int64\n",
       "PAY_4                           int64\n",
       "PAY_5                           int64\n",
       "PAY_6                           int64\n",
       "BILL_AMT1                     float64\n",
       "BILL_AMT2                     float64\n",
       "BILL_AMT3                     float64\n",
       "BILL_AMT4                     float64\n",
       "BILL_AMT5                     float64\n",
       "BILL_AMT6                     float64\n",
       "PAY_AMT1                      float64\n",
       "PAY_AMT2                      float64\n",
       "PAY_AMT3                      float64\n",
       "PAY_AMT4                      float64\n",
       "PAY_AMT5                      float64\n",
       "PAY_AMT6                      float64\n",
       "default.payment.next.month      int64\n",
       "dtype: object"
      ]
     },
     "metadata": {},
     "output_type": "display_data"
    },
    {
     "data": {
      "text/plain": [
       "'Any nans: False'"
      ]
     },
     "metadata": {},
     "output_type": "display_data"
    },
    {
     "data": {
      "image/png": "[encoded data removed]",
      "text/plain": [
       "<Figure size 432x288 with 1 Axes>"
      ]
     },
     "metadata": {
      "needs_background": "light"
     },
     "output_type": "display_data"
    },
    {
     "data": {
      "image/png": "[encoded data removed]",
      "text/plain": [
       "<Figure size 432x288 with 1 Axes>"
      ]
     },
     "metadata": {
      "needs_background": "light"
     },
     "output_type": "display_data"
    },
    {
     "data": {
      "image/png": "[encoded data removed]",
      "text/plain": [
       "<Figure size 432x288 with 1 Axes>"
      ]
     },
     "metadata": {
      "needs_background": "light"
     },
     "output_type": "display_data"
    },
    {
     "data": {
      "image/png": "[encoded data removed]",
      "text/plain": [
       "<Figure size 432x288 with 1 Axes>"
      ]
     },
     "metadata": {
      "needs_background": "light"
     },
     "output_type": "display_data"
    },
    {
     "data": {
      "image/png": "[encoded data removed]",
      "text/plain": [
       "<Figure size 432x288 with 1 Axes>"
      ]
     },
     "metadata": {
      "needs_background": "light"
     },
     "output_type": "display_data"
    },
    {
     "data": {
      "image/png": "[encoded data removed]",
      "text/plain": [
       "<Figure size 432x288 with 1 Axes>"
      ]
     },
     "metadata": {
      "needs_background": "light"
     },
     "output_type": "display_data"
    },
    {
     "data": {
      "image/png": "[encoded data removed]",
      "text/plain": [
       "<Figure size 432x288 with 1 Axes>"
      ]
     },
     "metadata": {
      "needs_background": "light"
     },
     "output_type": "display_data"
    },
    {
     "data": {
      "image/png": "[encoded data removed]",
      "text/plain": [
       "<Figure size 432x288 with 1 Axes>"
      ]
     },
     "metadata": {
      "needs_background": "light"
     },
     "output_type": "display_data"
    },
    {
     "data": {
      "image/png": "[encoded data removed]",
      "text/plain": [
       "<Figure size 432x288 with 1 Axes>"
      ]
     },
     "metadata": {
      "needs_background": "light"
     },
     "output_type": "display_data"
    },
    {
     "data": {
      "image/png": "[encoded data removed]",
      "text/plain": [
       "<Figure size 432x288 with 1 Axes>"
      ]
     },
     "metadata": {
      "needs_background": "light"
     },
     "output_type": "display_data"
    },
    {
     "data": {
      "image/png": "[encoded data removed]",
      "text/plain": [
       "<Figure size 432x288 with 1 Axes>"
      ]
     },
     "metadata": {
      "needs_background": "light"
     },
     "output_type": "display_data"
    },
    {
     "data": {
      "image/png": "[encoded data removed]",
      "text/plain": [
       "<Figure size 432x288 with 1 Axes>"
      ]
     },
     "metadata": {
      "needs_background": "light"
     },
     "output_type": "display_data"
    },
    {
     "data": {
      "image/png": "[encoded data removed]",
      "text/plain": [
       "<Figure size 432x288 with 1 Axes>"
      ]
     },
     "metadata": {
      "needs_background": "light"
     },
     "output_type": "display_data"
    },
    {
     "data": {
      "image/png": "[encoded data removed]",
      "text/plain": [
       "<Figure size 432x288 with 1 Axes>"
      ]
     },
     "metadata": {
      "needs_background": "light"
     },
     "output_type": "display_data"
    },
    {
     "data": {
      "image/png": "[encoded data removed]",
      "text/plain": [
       "<Figure size 432x288 with 1 Axes>"
      ]
     },
     "metadata": {
      "needs_background": "light"
     },
     "output_type": "display_data"
    },
    {
     "data": {
      "image/png": "[encoded data removed]",
      "text/plain": [
       "<Figure size 432x288 with 1 Axes>"
      ]
     },
     "metadata": {
      "needs_background": "light"
     },
     "output_type": "display_data"
    },
    {
     "data": {
      "image/png": "[encoded data removed]",
      "text/plain": [
       "<Figure size 432x288 with 1 Axes>"
      ]
     },
     "metadata": {
      "needs_background": "light"
     },
     "output_type": "display_data"
    },
    {
     "data": {
      "image/png": "[encoded data removed]",
      "text/plain": [
       "<Figure size 432x288 with 1 Axes>"
      ]
     },
     "metadata": {
      "needs_background": "light"
     },
     "output_type": "display_data"
    },
    {
     "data": {
      "image/png": "[encoded data removed]",
      "text/plain": [
       "<Figure size 432x288 with 1 Axes>"
      ]
     },
     "metadata": {
      "needs_background": "light"
     },
     "output_type": "display_data"
    },
    {
     "data": {
      "image/png": "[encoded data removed]",
      "text/plain": [
       "<Figure size 432x288 with 1 Axes>"
      ]
     },
     "metadata": {
      "needs_background": "light"
     },
     "output_type": "display_data"
    },
    {
     "data": {
      "image/png": "[encoded data removed]",
      "text/plain": [
       "<Figure size 432x288 with 1 Axes>"
      ]
     },
     "metadata": {
      "needs_background": "light"
     },
     "output_type": "display_data"
    },
    {
     "data": {
      "image/png": "[encoded data removed]",
      "text/plain": [
       "<Figure size 432x288 with 1 Axes>"
      ]
     },
     "metadata": {
      "needs_background": "light"
     },
     "output_type": "display_data"
    },
    {
     "data": {
      "image/png": "[encoded data removed]",
      "text/plain": [
       "<Figure size 432x288 with 1 Axes>"
      ]
     },
     "metadata": {
      "needs_background": "light"
     },
     "output_type": "display_data"
    },
    {
     "data": {
      "image/png": "[encoded data removed]",
      "text/plain": [
       "<Figure size 432x288 with 1 Axes>"
      ]
     },
     "metadata": {
      "needs_background": "light"
     },
     "output_type": "display_data"
    },
    {
     "data": {
      "image/png": "[encoded data removed]",
      "text/plain": [
       "<Figure size 432x288 with 1 Axes>"
      ]
     },
     "metadata": {
      "needs_background": "light"
     },
     "output_type": "display_data"
    }
   ],
   "source": [
    "#display column variale types\n",
    "display(df_raw_data.dtypes)\n",
    "\n",
    "#check for nans\n",
    "display(f\"Any nans: {df_raw_data.isnull().values.any()}\")\n",
    "\n",
    "#since every variable is a number, we can simply plot histogram of each,\n",
    "#if this was not the case we'd want to first make all string into numerical representaion first\n",
    "for df_column in df_raw_data.columns:\n",
    "    plt.hist(df_raw_data[df_column], density = True)\n",
    "    plt.title(df_column)\n",
    "    plt.show()"
   ]
  },
  {
   "cell_type": "markdown",
   "metadata": {},
   "source": [
    "___What you should see___:\n",
    "* All data is already numerical\n",
    "* Data is complete: no nan values\n",
    "* There appear to be no outliers\n",
    "* Some variables should be encoded as one-hot"
   ]
  },
  {
   "cell_type": "markdown",
   "metadata": {},
   "source": [
    "## 1.4. Run Mechanical Feature Engineering\n",
    "\n",
    "* Create DataFrameMapper class and assign every column you want to use as feature or output a processing function\n",
    " * You should probably use either StandardScaler (normalizes) or LabelBinarizer (one hot) from preprocessing db\n",
    "* Fit and trasform your DataFrameMapper and save output into numpy_fe numpy array\n",
    "* Optional: feed numpy_fe array into df_fe data frame (you can get column names from your DataFrameMapper object via attribute transformed_names_)\n",
    "* Display first 10 rows for df_fe pandas frame"
   ]
  },
  {
   "cell_type": "code",
   "execution_count": 7,
   "metadata": {},
   "outputs": [
    {
     "name": "stdout",
     "output_type": "stream",
     "text": [
      "DataFrameMapper(default=False, df_out=False,\n",
      "        features=[(['LIMIT_BAL'], StandardScaler(copy=True, with_mean=True, with_std=True)), (['SEX'], LabelBinarizer(neg_label=0, pos_label=1, sparse_output=False)), (['EDUCATION'], LabelBinarizer(neg_label=0, pos_label=1, sparse_output=False)), (['MARRIAGE'], LabelBinarizer(neg_label=0, pos_label=1, spars...ean=True, with_std=True)), (['PAY_AMT6'], StandardScaler(copy=True, with_mean=True, with_std=True))],\n",
      "        input_df=False, sparse=False)\n"
     ]
    },
    {
     "name": "stderr",
     "output_type": "stream",
     "text": [
      "C:\\ML\\anaconda3\\lib\\site-packages\\sklearn\\utils\\validation.py:595: DataConversionWarning: Data with input dtype int64 was converted to float64 by StandardScaler.\n",
      "  warnings.warn(msg, DataConversionWarning)\n",
      "C:\\ML\\anaconda3\\lib\\site-packages\\sklearn\\utils\\validation.py:595: DataConversionWarning: Data with input dtype int64 was converted to float64 by StandardScaler.\n",
      "  warnings.warn(msg, DataConversionWarning)\n"
     ]
    },
    {
     "data": {
      "text/plain": [
       "(30000, 32)"
      ]
     },
     "metadata": {},
     "output_type": "display_data"
    },
    {
     "data": {
      "text/plain": [
       "array([[-1.13672015,  1.        ,  0.        ,  0.        ,  1.        ,\n",
       "         0.        ,  0.        ,  0.        ,  0.        ,  0.        ,\n",
       "         1.        ,  0.        ,  0.        , -1.24601985,  2.        ,\n",
       "         2.        , -1.        , -1.        , -2.        , -2.        ,\n",
       "        -0.64231675, -0.64740314, -0.66799923, -0.67275694, -0.66305853,\n",
       "        -0.65272422, -0.34192533, -0.22708681, -0.29682028, -0.31220477,\n",
       "        -0.31413612, -0.29338206],\n",
       "       [-0.3659805 ,  1.        ,  0.        ,  0.        ,  1.        ,\n",
       "         0.        ,  0.        ,  0.        ,  0.        ,  0.        ,\n",
       "         0.        ,  1.        ,  0.        , -1.02904717, -1.        ,\n",
       "         2.        ,  0.        ,  0.        ,  0.        ,  2.        ,\n",
       "        -0.36614422, -0.66675104, -0.63925926, -0.62188958, -0.60622927,\n",
       "        -0.59796638, -0.34192533, -0.21358883, -0.2400236 , -0.24729522,\n",
       "        -0.31413612, -0.18087821],\n",
       "       [-0.59720239,  1.        ,  0.        ,  0.        ,  1.        ,\n",
       "         0.        ,  0.        ,  0.        ,  0.        ,  0.        ,\n",
       "         0.        ,  1.        ,  0.        , -0.16115646,  0.        ,\n",
       "         0.        ,  0.        ,  0.        ,  0.        ,  0.        ,\n",
       "        -0.29825922, -0.49389853, -0.48240795, -0.4499635 , -0.41718767,\n",
       "        -0.39162956, -0.25027533, -0.19188791, -0.2400236 , -0.24729522,\n",
       "        -0.24868274, -0.01212243],\n",
       "       [-0.90549825,  1.        ,  0.        ,  0.        ,  1.        ,\n",
       "         0.        ,  0.        ,  0.        ,  0.        ,  0.        ,\n",
       "         1.        ,  0.        ,  0.        ,  0.16430256,  0.        ,\n",
       "         0.        ,  0.        ,  0.        ,  0.        ,  0.        ,\n",
       "        -0.05710921, -0.01327807,  0.03286383, -0.23258015, -0.18672897,\n",
       "        -0.15657889, -0.22117434, -0.16936235, -0.22866427, -0.24080426,\n",
       "        -0.24416646, -0.23713013],\n",
       "       [-0.90549825,  0.        ,  0.        ,  0.        ,  1.        ,\n",
       "         0.        ,  0.        ,  0.        ,  0.        ,  0.        ,\n",
       "         1.        ,  0.        ,  0.        ,  2.33402934, -1.        ,\n",
       "         0.        , -1.        ,  0.        ,  0.        ,  0.        ,\n",
       "        -0.5784122 , -0.61132077, -0.16117784, -0.34721827, -0.34813724,\n",
       "        -0.33148158, -0.22117434,  1.33503269,  0.2711465 ,  0.27198116,\n",
       "        -0.26903874, -0.255187  ]])"
      ]
     },
     "metadata": {},
     "output_type": "display_data"
    }
   ],
   "source": [
    "# Assigning every column a transformation, except for PAY_X, since they're already ordinal and we're ok with that\n",
    "# you'll notice we're not transforming ID (by not including it on the list) , since this can't have any value as a signal\n",
    "\n",
    "pipeline_mapper = DataFrameMapper([\n",
    "    (['LIMIT_BAL'], preprocessing.StandardScaler()),\n",
    "    (['SEX'], preprocessing.LabelBinarizer()),\n",
    "    (['EDUCATION'], preprocessing.LabelBinarizer()),\n",
    "    (['MARRIAGE'], preprocessing.LabelBinarizer()),\n",
    "    (['AGE'], preprocessing.StandardScaler()),\n",
    "    (['PAY_0'], None),  \n",
    "    (['PAY_2'], None),  \n",
    "    (['PAY_3'], None),  \n",
    "    (['PAY_4'], None),  \n",
    "    (['PAY_5'], None),  \n",
    "    (['PAY_6'], None),  \n",
    "    (['BILL_AMT1'], preprocessing.StandardScaler()),\n",
    "    (['BILL_AMT2'], preprocessing.StandardScaler()),\n",
    "    (['BILL_AMT3'], preprocessing.StandardScaler()),\n",
    "    (['BILL_AMT4'], preprocessing.StandardScaler()),\n",
    "    (['BILL_AMT5'], preprocessing.StandardScaler()),\n",
    "    (['BILL_AMT6'], preprocessing.StandardScaler()),\n",
    "    (['PAY_AMT1'], preprocessing.StandardScaler()),\n",
    "    (['PAY_AMT2'], preprocessing.StandardScaler()),\n",
    "    (['PAY_AMT3'], preprocessing.StandardScaler()),\n",
    "    (['PAY_AMT4'], preprocessing.StandardScaler()),\n",
    "    (['PAY_AMT5'], preprocessing.StandardScaler()),\n",
    "    (['PAY_AMT6'], preprocessing.StandardScaler()),\n",
    "])\n",
    "\n",
    "print(pipeline_mapper)\n",
    "\n",
    "# transform columns from df_raw_Ddata into numpy_fe array according to our pipeline recipe above\n",
    "numpy_fe_features = pipeline_mapper.fit_transform(df_raw_data)\n",
    "\n",
    "# get list of features from our feature engineered data-frame\n",
    "FEATURES = pipeline_mapper.transformed_names_\n",
    "\n",
    "#OPTIONAL - create new dataframe with transformed variables (in case we want to use it to examine data)\n",
    "# df_fe = pd.DataFrame(data=numpy_fe, columns=FEATURES)\n",
    "\n",
    "display(numpy_fe_features.shape)\n",
    "display(numpy_fe_features[0:5])"
   ]
  },
  {
   "cell_type": "markdown",
   "metadata": {},
   "source": [
    "__What you should see__:\n",
    "\n",
    "* 32 columns, since we hot-encoded a few\n",
    "* a few rows of data\n",
    "* continous variables (e.g. LIMIT_BAL) will have a normalized number, many will be just 0 or 1 (i.e. one-hot)"
   ]
  },
  {
   "cell_type": "markdown",
   "metadata": {},
   "source": [
    "### Engineer data: Split data \n",
    "\n",
    "The idea here is to just feed it into ML algorithm and see how good the prediction is out of the box"
   ]
  },
  {
   "cell_type": "markdown",
   "metadata": {},
   "source": [
    "  ## 1.5. Split the data\n",
    "  \n",
    "* Define what columns are features we want to use and what is target (i.e. default)\n",
    "* Check what share is in default vs not is entire data-set\n",
    "\n",
    "* Split data- our data-set un-balanced (i.e. there is much more category `0` (not defaulted) than `1` (defaulted). We need to:\n",
    " * stratify on target - this guarantees that the splitted data has the same distribution of `0` and `1`\n",
    " * we set our _random state_ to ensure that we can replicate our split\n",
    " * we will keep 20% for test\n",
    " * use X_train, X_test, y_train, y_test variable convention\n",
    "\n",
    "* Check that share of default vs not is same in test and train set as original\n",
    " "
   ]
  },
  {
   "cell_type": "code",
   "execution_count": 7,
   "metadata": {},
   "outputs": [
    {
     "data": {
      "text/plain": [
       "'Orginal distribution'"
      ]
     },
     "metadata": {},
     "output_type": "display_data"
    },
    {
     "data": {
      "text/html": [
       "<div>\n",
       "<style scoped>\n",
       "    .dataframe tbody tr th:only-of-type {\n",
       "        vertical-align: middle;\n",
       "    }\n",
       "\n",
       "    .dataframe tbody tr th {\n",
       "        vertical-align: top;\n",
       "    }\n",
       "\n",
       "    .dataframe thead th {\n",
       "        text-align: right;\n",
       "    }\n",
       "</style>\n",
       "<table border=\"1\" class=\"dataframe\">\n",
       "  <thead>\n",
       "    <tr style=\"text-align: right;\">\n",
       "      <th></th>\n",
       "      <th>counts</th>\n",
       "      <th>freqs</th>\n",
       "    </tr>\n",
       "    <tr>\n",
       "      <th>categories</th>\n",
       "      <th></th>\n",
       "      <th></th>\n",
       "    </tr>\n",
       "  </thead>\n",
       "  <tbody>\n",
       "    <tr>\n",
       "      <th>0</th>\n",
       "      <td>23171</td>\n",
       "      <td>0.772367</td>\n",
       "    </tr>\n",
       "    <tr>\n",
       "      <th>1</th>\n",
       "      <td>6829</td>\n",
       "      <td>0.227633</td>\n",
       "    </tr>\n",
       "  </tbody>\n",
       "</table>\n",
       "</div>"
      ],
      "text/plain": [
       "            counts     freqs\n",
       "categories                  \n",
       "0            23171  0.772367\n",
       "1             6829  0.227633"
      ]
     },
     "metadata": {},
     "output_type": "display_data"
    },
    {
     "data": {
      "text/plain": [
       "'Split in training set'"
      ]
     },
     "metadata": {},
     "output_type": "display_data"
    },
    {
     "data": {
      "text/html": [
       "<div>\n",
       "<style scoped>\n",
       "    .dataframe tbody tr th:only-of-type {\n",
       "        vertical-align: middle;\n",
       "    }\n",
       "\n",
       "    .dataframe tbody tr th {\n",
       "        vertical-align: top;\n",
       "    }\n",
       "\n",
       "    .dataframe thead th {\n",
       "        text-align: right;\n",
       "    }\n",
       "</style>\n",
       "<table border=\"1\" class=\"dataframe\">\n",
       "  <thead>\n",
       "    <tr style=\"text-align: right;\">\n",
       "      <th></th>\n",
       "      <th>counts</th>\n",
       "      <th>freqs</th>\n",
       "    </tr>\n",
       "    <tr>\n",
       "      <th>categories</th>\n",
       "      <th></th>\n",
       "      <th></th>\n",
       "    </tr>\n",
       "  </thead>\n",
       "  <tbody>\n",
       "    <tr>\n",
       "      <th>0</th>\n",
       "      <td>18537</td>\n",
       "      <td>0.772375</td>\n",
       "    </tr>\n",
       "    <tr>\n",
       "      <th>1</th>\n",
       "      <td>5463</td>\n",
       "      <td>0.227625</td>\n",
       "    </tr>\n",
       "  </tbody>\n",
       "</table>\n",
       "</div>"
      ],
      "text/plain": [
       "            counts     freqs\n",
       "categories                  \n",
       "0            18537  0.772375\n",
       "1             5463  0.227625"
      ]
     },
     "metadata": {},
     "output_type": "display_data"
    },
    {
     "data": {
      "text/plain": [
       "'Split in test set'"
      ]
     },
     "metadata": {},
     "output_type": "display_data"
    },
    {
     "data": {
      "text/html": [
       "<div>\n",
       "<style scoped>\n",
       "    .dataframe tbody tr th:only-of-type {\n",
       "        vertical-align: middle;\n",
       "    }\n",
       "\n",
       "    .dataframe tbody tr th {\n",
       "        vertical-align: top;\n",
       "    }\n",
       "\n",
       "    .dataframe thead th {\n",
       "        text-align: right;\n",
       "    }\n",
       "</style>\n",
       "<table border=\"1\" class=\"dataframe\">\n",
       "  <thead>\n",
       "    <tr style=\"text-align: right;\">\n",
       "      <th></th>\n",
       "      <th>counts</th>\n",
       "      <th>freqs</th>\n",
       "    </tr>\n",
       "    <tr>\n",
       "      <th>categories</th>\n",
       "      <th></th>\n",
       "      <th></th>\n",
       "    </tr>\n",
       "  </thead>\n",
       "  <tbody>\n",
       "    <tr>\n",
       "      <th>0</th>\n",
       "      <td>4634</td>\n",
       "      <td>0.772333</td>\n",
       "    </tr>\n",
       "    <tr>\n",
       "      <th>1</th>\n",
       "      <td>1366</td>\n",
       "      <td>0.227667</td>\n",
       "    </tr>\n",
       "  </tbody>\n",
       "</table>\n",
       "</div>"
      ],
      "text/plain": [
       "            counts     freqs\n",
       "categories                  \n",
       "0             4634  0.772333\n",
       "1             1366  0.227667"
      ]
     },
     "metadata": {},
     "output_type": "display_data"
    }
   ],
   "source": [
    "# We use capitals for constant variables\n",
    "TARGET = 'default.payment.next.month'\n",
    "\n",
    "#create numpy target \n",
    "numpy_target = df_raw_data[TARGET].values\n",
    "\n",
    "#Original distribution\n",
    "display(\"Orginal distribution\")\n",
    "display(pd.Categorical(df_raw_data[TARGET]).describe())\n",
    "\n",
    "# The function train_test_split, splits the arguments into two sets.\n",
    "X_train, X_test, y_train, y_test = sklearn.model_selection.train_test_split(\n",
    "    numpy_fe_features, numpy_target, test_size=0.2, random_state=42, stratify=numpy_target)\n",
    "\n",
    "# Lets verify that our splitting has the same distribution\n",
    "display(\"Split in training set\")\n",
    "display(pd.Categorical(y_train).describe())\n",
    "display(\"Split in test set\")\n",
    "display(pd.Categorical(y_test).describe())"
   ]
  },
  {
   "cell_type": "markdown",
   "metadata": {},
   "source": [
    "___What you should see___:\n",
    "\n",
    "* Original distribution has 77% to 23% share of non-default to default\n",
    "* Train and test set have same split\n",
    "* 24,000 entries in train set and 6,000 in test set"
   ]
  },
  {
   "cell_type": "markdown",
   "metadata": {},
   "source": [
    "## 1.6. Develop model: Train and test logistic regression\n",
    "To train and test the base-line model we look at the type of prediction problem we are dealing with. The target is 0 or 1 which is a binary variable. \n",
    "As such our algorithm needs to be able to predict this. A logistic regression is an algorithm that allows to predict binary variable. \n",
    "\n",
    "*Note for statistics geeks only: The implementation of the algorithm in Python's scikit-learn is not based on ordinary least square or maximum likelihood estimator, which would be the case in R or SAS. SciKit learn implementation penalizes complexity (i.e. regularizes)\n",
    "\n",
    "___Steps___:\n",
    "* Create linear_model object\n",
    "* Train (i.e. fit) model using X_train and y_train\n",
    "* Use predict to predict target for unseen data (test) - call that output y_hat_test\n",
    " * test set y_hat_test\n",
    "* Display accuracy\n",
    "* Display au_roc \n",
    "* Display confusion matrix"
   ]
  },
  {
   "cell_type": "code",
   "execution_count": 8,
   "metadata": {},
   "outputs": [
    {
     "name": "stderr",
     "output_type": "stream",
     "text": [
      "C:\\ML\\anaconda3\\lib\\site-packages\\sklearn\\linear_model\\logistic.py:433: FutureWarning: Default solver will be changed to 'lbfgs' in 0.22. Specify a solver to silence this warning.\n",
      "  FutureWarning)\n"
     ]
    },
    {
     "data": {
      "text/markdown": [
       "###### Performance on test set"
      ],
      "text/plain": [
       "<IPython.core.display.Markdown object>"
      ]
     },
     "metadata": {},
     "output_type": "display_data"
    },
    {
     "data": {
      "text/plain": [
       "'Linear model test set accuracy: 0.8307'"
      ]
     },
     "metadata": {},
     "output_type": "display_data"
    },
    {
     "data": {
      "text/markdown": [
       "Linear model predicion distribution:"
      ],
      "text/plain": [
       "<IPython.core.display.Markdown object>"
      ]
     },
     "metadata": {},
     "output_type": "display_data"
    },
    {
     "data": {
      "text/html": [
       "<div>\n",
       "<style scoped>\n",
       "    .dataframe tbody tr th:only-of-type {\n",
       "        vertical-align: middle;\n",
       "    }\n",
       "\n",
       "    .dataframe tbody tr th {\n",
       "        vertical-align: top;\n",
       "    }\n",
       "\n",
       "    .dataframe thead th {\n",
       "        text-align: right;\n",
       "    }\n",
       "</style>\n",
       "<table border=\"1\" class=\"dataframe\">\n",
       "  <thead>\n",
       "    <tr style=\"text-align: right;\">\n",
       "      <th></th>\n",
       "      <th>counts</th>\n",
       "      <th>freqs</th>\n",
       "    </tr>\n",
       "    <tr>\n",
       "      <th>categories</th>\n",
       "      <th></th>\n",
       "      <th></th>\n",
       "    </tr>\n",
       "  </thead>\n",
       "  <tbody>\n",
       "    <tr>\n",
       "      <th>0</th>\n",
       "      <td>5258</td>\n",
       "      <td>0.876333</td>\n",
       "    </tr>\n",
       "    <tr>\n",
       "      <th>1</th>\n",
       "      <td>742</td>\n",
       "      <td>0.123667</td>\n",
       "    </tr>\n",
       "  </tbody>\n",
       "</table>\n",
       "</div>"
      ],
      "text/plain": [
       "            counts     freqs\n",
       "categories                  \n",
       "0             5258  0.876333\n",
       "1              742  0.123667"
      ]
     },
     "metadata": {},
     "output_type": "display_data"
    },
    {
     "data": {
      "text/markdown": [
       "\n",
       "\n",
       "auROC is: 82.25"
      ],
      "text/plain": [
       "<IPython.core.display.Markdown object>"
      ]
     },
     "metadata": {},
     "output_type": "display_data"
    },
    {
     "data": {
      "text/html": [
       "<div>\n",
       "<style scoped>\n",
       "    .dataframe tbody tr th:only-of-type {\n",
       "        vertical-align: middle;\n",
       "    }\n",
       "\n",
       "    .dataframe tbody tr th {\n",
       "        vertical-align: top;\n",
       "    }\n",
       "\n",
       "    .dataframe thead th {\n",
       "        text-align: right;\n",
       "    }\n",
       "</style>\n",
       "<table border=\"1\" class=\"dataframe\">\n",
       "  <thead>\n",
       "    <tr style=\"text-align: right;\">\n",
       "      <th></th>\n",
       "      <th>Predicted Not Default</th>\n",
       "      <th>Predicted to Default</th>\n",
       "    </tr>\n",
       "  </thead>\n",
       "  <tbody>\n",
       "    <tr>\n",
       "      <th>Actual Not Default</th>\n",
       "      <td>4438</td>\n",
       "      <td>196</td>\n",
       "    </tr>\n",
       "    <tr>\n",
       "      <th>Actual Default</th>\n",
       "      <td>820</td>\n",
       "      <td>546</td>\n",
       "    </tr>\n",
       "  </tbody>\n",
       "</table>\n",
       "</div>"
      ],
      "text/plain": [
       "                    Predicted Not Default  Predicted to Default\n",
       "Actual Not Default                   4438                   196\n",
       "Actual Default                        820                   546"
      ]
     },
     "metadata": {},
     "output_type": "display_data"
    }
   ],
   "source": [
    "# Run Logistic Regression Training\n",
    "linear_model = sklearn.linear_model.LogisticRegression(random_state=42)\n",
    "linear_model.fit(X_train, y_train)\n",
    "\n",
    "\n",
    "display(Markdown('###### Performance on test set'))\n",
    "#create prediciton\n",
    "y_hat_test = linear_model.predict(X_test)\n",
    "y_hat_test_proba = linear_model.predict_proba(X_test)\n",
    "\n",
    "# Accuracy\n",
    "lr_accuracy = sklearn.metrics.accuracy_score(y_test, y_hat_test)\n",
    "display('Linear model test set accuracy: {:.4f}'.format(lr_accuracy))\n",
    "display(Markdown('Linear model predicion distribution:'))\n",
    "display(pd.Categorical(y_hat_test).describe())\n",
    "\n",
    "# AuRoc\n",
    "false_positive_rate, true_positive_rate, thresholds = roc_curve(y_test, y_hat_test_proba[:,1])\n",
    "AuROC = sklearn.metrics.auc(false_positive_rate, true_positive_rate)\n",
    "display(Markdown('\\n\\nauROC is: {:.2f}'.format(AuROC * 100)))\n",
    "\n",
    "# Confusion matrix\n",
    "display(pd.DataFrame(confusion_matrix(y_test, y_hat_test), \n",
    "             columns=['Predicted Not Default', 'Predicted to Default'],\n",
    "             index=['Actual Not Default', 'Actual Default']))\n"
   ]
  },
  {
   "cell_type": "markdown",
   "metadata": {},
   "source": [
    "__What you should see:__\n",
    "\n",
    "* You should see Logistic regression accuracy is at ~80% \n",
    " * This is very close to frequency of non-defaults (77%)\n",
    "* If you look at distribution of predicitons you will see that only 12% of the time it guesses default (vs 23% in the population)\n",
    " * In other words, it's  saying for ~90% of unseen samples, it's just going for safe bet of saying they won't default\n",
    " \n",
    "* auROC measure is 82 which is pretty good actually\n",
    "\n",
    "* This is pretty good performance on the first try, but we should dig deeper to make sure data we're using is solid \n"
   ]
  },
  {
   "cell_type": "code",
   "execution_count": 9,
   "metadata": {},
   "outputs": [
    {
     "data": {
      "image/png": "[encoded data removed]",
      "text/plain": [
       "<Figure size 432x288 with 1 Axes>"
      ]
     },
     "metadata": {
      "needs_background": "light"
     },
     "output_type": "display_data"
    }
   ],
   "source": [
    "#ROC chart\n",
    "plt.plot(false_positive_rate, true_positive_rate, color='darkorange', label='ROC curve (area = %0.2f)' % AuROC)\n",
    "plt.plot([0, 1], [0, 1], color='navy', linestyle='--')\n",
    "plt.xlim([0.0, 1.0])\n",
    "plt.ylim([0.0, 1.05])\n",
    "plt.xlabel('False Positive Rate')\n",
    "plt.ylabel('True Positive Rate')\n",
    "plt.title('ROC')\n",
    "plt.legend(loc=\"lower right\")\n",
    "plt.show()"
   ]
  },
  {
   "cell_type": "markdown",
   "metadata": {},
   "source": [
    "___What you should see:__\n",
    "\n",
    "* RoC curve, with AuROC displayed\n",
    "* Nothing terribly suspicious here - it stays a little too close to the Y-axis wall, but otherwise OK"
   ]
  },
  {
   "cell_type": "markdown",
   "metadata": {},
   "source": [
    "## 1.7. Exploring the coeficients\n",
    "\n",
    "Idea here is to see what the model picked-up to get better understanding why it's having a hard time in predicting defaults. It could be coomplex data relationship or maybe data is not very clean. We'll do two things here:\n",
    "\n",
    "___Steps:___\n",
    "\n",
    "* Get logistic regression coeficients (stored in your linear model object under attribute coef_[0])\n",
    "* Sort coefficients from smallest (not default signals) to biggest (default signal)"
   ]
  },
  {
   "cell_type": "code",
   "execution_count": 10,
   "metadata": {},
   "outputs": [
    {
     "data": {
      "text/html": [
       "<div>\n",
       "<style scoped>\n",
       "    .dataframe tbody tr th:only-of-type {\n",
       "        vertical-align: middle;\n",
       "    }\n",
       "\n",
       "    .dataframe tbody tr th {\n",
       "        vertical-align: top;\n",
       "    }\n",
       "\n",
       "    .dataframe thead th {\n",
       "        text-align: right;\n",
       "    }\n",
       "</style>\n",
       "<table border=\"1\" class=\"dataframe\">\n",
       "  <thead>\n",
       "    <tr style=\"text-align: right;\">\n",
       "      <th></th>\n",
       "      <th>features</th>\n",
       "      <th>coeficients</th>\n",
       "    </tr>\n",
       "  </thead>\n",
       "  <tbody>\n",
       "    <tr>\n",
       "      <th>9</th>\n",
       "      <td>MARRIAGE_0</td>\n",
       "      <td>-1.161863</td>\n",
       "    </tr>\n",
       "    <tr>\n",
       "      <th>21</th>\n",
       "      <td>BILL_AMT2</td>\n",
       "      <td>-0.787341</td>\n",
       "    </tr>\n",
       "    <tr>\n",
       "      <th>2</th>\n",
       "      <td>EDUCATION_0</td>\n",
       "      <td>-0.716659</td>\n",
       "    </tr>\n",
       "    <tr>\n",
       "      <th>6</th>\n",
       "      <td>EDUCATION_4</td>\n",
       "      <td>-0.397074</td>\n",
       "    </tr>\n",
       "    <tr>\n",
       "      <th>7</th>\n",
       "      <td>EDUCATION_5</td>\n",
       "      <td>-0.387071</td>\n",
       "    </tr>\n",
       "    <tr>\n",
       "      <th>27</th>\n",
       "      <td>PAY_AMT2</td>\n",
       "      <td>-0.369859</td>\n",
       "    </tr>\n",
       "    <tr>\n",
       "      <th>0</th>\n",
       "      <td>LIMIT_BAL</td>\n",
       "      <td>-0.351256</td>\n",
       "    </tr>\n",
       "    <tr>\n",
       "      <th>26</th>\n",
       "      <td>PAY_AMT1</td>\n",
       "      <td>-0.288632</td>\n",
       "    </tr>\n",
       "    <tr>\n",
       "      <th>11</th>\n",
       "      <td>MARRIAGE_2</td>\n",
       "      <td>-0.208339</td>\n",
       "    </tr>\n",
       "    <tr>\n",
       "      <th>23</th>\n",
       "      <td>BILL_AMT4</td>\n",
       "      <td>-0.173352</td>\n",
       "    </tr>\n",
       "    <tr>\n",
       "      <th>8</th>\n",
       "      <td>EDUCATION_6</td>\n",
       "      <td>-0.170978</td>\n",
       "    </tr>\n",
       "    <tr>\n",
       "      <th>10</th>\n",
       "      <td>MARRIAGE_1</td>\n",
       "      <td>-0.149378</td>\n",
       "    </tr>\n",
       "    <tr>\n",
       "      <th>1</th>\n",
       "      <td>SEX</td>\n",
       "      <td>-0.098475</td>\n",
       "    </tr>\n",
       "    <tr>\n",
       "      <th>31</th>\n",
       "      <td>PAY_AMT6</td>\n",
       "      <td>-0.076721</td>\n",
       "    </tr>\n",
       "    <tr>\n",
       "      <th>30</th>\n",
       "      <td>PAY_AMT5</td>\n",
       "      <td>-0.063003</td>\n",
       "    </tr>\n",
       "    <tr>\n",
       "      <th>24</th>\n",
       "      <td>BILL_AMT5</td>\n",
       "      <td>-0.058585</td>\n",
       "    </tr>\n",
       "    <tr>\n",
       "      <th>29</th>\n",
       "      <td>PAY_AMT4</td>\n",
       "      <td>-0.048870</td>\n",
       "    </tr>\n",
       "    <tr>\n",
       "      <th>18</th>\n",
       "      <td>PAY_5</td>\n",
       "      <td>-0.004898</td>\n",
       "    </tr>\n",
       "    <tr>\n",
       "      <th>19</th>\n",
       "      <td>PAY_6</td>\n",
       "      <td>0.003665</td>\n",
       "    </tr>\n",
       "    <tr>\n",
       "      <th>28</th>\n",
       "      <td>PAY_AMT3</td>\n",
       "      <td>0.009948</td>\n",
       "    </tr>\n",
       "    <tr>\n",
       "      <th>17</th>\n",
       "      <td>PAY_4</td>\n",
       "      <td>0.014248</td>\n",
       "    </tr>\n",
       "    <tr>\n",
       "      <th>25</th>\n",
       "      <td>BILL_AMT6</td>\n",
       "      <td>0.019722</td>\n",
       "    </tr>\n",
       "    <tr>\n",
       "      <th>4</th>\n",
       "      <td>EDUCATION_2</td>\n",
       "      <td>0.051485</td>\n",
       "    </tr>\n",
       "    <tr>\n",
       "      <th>5</th>\n",
       "      <td>EDUCATION_3</td>\n",
       "      <td>0.065763</td>\n",
       "    </tr>\n",
       "    <tr>\n",
       "      <th>12</th>\n",
       "      <td>MARRIAGE_3</td>\n",
       "      <td>0.096084</td>\n",
       "    </tr>\n",
       "    <tr>\n",
       "      <th>22</th>\n",
       "      <td>BILL_AMT3</td>\n",
       "      <td>0.109564</td>\n",
       "    </tr>\n",
       "    <tr>\n",
       "      <th>15</th>\n",
       "      <td>PAY_2</td>\n",
       "      <td>0.125184</td>\n",
       "    </tr>\n",
       "    <tr>\n",
       "      <th>3</th>\n",
       "      <td>EDUCATION_1</td>\n",
       "      <td>0.131040</td>\n",
       "    </tr>\n",
       "    <tr>\n",
       "      <th>16</th>\n",
       "      <td>PAY_3</td>\n",
       "      <td>0.139810</td>\n",
       "    </tr>\n",
       "    <tr>\n",
       "      <th>13</th>\n",
       "      <td>AGE</td>\n",
       "      <td>0.244923</td>\n",
       "    </tr>\n",
       "    <tr>\n",
       "      <th>14</th>\n",
       "      <td>PAY_0</td>\n",
       "      <td>0.760802</td>\n",
       "    </tr>\n",
       "    <tr>\n",
       "      <th>20</th>\n",
       "      <td>BILL_AMT1</td>\n",
       "      <td>1.155410</td>\n",
       "    </tr>\n",
       "  </tbody>\n",
       "</table>\n",
       "</div>"
      ],
      "text/plain": [
       "       features  coeficients\n",
       "9    MARRIAGE_0    -1.161863\n",
       "21    BILL_AMT2    -0.787341\n",
       "2   EDUCATION_0    -0.716659\n",
       "6   EDUCATION_4    -0.397074\n",
       "7   EDUCATION_5    -0.387071\n",
       "27     PAY_AMT2    -0.369859\n",
       "0     LIMIT_BAL    -0.351256\n",
       "26     PAY_AMT1    -0.288632\n",
       "11   MARRIAGE_2    -0.208339\n",
       "23    BILL_AMT4    -0.173352\n",
       "8   EDUCATION_6    -0.170978\n",
       "10   MARRIAGE_1    -0.149378\n",
       "1           SEX    -0.098475\n",
       "31     PAY_AMT6    -0.076721\n",
       "30     PAY_AMT5    -0.063003\n",
       "24    BILL_AMT5    -0.058585\n",
       "29     PAY_AMT4    -0.048870\n",
       "18        PAY_5    -0.004898\n",
       "19        PAY_6     0.003665\n",
       "28     PAY_AMT3     0.009948\n",
       "17        PAY_4     0.014248\n",
       "25    BILL_AMT6     0.019722\n",
       "4   EDUCATION_2     0.051485\n",
       "5   EDUCATION_3     0.065763\n",
       "12   MARRIAGE_3     0.096084\n",
       "22    BILL_AMT3     0.109564\n",
       "15        PAY_2     0.125184\n",
       "3   EDUCATION_1     0.131040\n",
       "16        PAY_3     0.139810\n",
       "13          AGE     0.244923\n",
       "14        PAY_0     0.760802\n",
       "20    BILL_AMT1     1.155410"
      ]
     },
     "metadata": {},
     "output_type": "display_data"
    }
   ],
   "source": [
    "# get intercept\n",
    "# intercept = linear_model.intercept_\n",
    "\n",
    "# Get coefficients (same order as features fed into Logistic Regression) and build table\n",
    "# put it in a nice dataframe and sort from most impact to least, sicne raw print-out is ugly\n",
    "named_coefs = pd.DataFrame({\n",
    "    'features': FEATURES,\n",
    "    'coeficients': linear_model.coef_[0]\n",
    "}).sort_values('coeficients')\n",
    "\n",
    "display(named_coefs)"
   ]
  },
  {
   "cell_type": "markdown",
   "metadata": {},
   "source": [
    "___You should see___:\n",
    "* Coefficients with weights:\n",
    "\n",
    "* Most likely to lead to not defaulting\n",
    " * MARRIAGE_0 - unlcear what this means, our dictionary says 1,2, 3 are proper values - odd\n",
    " * BILL_AMT2 - very odd, why the bigger your bill the less likely you are to default?\n",
    " * EDUCATION_0,4,6 - very odd again - all of these are undefined values\n",
    " * PAY_AMT2 - the more you pay the less likely to defualt - makes sense\n",
    " * LIMIT_BAL - folks wil large credit default less - we probably do a good job of increasig creditr limit\n",
    "\n",
    "* Most likely to lead to defaulting:\n",
    " * EDUCATION_1 - having grad school degree - weird\n",
    " * PAY_3 - the more late bills you had 3 months ago the more likeley to default - makes sense\n",
    " * AGE - older defaults more often - weird!\n",
    " * PAY_0 - the more late bills you have more recently, the more likely to default - makes sense\n",
    " * BILL_AMT1 - the bigger most recent bill the more likely to default\n",
    " \n",
    " \n",
    "* Overall - much of this stuff seems odd:\n",
    " * Could be data is dirty\n",
    " * Could be we have lots of colinearity that's confusing it - maybe we drop variables\n",
    " * Could be Logistic Regression has a hard time when data not properly data engineered\n",
    " * Could be a very nuanced signal that is not linear (so will need a different ML approach)"
   ]
  },
  {
   "cell_type": "markdown",
   "metadata": {},
   "source": [
    "## 1.8 Deep Dive into Data\n",
    "\n",
    "__A few ideas based on above:__\n",
    "\n",
    "* Biographic (all are either postively or negatively predictive) - let's simply look at cross-tabs\n",
    " * Gender\n",
    " * Education\n",
    " * Age (probably good idea to bin into 20s, 30s, 40s, 50s, etc.)\n",
    " * Marital status\n",
    " \n",
    "* Simple Behavioral\n",
    " * Ammount of dollars owned (BILL_AMT)\n",
    " * Number of payments late (PAY_X) - let's look at most recent (PAY_0), since most predictive\n",
    " \n",
    "* Statistics  check:\n",
    " * Make sure we don't have a ton of co-linearity: \n",
    "  * PAY_X most likely at fault\n",
    " \n",
    " __We'll use df_raw_data (vs feature engineered numpy array) as pandas more user friendly__\n",
    " "
   ]
  },
  {
   "cell_type": "code",
   "execution_count": 11,
   "metadata": {
    "scrolled": true
   },
   "outputs": [
    {
     "data": {
      "text/markdown": [
       "##### Gender"
      ],
      "text/plain": [
       "<IPython.core.display.Markdown object>"
      ]
     },
     "metadata": {},
     "output_type": "display_data"
    },
    {
     "data": {
      "text/html": [
       "<div>\n",
       "<style scoped>\n",
       "    .dataframe tbody tr th:only-of-type {\n",
       "        vertical-align: middle;\n",
       "    }\n",
       "\n",
       "    .dataframe tbody tr th {\n",
       "        vertical-align: top;\n",
       "    }\n",
       "\n",
       "    .dataframe thead th {\n",
       "        text-align: right;\n",
       "    }\n",
       "</style>\n",
       "<table border=\"1\" class=\"dataframe\">\n",
       "  <thead>\n",
       "    <tr style=\"text-align: right;\">\n",
       "      <th>default.payment.next.month</th>\n",
       "      <th>0</th>\n",
       "      <th>1</th>\n",
       "    </tr>\n",
       "    <tr>\n",
       "      <th>SEX</th>\n",
       "      <th></th>\n",
       "      <th></th>\n",
       "    </tr>\n",
       "  </thead>\n",
       "  <tbody>\n",
       "    <tr>\n",
       "      <th>1</th>\n",
       "      <td>0.742177</td>\n",
       "      <td>0.257823</td>\n",
       "    </tr>\n",
       "    <tr>\n",
       "      <th>2</th>\n",
       "      <td>0.792182</td>\n",
       "      <td>0.207818</td>\n",
       "    </tr>\n",
       "    <tr>\n",
       "      <th>All</th>\n",
       "      <td>0.772367</td>\n",
       "      <td>0.227633</td>\n",
       "    </tr>\n",
       "  </tbody>\n",
       "</table>\n",
       "</div>"
      ],
      "text/plain": [
       "default.payment.next.month         0         1\n",
       "SEX                                           \n",
       "1                           0.742177  0.257823\n",
       "2                           0.792182  0.207818\n",
       "All                         0.772367  0.227633"
      ]
     },
     "metadata": {},
     "output_type": "display_data"
    },
    {
     "data": {
      "text/markdown": [
       "##### Education"
      ],
      "text/plain": [
       "<IPython.core.display.Markdown object>"
      ]
     },
     "metadata": {},
     "output_type": "display_data"
    },
    {
     "data": {
      "text/html": [
       "<div>\n",
       "<style scoped>\n",
       "    .dataframe tbody tr th:only-of-type {\n",
       "        vertical-align: middle;\n",
       "    }\n",
       "\n",
       "    .dataframe tbody tr th {\n",
       "        vertical-align: top;\n",
       "    }\n",
       "\n",
       "    .dataframe thead th {\n",
       "        text-align: right;\n",
       "    }\n",
       "</style>\n",
       "<table border=\"1\" class=\"dataframe\">\n",
       "  <thead>\n",
       "    <tr style=\"text-align: right;\">\n",
       "      <th>default.payment.next.month</th>\n",
       "      <th>0</th>\n",
       "      <th>1</th>\n",
       "    </tr>\n",
       "    <tr>\n",
       "      <th>EDUCATION</th>\n",
       "      <th></th>\n",
       "      <th></th>\n",
       "    </tr>\n",
       "  </thead>\n",
       "  <tbody>\n",
       "    <tr>\n",
       "      <th>0</th>\n",
       "      <td>1.000000</td>\n",
       "      <td>0.000000</td>\n",
       "    </tr>\n",
       "    <tr>\n",
       "      <th>1</th>\n",
       "      <td>0.822107</td>\n",
       "      <td>0.177893</td>\n",
       "    </tr>\n",
       "    <tr>\n",
       "      <th>2</th>\n",
       "      <td>0.753457</td>\n",
       "      <td>0.246543</td>\n",
       "    </tr>\n",
       "    <tr>\n",
       "      <th>3</th>\n",
       "      <td>0.710596</td>\n",
       "      <td>0.289404</td>\n",
       "    </tr>\n",
       "    <tr>\n",
       "      <th>4</th>\n",
       "      <td>0.910569</td>\n",
       "      <td>0.089431</td>\n",
       "    </tr>\n",
       "    <tr>\n",
       "      <th>5</th>\n",
       "      <td>0.857143</td>\n",
       "      <td>0.142857</td>\n",
       "    </tr>\n",
       "    <tr>\n",
       "      <th>6</th>\n",
       "      <td>0.745098</td>\n",
       "      <td>0.254902</td>\n",
       "    </tr>\n",
       "    <tr>\n",
       "      <th>All</th>\n",
       "      <td>0.772367</td>\n",
       "      <td>0.227633</td>\n",
       "    </tr>\n",
       "  </tbody>\n",
       "</table>\n",
       "</div>"
      ],
      "text/plain": [
       "default.payment.next.month         0         1\n",
       "EDUCATION                                     \n",
       "0                           1.000000  0.000000\n",
       "1                           0.822107  0.177893\n",
       "2                           0.753457  0.246543\n",
       "3                           0.710596  0.289404\n",
       "4                           0.910569  0.089431\n",
       "5                           0.857143  0.142857\n",
       "6                           0.745098  0.254902\n",
       "All                         0.772367  0.227633"
      ]
     },
     "metadata": {},
     "output_type": "display_data"
    },
    {
     "data": {
      "text/markdown": [
       "##### Marital status"
      ],
      "text/plain": [
       "<IPython.core.display.Markdown object>"
      ]
     },
     "metadata": {},
     "output_type": "display_data"
    },
    {
     "data": {
      "text/html": [
       "<div>\n",
       "<style scoped>\n",
       "    .dataframe tbody tr th:only-of-type {\n",
       "        vertical-align: middle;\n",
       "    }\n",
       "\n",
       "    .dataframe tbody tr th {\n",
       "        vertical-align: top;\n",
       "    }\n",
       "\n",
       "    .dataframe thead th {\n",
       "        text-align: right;\n",
       "    }\n",
       "</style>\n",
       "<table border=\"1\" class=\"dataframe\">\n",
       "  <thead>\n",
       "    <tr style=\"text-align: right;\">\n",
       "      <th>default.payment.next.month</th>\n",
       "      <th>0</th>\n",
       "      <th>1</th>\n",
       "    </tr>\n",
       "    <tr>\n",
       "      <th>MARRIAGE</th>\n",
       "      <th></th>\n",
       "      <th></th>\n",
       "    </tr>\n",
       "  </thead>\n",
       "  <tbody>\n",
       "    <tr>\n",
       "      <th>0</th>\n",
       "      <td>0.888889</td>\n",
       "      <td>0.111111</td>\n",
       "    </tr>\n",
       "    <tr>\n",
       "      <th>1</th>\n",
       "      <td>0.758328</td>\n",
       "      <td>0.241672</td>\n",
       "    </tr>\n",
       "    <tr>\n",
       "      <th>2</th>\n",
       "      <td>0.786457</td>\n",
       "      <td>0.213543</td>\n",
       "    </tr>\n",
       "    <tr>\n",
       "      <th>3</th>\n",
       "      <td>0.650155</td>\n",
       "      <td>0.349845</td>\n",
       "    </tr>\n",
       "    <tr>\n",
       "      <th>All</th>\n",
       "      <td>0.772367</td>\n",
       "      <td>0.227633</td>\n",
       "    </tr>\n",
       "  </tbody>\n",
       "</table>\n",
       "</div>"
      ],
      "text/plain": [
       "default.payment.next.month         0         1\n",
       "MARRIAGE                                      \n",
       "0                           0.888889  0.111111\n",
       "1                           0.758328  0.241672\n",
       "2                           0.786457  0.213543\n",
       "3                           0.650155  0.349845\n",
       "All                         0.772367  0.227633"
      ]
     },
     "metadata": {},
     "output_type": "display_data"
    },
    {
     "data": {
      "text/html": [
       "<div>\n",
       "<style scoped>\n",
       "    .dataframe tbody tr th:only-of-type {\n",
       "        vertical-align: middle;\n",
       "    }\n",
       "\n",
       "    .dataframe tbody tr th {\n",
       "        vertical-align: top;\n",
       "    }\n",
       "\n",
       "    .dataframe thead th {\n",
       "        text-align: right;\n",
       "    }\n",
       "</style>\n",
       "<table border=\"1\" class=\"dataframe\">\n",
       "  <thead>\n",
       "    <tr style=\"text-align: right;\">\n",
       "      <th>default.payment.next.month</th>\n",
       "      <th>0</th>\n",
       "      <th>1</th>\n",
       "      <th>All</th>\n",
       "    </tr>\n",
       "    <tr>\n",
       "      <th>MARRIAGE</th>\n",
       "      <th></th>\n",
       "      <th></th>\n",
       "      <th></th>\n",
       "    </tr>\n",
       "  </thead>\n",
       "  <tbody>\n",
       "    <tr>\n",
       "      <th>0</th>\n",
       "      <td>48</td>\n",
       "      <td>6</td>\n",
       "      <td>54</td>\n",
       "    </tr>\n",
       "    <tr>\n",
       "      <th>1</th>\n",
       "      <td>10358</td>\n",
       "      <td>3301</td>\n",
       "      <td>13659</td>\n",
       "    </tr>\n",
       "    <tr>\n",
       "      <th>2</th>\n",
       "      <td>12555</td>\n",
       "      <td>3409</td>\n",
       "      <td>15964</td>\n",
       "    </tr>\n",
       "    <tr>\n",
       "      <th>3</th>\n",
       "      <td>210</td>\n",
       "      <td>113</td>\n",
       "      <td>323</td>\n",
       "    </tr>\n",
       "    <tr>\n",
       "      <th>All</th>\n",
       "      <td>23171</td>\n",
       "      <td>6829</td>\n",
       "      <td>30000</td>\n",
       "    </tr>\n",
       "  </tbody>\n",
       "</table>\n",
       "</div>"
      ],
      "text/plain": [
       "default.payment.next.month      0     1    All\n",
       "MARRIAGE                                      \n",
       "0                              48     6     54\n",
       "1                           10358  3301  13659\n",
       "2                           12555  3409  15964\n",
       "3                             210   113    323\n",
       "All                         23171  6829  30000"
      ]
     },
     "metadata": {},
     "output_type": "display_data"
    },
    {
     "data": {
      "text/markdown": [
       "##### Age"
      ],
      "text/plain": [
       "<IPython.core.display.Markdown object>"
      ]
     },
     "metadata": {},
     "output_type": "display_data"
    },
    {
     "data": {
      "text/html": [
       "<div>\n",
       "<style scoped>\n",
       "    .dataframe tbody tr th:only-of-type {\n",
       "        vertical-align: middle;\n",
       "    }\n",
       "\n",
       "    .dataframe tbody tr th {\n",
       "        vertical-align: top;\n",
       "    }\n",
       "\n",
       "    .dataframe thead th {\n",
       "        text-align: right;\n",
       "    }\n",
       "</style>\n",
       "<table border=\"1\" class=\"dataframe\">\n",
       "  <thead>\n",
       "    <tr style=\"text-align: right;\">\n",
       "      <th>default.payment.next.month</th>\n",
       "      <th>0</th>\n",
       "      <th>1</th>\n",
       "    </tr>\n",
       "    <tr>\n",
       "      <th>AgeBin</th>\n",
       "      <th></th>\n",
       "      <th></th>\n",
       "    </tr>\n",
       "  </thead>\n",
       "  <tbody>\n",
       "    <tr>\n",
       "      <th>(20.999, 30.0]</th>\n",
       "      <td>0.779079</td>\n",
       "      <td>0.220921</td>\n",
       "    </tr>\n",
       "    <tr>\n",
       "      <th>(30.0, 40.0]</th>\n",
       "      <td>0.808177</td>\n",
       "      <td>0.191823</td>\n",
       "    </tr>\n",
       "    <tr>\n",
       "      <th>(40.0, 50.0]</th>\n",
       "      <td>0.756370</td>\n",
       "      <td>0.243630</td>\n",
       "    </tr>\n",
       "    <tr>\n",
       "      <th>(50.0, 60.0]</th>\n",
       "      <td>0.616425</td>\n",
       "      <td>0.383575</td>\n",
       "    </tr>\n",
       "    <tr>\n",
       "      <th>(60.0, 70.0]</th>\n",
       "      <td>0.599222</td>\n",
       "      <td>0.400778</td>\n",
       "    </tr>\n",
       "    <tr>\n",
       "      <th>(70.0, 79.0]</th>\n",
       "      <td>0.400000</td>\n",
       "      <td>0.600000</td>\n",
       "    </tr>\n",
       "    <tr>\n",
       "      <th>All</th>\n",
       "      <td>0.772367</td>\n",
       "      <td>0.227633</td>\n",
       "    </tr>\n",
       "  </tbody>\n",
       "</table>\n",
       "</div>"
      ],
      "text/plain": [
       "default.payment.next.month         0         1\n",
       "AgeBin                                        \n",
       "(20.999, 30.0]              0.779079  0.220921\n",
       "(30.0, 40.0]                0.808177  0.191823\n",
       "(40.0, 50.0]                0.756370  0.243630\n",
       "(50.0, 60.0]                0.616425  0.383575\n",
       "(60.0, 70.0]                0.599222  0.400778\n",
       "(70.0, 79.0]                0.400000  0.600000\n",
       "All                         0.772367  0.227633"
      ]
     },
     "metadata": {},
     "output_type": "display_data"
    },
    {
     "data": {
      "text/html": [
       "<div>\n",
       "<style scoped>\n",
       "    .dataframe tbody tr th:only-of-type {\n",
       "        vertical-align: middle;\n",
       "    }\n",
       "\n",
       "    .dataframe tbody tr th {\n",
       "        vertical-align: top;\n",
       "    }\n",
       "\n",
       "    .dataframe thead th {\n",
       "        text-align: right;\n",
       "    }\n",
       "</style>\n",
       "<table border=\"1\" class=\"dataframe\">\n",
       "  <thead>\n",
       "    <tr style=\"text-align: right;\">\n",
       "      <th>default.payment.next.month</th>\n",
       "      <th>0</th>\n",
       "      <th>1</th>\n",
       "      <th>All</th>\n",
       "    </tr>\n",
       "    <tr>\n",
       "      <th>AgeBin</th>\n",
       "      <th></th>\n",
       "      <th></th>\n",
       "      <th></th>\n",
       "    </tr>\n",
       "  </thead>\n",
       "  <tbody>\n",
       "    <tr>\n",
       "      <th>(20.999, 30.0]</th>\n",
       "      <td>8580</td>\n",
       "      <td>2433</td>\n",
       "      <td>11013</td>\n",
       "    </tr>\n",
       "    <tr>\n",
       "      <th>(30.0, 40.0]</th>\n",
       "      <td>8658</td>\n",
       "      <td>2055</td>\n",
       "      <td>10713</td>\n",
       "    </tr>\n",
       "    <tr>\n",
       "      <th>(40.0, 50.0]</th>\n",
       "      <td>4542</td>\n",
       "      <td>1463</td>\n",
       "      <td>6005</td>\n",
       "    </tr>\n",
       "    <tr>\n",
       "      <th>(50.0, 60.0]</th>\n",
       "      <td>1231</td>\n",
       "      <td>766</td>\n",
       "      <td>1997</td>\n",
       "    </tr>\n",
       "    <tr>\n",
       "      <th>(60.0, 70.0]</th>\n",
       "      <td>154</td>\n",
       "      <td>103</td>\n",
       "      <td>257</td>\n",
       "    </tr>\n",
       "    <tr>\n",
       "      <th>(70.0, 79.0]</th>\n",
       "      <td>6</td>\n",
       "      <td>9</td>\n",
       "      <td>15</td>\n",
       "    </tr>\n",
       "    <tr>\n",
       "      <th>All</th>\n",
       "      <td>23171</td>\n",
       "      <td>6829</td>\n",
       "      <td>30000</td>\n",
       "    </tr>\n",
       "  </tbody>\n",
       "</table>\n",
       "</div>"
      ],
      "text/plain": [
       "default.payment.next.month      0     1    All\n",
       "AgeBin                                        \n",
       "(20.999, 30.0]               8580  2433  11013\n",
       "(30.0, 40.0]                 8658  2055  10713\n",
       "(40.0, 50.0]                 4542  1463   6005\n",
       "(50.0, 60.0]                 1231   766   1997\n",
       "(60.0, 70.0]                  154   103    257\n",
       "(70.0, 79.0]                    6     9     15\n",
       "All                         23171  6829  30000"
      ]
     },
     "metadata": {},
     "output_type": "display_data"
    },
    {
     "data": {
      "text/markdown": [
       "##### Last Bill Ammount"
      ],
      "text/plain": [
       "<IPython.core.display.Markdown object>"
      ]
     },
     "metadata": {},
     "output_type": "display_data"
    },
    {
     "data": {
      "text/html": [
       "<div>\n",
       "<style scoped>\n",
       "    .dataframe tbody tr th:only-of-type {\n",
       "        vertical-align: middle;\n",
       "    }\n",
       "\n",
       "    .dataframe tbody tr th {\n",
       "        vertical-align: top;\n",
       "    }\n",
       "\n",
       "    .dataframe thead th {\n",
       "        text-align: right;\n",
       "    }\n",
       "</style>\n",
       "<table border=\"1\" class=\"dataframe\">\n",
       "  <thead>\n",
       "    <tr style=\"text-align: right;\">\n",
       "      <th></th>\n",
       "      <th>count</th>\n",
       "      <th>mean</th>\n",
       "      <th>std</th>\n",
       "      <th>min</th>\n",
       "      <th>25%</th>\n",
       "      <th>50%</th>\n",
       "      <th>75%</th>\n",
       "      <th>max</th>\n",
       "    </tr>\n",
       "    <tr>\n",
       "      <th>default.payment.next.month</th>\n",
       "      <th></th>\n",
       "      <th></th>\n",
       "      <th></th>\n",
       "      <th></th>\n",
       "      <th></th>\n",
       "      <th></th>\n",
       "      <th></th>\n",
       "      <th></th>\n",
       "    </tr>\n",
       "  </thead>\n",
       "  <tbody>\n",
       "    <tr>\n",
       "      <th>0</th>\n",
       "      <td>23171.0</td>\n",
       "      <td>47515.336714</td>\n",
       "      <td>70171.776027</td>\n",
       "      <td>-165580.0</td>\n",
       "      <td>2831.5</td>\n",
       "      <td>19096.0</td>\n",
       "      <td>61089.0</td>\n",
       "      <td>964511.0</td>\n",
       "    </tr>\n",
       "    <tr>\n",
       "      <th>1</th>\n",
       "      <td>6829.0</td>\n",
       "      <td>63674.920047</td>\n",
       "      <td>83040.293631</td>\n",
       "      <td>-6676.0</td>\n",
       "      <td>9900.0</td>\n",
       "      <td>34378.0</td>\n",
       "      <td>81970.0</td>\n",
       "      <td>746814.0</td>\n",
       "    </tr>\n",
       "  </tbody>\n",
       "</table>\n",
       "</div>"
      ],
      "text/plain": [
       "                              count          mean           std       min  \\\n",
       "default.payment.next.month                                                  \n",
       "0                           23171.0  47515.336714  70171.776027 -165580.0   \n",
       "1                            6829.0  63674.920047  83040.293631   -6676.0   \n",
       "\n",
       "                               25%      50%      75%       max  \n",
       "default.payment.next.month                                      \n",
       "0                           2831.5  19096.0  61089.0  964511.0  \n",
       "1                           9900.0  34378.0  81970.0  746814.0  "
      ]
     },
     "metadata": {},
     "output_type": "display_data"
    },
    {
     "data": {
      "text/markdown": [
       "##### Last Pay Ammount"
      ],
      "text/plain": [
       "<IPython.core.display.Markdown object>"
      ]
     },
     "metadata": {},
     "output_type": "display_data"
    },
    {
     "data": {
      "text/html": [
       "<div>\n",
       "<style scoped>\n",
       "    .dataframe tbody tr th:only-of-type {\n",
       "        vertical-align: middle;\n",
       "    }\n",
       "\n",
       "    .dataframe tbody tr th {\n",
       "        vertical-align: top;\n",
       "    }\n",
       "\n",
       "    .dataframe thead th {\n",
       "        text-align: right;\n",
       "    }\n",
       "</style>\n",
       "<table border=\"1\" class=\"dataframe\">\n",
       "  <thead>\n",
       "    <tr style=\"text-align: right;\">\n",
       "      <th></th>\n",
       "      <th>count</th>\n",
       "      <th>mean</th>\n",
       "      <th>std</th>\n",
       "      <th>min</th>\n",
       "      <th>25%</th>\n",
       "      <th>50%</th>\n",
       "      <th>75%</th>\n",
       "      <th>max</th>\n",
       "    </tr>\n",
       "    <tr>\n",
       "      <th>default.payment.next.month</th>\n",
       "      <th></th>\n",
       "      <th></th>\n",
       "      <th></th>\n",
       "      <th></th>\n",
       "      <th></th>\n",
       "      <th></th>\n",
       "      <th></th>\n",
       "      <th></th>\n",
       "    </tr>\n",
       "  </thead>\n",
       "  <tbody>\n",
       "    <tr>\n",
       "      <th>0</th>\n",
       "      <td>23171.0</td>\n",
       "      <td>6390.320746</td>\n",
       "      <td>18213.230206</td>\n",
       "      <td>0.0</td>\n",
       "      <td>1149.0</td>\n",
       "      <td>2400.0</td>\n",
       "      <td>5600.0</td>\n",
       "      <td>873552.0</td>\n",
       "    </tr>\n",
       "    <tr>\n",
       "      <th>1</th>\n",
       "      <td>6829.0</td>\n",
       "      <td>3196.554547</td>\n",
       "      <td>8473.108907</td>\n",
       "      <td>0.0</td>\n",
       "      <td>0.0</td>\n",
       "      <td>1800.0</td>\n",
       "      <td>3591.0</td>\n",
       "      <td>300000.0</td>\n",
       "    </tr>\n",
       "  </tbody>\n",
       "</table>\n",
       "</div>"
      ],
      "text/plain": [
       "                              count         mean           std  min     25%  \\\n",
       "default.payment.next.month                                                    \n",
       "0                           23171.0  6390.320746  18213.230206  0.0  1149.0   \n",
       "1                            6829.0  3196.554547   8473.108907  0.0     0.0   \n",
       "\n",
       "                               50%     75%       max  \n",
       "default.payment.next.month                            \n",
       "0                           2400.0  5600.0  873552.0  \n",
       "1                           1800.0  3591.0  300000.0  "
      ]
     },
     "metadata": {},
     "output_type": "display_data"
    },
    {
     "data": {
      "text/markdown": [
       "##### Payment delay"
      ],
      "text/plain": [
       "<IPython.core.display.Markdown object>"
      ]
     },
     "metadata": {},
     "output_type": "display_data"
    },
    {
     "data": {
      "text/html": [
       "<div>\n",
       "<style scoped>\n",
       "    .dataframe tbody tr th:only-of-type {\n",
       "        vertical-align: middle;\n",
       "    }\n",
       "\n",
       "    .dataframe tbody tr th {\n",
       "        vertical-align: top;\n",
       "    }\n",
       "\n",
       "    .dataframe thead th {\n",
       "        text-align: right;\n",
       "    }\n",
       "</style>\n",
       "<table border=\"1\" class=\"dataframe\">\n",
       "  <thead>\n",
       "    <tr style=\"text-align: right;\">\n",
       "      <th>default.payment.next.month</th>\n",
       "      <th>0</th>\n",
       "      <th>1</th>\n",
       "    </tr>\n",
       "    <tr>\n",
       "      <th>PAY_0</th>\n",
       "      <th></th>\n",
       "      <th></th>\n",
       "    </tr>\n",
       "  </thead>\n",
       "  <tbody>\n",
       "    <tr>\n",
       "      <th>-2</th>\n",
       "      <td>0.901776</td>\n",
       "      <td>0.098224</td>\n",
       "    </tr>\n",
       "    <tr>\n",
       "      <th>-1</th>\n",
       "      <td>0.915230</td>\n",
       "      <td>0.084770</td>\n",
       "    </tr>\n",
       "    <tr>\n",
       "      <th>0</th>\n",
       "      <td>0.841080</td>\n",
       "      <td>0.158920</td>\n",
       "    </tr>\n",
       "    <tr>\n",
       "      <th>1</th>\n",
       "      <td>0.609002</td>\n",
       "      <td>0.390998</td>\n",
       "    </tr>\n",
       "    <tr>\n",
       "      <th>2</th>\n",
       "      <td>0.282715</td>\n",
       "      <td>0.717285</td>\n",
       "    </tr>\n",
       "    <tr>\n",
       "      <th>3</th>\n",
       "      <td>0.195652</td>\n",
       "      <td>0.804348</td>\n",
       "    </tr>\n",
       "    <tr>\n",
       "      <th>4</th>\n",
       "      <td>0.105263</td>\n",
       "      <td>0.894737</td>\n",
       "    </tr>\n",
       "    <tr>\n",
       "      <th>5</th>\n",
       "      <td>0.307692</td>\n",
       "      <td>0.692308</td>\n",
       "    </tr>\n",
       "    <tr>\n",
       "      <th>6</th>\n",
       "      <td>0.181818</td>\n",
       "      <td>0.818182</td>\n",
       "    </tr>\n",
       "    <tr>\n",
       "      <th>7</th>\n",
       "      <td>0.222222</td>\n",
       "      <td>0.777778</td>\n",
       "    </tr>\n",
       "    <tr>\n",
       "      <th>8</th>\n",
       "      <td>0.052632</td>\n",
       "      <td>0.947368</td>\n",
       "    </tr>\n",
       "    <tr>\n",
       "      <th>All</th>\n",
       "      <td>0.772367</td>\n",
       "      <td>0.227633</td>\n",
       "    </tr>\n",
       "  </tbody>\n",
       "</table>\n",
       "</div>"
      ],
      "text/plain": [
       "default.payment.next.month         0         1\n",
       "PAY_0                                         \n",
       "-2                          0.901776  0.098224\n",
       "-1                          0.915230  0.084770\n",
       "0                           0.841080  0.158920\n",
       "1                           0.609002  0.390998\n",
       "2                           0.282715  0.717285\n",
       "3                           0.195652  0.804348\n",
       "4                           0.105263  0.894737\n",
       "5                           0.307692  0.692308\n",
       "6                           0.181818  0.818182\n",
       "7                           0.222222  0.777778\n",
       "8                           0.052632  0.947368\n",
       "All                         0.772367  0.227633"
      ]
     },
     "metadata": {},
     "output_type": "display_data"
    },
    {
     "data": {
      "text/html": [
       "<div>\n",
       "<style scoped>\n",
       "    .dataframe tbody tr th:only-of-type {\n",
       "        vertical-align: middle;\n",
       "    }\n",
       "\n",
       "    .dataframe tbody tr th {\n",
       "        vertical-align: top;\n",
       "    }\n",
       "\n",
       "    .dataframe thead th {\n",
       "        text-align: right;\n",
       "    }\n",
       "</style>\n",
       "<table border=\"1\" class=\"dataframe\">\n",
       "  <thead>\n",
       "    <tr style=\"text-align: right;\">\n",
       "      <th>default.payment.next.month</th>\n",
       "      <th>0</th>\n",
       "      <th>1</th>\n",
       "      <th>All</th>\n",
       "    </tr>\n",
       "    <tr>\n",
       "      <th>PAY_0</th>\n",
       "      <th></th>\n",
       "      <th></th>\n",
       "      <th></th>\n",
       "    </tr>\n",
       "  </thead>\n",
       "  <tbody>\n",
       "    <tr>\n",
       "      <th>-2</th>\n",
       "      <td>2488</td>\n",
       "      <td>271</td>\n",
       "      <td>2759</td>\n",
       "    </tr>\n",
       "    <tr>\n",
       "      <th>-1</th>\n",
       "      <td>5204</td>\n",
       "      <td>482</td>\n",
       "      <td>5686</td>\n",
       "    </tr>\n",
       "    <tr>\n",
       "      <th>0</th>\n",
       "      <td>12395</td>\n",
       "      <td>2342</td>\n",
       "      <td>14737</td>\n",
       "    </tr>\n",
       "    <tr>\n",
       "      <th>1</th>\n",
       "      <td>2246</td>\n",
       "      <td>1442</td>\n",
       "      <td>3688</td>\n",
       "    </tr>\n",
       "    <tr>\n",
       "      <th>2</th>\n",
       "      <td>754</td>\n",
       "      <td>1913</td>\n",
       "      <td>2667</td>\n",
       "    </tr>\n",
       "    <tr>\n",
       "      <th>3</th>\n",
       "      <td>63</td>\n",
       "      <td>259</td>\n",
       "      <td>322</td>\n",
       "    </tr>\n",
       "    <tr>\n",
       "      <th>4</th>\n",
       "      <td>8</td>\n",
       "      <td>68</td>\n",
       "      <td>76</td>\n",
       "    </tr>\n",
       "    <tr>\n",
       "      <th>5</th>\n",
       "      <td>8</td>\n",
       "      <td>18</td>\n",
       "      <td>26</td>\n",
       "    </tr>\n",
       "    <tr>\n",
       "      <th>6</th>\n",
       "      <td>2</td>\n",
       "      <td>9</td>\n",
       "      <td>11</td>\n",
       "    </tr>\n",
       "    <tr>\n",
       "      <th>7</th>\n",
       "      <td>2</td>\n",
       "      <td>7</td>\n",
       "      <td>9</td>\n",
       "    </tr>\n",
       "    <tr>\n",
       "      <th>8</th>\n",
       "      <td>1</td>\n",
       "      <td>18</td>\n",
       "      <td>19</td>\n",
       "    </tr>\n",
       "    <tr>\n",
       "      <th>All</th>\n",
       "      <td>23171</td>\n",
       "      <td>6829</td>\n",
       "      <td>30000</td>\n",
       "    </tr>\n",
       "  </tbody>\n",
       "</table>\n",
       "</div>"
      ],
      "text/plain": [
       "default.payment.next.month      0     1    All\n",
       "PAY_0                                         \n",
       "-2                           2488   271   2759\n",
       "-1                           5204   482   5686\n",
       "0                           12395  2342  14737\n",
       "1                            2246  1442   3688\n",
       "2                             754  1913   2667\n",
       "3                              63   259    322\n",
       "4                               8    68     76\n",
       "5                               8    18     26\n",
       "6                               2     9     11\n",
       "7                               2     7      9\n",
       "8                               1    18     19\n",
       "All                         23171  6829  30000"
      ]
     },
     "metadata": {},
     "output_type": "display_data"
    }
   ],
   "source": [
    "display(Markdown('##### Gender'))\n",
    "display(pd.crosstab(df_raw_data['SEX'],df_raw_data['default.payment.next.month'],normalize='index',margins=True))\n",
    "\n",
    "display(Markdown('##### Education'))\n",
    "display(pd.crosstab(df_raw_data['EDUCATION'],df_raw_data['default.payment.next.month'],normalize='index',margins=True))\n",
    "\n",
    "display(Markdown('##### Marital status'))\n",
    "display(pd.crosstab(df_raw_data['MARRIAGE'],df_raw_data['default.payment.next.month'],normalize='index',margins=True))\n",
    "display(pd.crosstab(df_raw_data['MARRIAGE'],df_raw_data['default.payment.next.month'],margins=True))\n",
    "\n",
    "\n",
    "display(Markdown('##### Age'))\n",
    "age_bins = [df_raw_data['AGE'].min(), 30, 40, 50, 60, 70, df_raw_data['AGE'].max()]\n",
    "df_raw_data['AgeBin'] = pd.cut(df_raw_data['AGE'], age_bins,include_lowest=True).astype(str)\n",
    "\n",
    "display(pd.crosstab(df_raw_data['AgeBin'],df_raw_data['default.payment.next.month'],normalize='index',margins=True))\n",
    "display(pd.crosstab(df_raw_data['AgeBin'],df_raw_data['default.payment.next.month'],margins=True))\n",
    "\n",
    "display(Markdown('##### Last Bill Ammount'))\n",
    "display(df_raw_data.groupby('default.payment.next.month')['BILL_AMT1'].describe())\n",
    "\n",
    "display(Markdown('##### Last Pay Ammount'))\n",
    "display(df_raw_data.groupby('default.payment.next.month')['PAY_AMT1'].describe())\n",
    "\n",
    "\n",
    "display(Markdown('##### Payment delay'))\n",
    "display(pd.crosstab(df_raw_data['PAY_0'],df_raw_data['default.payment.next.month'],normalize='index',margins=True))\n",
    "display(pd.crosstab(df_raw_data['PAY_0'],df_raw_data['default.payment.next.month'],margins=True))\n",
    "\n",
    "\n"
   ]
  },
  {
   "cell_type": "markdown",
   "metadata": {},
   "source": [
    "___You should see___:\n",
    "\n",
    "* Men more likely to default - makes sense and in-line with cofecients\n",
    "* Education is weird, a few things going on:\n",
    " * What is 0 and why no default there?\n",
    " * 4,5 and 6 are  unknown flags and yet low default - odd\n",
    "* Married folks really do default more, but the 0 and 3 group is not known\n",
    "* Age, when binned is clear that only those over 50 have significantly higher rate of default\n",
    "* People who default have larger balances - makes sense, but how can minimum be <0 - we need to explore this more deeply\n",
    "* Payment delay makes sense, but not sure what to make of -2 and 0 flags (since not disclosed by client)\n",
    "\n",
    "___In summary:___\n",
    "* A number of fields have unexepected values (Education, Marriage, repayment status) - we need to deep dive and/or drop\n",
    "* Some folks who default have negative balance (i.e. bank owes them money) - maybe data is dirty"
   ]
  },
  {
   "cell_type": "markdown",
   "metadata": {},
   "source": [
    "### 1.8.1 Exploring weird data: PAY_0\n",
    "\n",
    "* Exploring data-uknonw - first up PAY_X. What does 0 and -2 means?\n",
    "* Our hypothesis could be that PAY_0 of 0 or -2 means, no balance \n",
    "\n",
    "* To test, let's also see how many PAY_0 folks with 0 and -2 have a balance and have paid something towards that balance\n",
    " \n",
    "\n"
   ]
  },
  {
   "cell_type": "code",
   "execution_count": 12,
   "metadata": {},
   "outputs": [
    {
     "data": {
      "text/markdown": [
       "##### Pay_0 of 0: August bill vs amount paid in September"
      ],
      "text/plain": [
       "<IPython.core.display.Markdown object>"
      ]
     },
     "metadata": {},
     "output_type": "display_data"
    },
    {
     "data": {
      "text/html": [
       "<div>\n",
       "<style scoped>\n",
       "    .dataframe tbody tr th:only-of-type {\n",
       "        vertical-align: middle;\n",
       "    }\n",
       "\n",
       "    .dataframe tbody tr th {\n",
       "        vertical-align: top;\n",
       "    }\n",
       "\n",
       "    .dataframe thead th {\n",
       "        text-align: right;\n",
       "    }\n",
       "</style>\n",
       "<table border=\"1\" class=\"dataframe\">\n",
       "  <thead>\n",
       "    <tr style=\"text-align: right;\">\n",
       "      <th>PAY_BINS</th>\n",
       "      <th>(-0.001, 0.1]</th>\n",
       "      <th>(0.1, 100.0]</th>\n",
       "      <th>(100.0, 10000.0]</th>\n",
       "      <th>(10000.0, 873552.0]</th>\n",
       "      <th>All</th>\n",
       "    </tr>\n",
       "    <tr>\n",
       "      <th>BILL_BINS</th>\n",
       "      <th></th>\n",
       "      <th></th>\n",
       "      <th></th>\n",
       "      <th></th>\n",
       "      <th></th>\n",
       "    </tr>\n",
       "  </thead>\n",
       "  <tbody>\n",
       "    <tr>\n",
       "      <th>(-69777.001, 0.0]</th>\n",
       "      <td>258</td>\n",
       "      <td>4</td>\n",
       "      <td>17</td>\n",
       "      <td>3</td>\n",
       "      <td>282</td>\n",
       "    </tr>\n",
       "    <tr>\n",
       "      <th>(0.0, 100.0]</th>\n",
       "      <td>1</td>\n",
       "      <td>6</td>\n",
       "      <td>1</td>\n",
       "      <td>0</td>\n",
       "      <td>8</td>\n",
       "    </tr>\n",
       "    <tr>\n",
       "      <th>(100.0, 10000.0]</th>\n",
       "      <td>2</td>\n",
       "      <td>1</td>\n",
       "      <td>1493</td>\n",
       "      <td>6</td>\n",
       "      <td>1502</td>\n",
       "    </tr>\n",
       "    <tr>\n",
       "      <th>(10000.0, 100000.0]</th>\n",
       "      <td>0</td>\n",
       "      <td>0</td>\n",
       "      <td>8752</td>\n",
       "      <td>523</td>\n",
       "      <td>9275</td>\n",
       "    </tr>\n",
       "    <tr>\n",
       "      <th>(100000.0, 983931.0]</th>\n",
       "      <td>0</td>\n",
       "      <td>0</td>\n",
       "      <td>2613</td>\n",
       "      <td>1057</td>\n",
       "      <td>3670</td>\n",
       "    </tr>\n",
       "    <tr>\n",
       "      <th>All</th>\n",
       "      <td>261</td>\n",
       "      <td>11</td>\n",
       "      <td>12876</td>\n",
       "      <td>1589</td>\n",
       "      <td>14737</td>\n",
       "    </tr>\n",
       "  </tbody>\n",
       "</table>\n",
       "</div>"
      ],
      "text/plain": [
       "PAY_BINS              (-0.001, 0.1]  (0.1, 100.0]  (100.0, 10000.0]  \\\n",
       "BILL_BINS                                                             \n",
       "(-69777.001, 0.0]               258             4                17   \n",
       "(0.0, 100.0]                      1             6                 1   \n",
       "(100.0, 10000.0]                  2             1              1493   \n",
       "(10000.0, 100000.0]               0             0              8752   \n",
       "(100000.0, 983931.0]              0             0              2613   \n",
       "All                             261            11             12876   \n",
       "\n",
       "PAY_BINS              (10000.0, 873552.0]    All  \n",
       "BILL_BINS                                         \n",
       "(-69777.001, 0.0]                       3    282  \n",
       "(0.0, 100.0]                            0      8  \n",
       "(100.0, 10000.0]                        6   1502  \n",
       "(10000.0, 100000.0]                   523   9275  \n",
       "(100000.0, 983931.0]                 1057   3670  \n",
       "All                                  1589  14737  "
      ]
     },
     "metadata": {},
     "output_type": "display_data"
    },
    {
     "data": {
      "image/png": "[encoded data removed]",
      "text/plain": [
       "<Figure size 432x288 with 1 Axes>"
      ]
     },
     "metadata": {
      "needs_background": "light"
     },
     "output_type": "display_data"
    },
    {
     "data": {
      "text/markdown": [
       "##### Pay_0 of -1: August bill vs amount paid in September"
      ],
      "text/plain": [
       "<IPython.core.display.Markdown object>"
      ]
     },
     "metadata": {},
     "output_type": "display_data"
    },
    {
     "data": {
      "text/html": [
       "<div>\n",
       "<style scoped>\n",
       "    .dataframe tbody tr th:only-of-type {\n",
       "        vertical-align: middle;\n",
       "    }\n",
       "\n",
       "    .dataframe tbody tr th {\n",
       "        vertical-align: top;\n",
       "    }\n",
       "\n",
       "    .dataframe thead th {\n",
       "        text-align: right;\n",
       "    }\n",
       "</style>\n",
       "<table border=\"1\" class=\"dataframe\">\n",
       "  <thead>\n",
       "    <tr style=\"text-align: right;\">\n",
       "      <th>PAY_BINS</th>\n",
       "      <th>(-0.001, 0.1]</th>\n",
       "      <th>(0.1, 100.0]</th>\n",
       "      <th>(100.0, 10000.0]</th>\n",
       "      <th>(10000.0, 873552.0]</th>\n",
       "      <th>All</th>\n",
       "    </tr>\n",
       "    <tr>\n",
       "      <th>BILL_BINS</th>\n",
       "      <th></th>\n",
       "      <th></th>\n",
       "      <th></th>\n",
       "      <th></th>\n",
       "      <th></th>\n",
       "    </tr>\n",
       "  </thead>\n",
       "  <tbody>\n",
       "    <tr>\n",
       "      <th>(-69777.001, 0.0]</th>\n",
       "      <td>667</td>\n",
       "      <td>13</td>\n",
       "      <td>21</td>\n",
       "      <td>2</td>\n",
       "      <td>703</td>\n",
       "    </tr>\n",
       "    <tr>\n",
       "      <th>(0.0, 100.0]</th>\n",
       "      <td>10</td>\n",
       "      <td>27</td>\n",
       "      <td>4</td>\n",
       "      <td>0</td>\n",
       "      <td>41</td>\n",
       "    </tr>\n",
       "    <tr>\n",
       "      <th>(100.0, 10000.0]</th>\n",
       "      <td>307</td>\n",
       "      <td>27</td>\n",
       "      <td>3279</td>\n",
       "      <td>17</td>\n",
       "      <td>3630</td>\n",
       "    </tr>\n",
       "    <tr>\n",
       "      <th>(10000.0, 100000.0]</th>\n",
       "      <td>38</td>\n",
       "      <td>4</td>\n",
       "      <td>306</td>\n",
       "      <td>864</td>\n",
       "      <td>1212</td>\n",
       "    </tr>\n",
       "    <tr>\n",
       "      <th>(100000.0, 983931.0]</th>\n",
       "      <td>0</td>\n",
       "      <td>0</td>\n",
       "      <td>46</td>\n",
       "      <td>54</td>\n",
       "      <td>100</td>\n",
       "    </tr>\n",
       "    <tr>\n",
       "      <th>All</th>\n",
       "      <td>1022</td>\n",
       "      <td>71</td>\n",
       "      <td>3656</td>\n",
       "      <td>937</td>\n",
       "      <td>5686</td>\n",
       "    </tr>\n",
       "  </tbody>\n",
       "</table>\n",
       "</div>"
      ],
      "text/plain": [
       "PAY_BINS              (-0.001, 0.1]  (0.1, 100.0]  (100.0, 10000.0]  \\\n",
       "BILL_BINS                                                             \n",
       "(-69777.001, 0.0]               667            13                21   \n",
       "(0.0, 100.0]                     10            27                 4   \n",
       "(100.0, 10000.0]                307            27              3279   \n",
       "(10000.0, 100000.0]              38             4               306   \n",
       "(100000.0, 983931.0]              0             0                46   \n",
       "All                            1022            71              3656   \n",
       "\n",
       "PAY_BINS              (10000.0, 873552.0]   All  \n",
       "BILL_BINS                                        \n",
       "(-69777.001, 0.0]                       2   703  \n",
       "(0.0, 100.0]                            0    41  \n",
       "(100.0, 10000.0]                       17  3630  \n",
       "(10000.0, 100000.0]                   864  1212  \n",
       "(100000.0, 983931.0]                   54   100  \n",
       "All                                   937  5686  "
      ]
     },
     "metadata": {},
     "output_type": "display_data"
    },
    {
     "data": {
      "image/png": "[encoded data removed]",
      "text/plain": [
       "<Figure size 432x288 with 1 Axes>"
      ]
     },
     "metadata": {
      "needs_background": "light"
     },
     "output_type": "display_data"
    },
    {
     "data": {
      "text/markdown": [
       "##### Pay_0 of -2: August bill vs amount paid in September"
      ],
      "text/plain": [
       "<IPython.core.display.Markdown object>"
      ]
     },
     "metadata": {},
     "output_type": "display_data"
    },
    {
     "data": {
      "text/html": [
       "<div>\n",
       "<style scoped>\n",
       "    .dataframe tbody tr th:only-of-type {\n",
       "        vertical-align: middle;\n",
       "    }\n",
       "\n",
       "    .dataframe tbody tr th {\n",
       "        vertical-align: top;\n",
       "    }\n",
       "\n",
       "    .dataframe thead th {\n",
       "        text-align: right;\n",
       "    }\n",
       "</style>\n",
       "<table border=\"1\" class=\"dataframe\">\n",
       "  <thead>\n",
       "    <tr style=\"text-align: right;\">\n",
       "      <th>PAY_BINS</th>\n",
       "      <th>(-0.001, 0.1]</th>\n",
       "      <th>(0.1, 100.0]</th>\n",
       "      <th>(100.0, 10000.0]</th>\n",
       "      <th>(10000.0, 873552.0]</th>\n",
       "      <th>All</th>\n",
       "    </tr>\n",
       "    <tr>\n",
       "      <th>BILL_BINS</th>\n",
       "      <th></th>\n",
       "      <th></th>\n",
       "      <th></th>\n",
       "      <th></th>\n",
       "      <th></th>\n",
       "    </tr>\n",
       "  </thead>\n",
       "  <tbody>\n",
       "    <tr>\n",
       "      <th>(-69777.001, 0.0]</th>\n",
       "      <td>901</td>\n",
       "      <td>15</td>\n",
       "      <td>34</td>\n",
       "      <td>2</td>\n",
       "      <td>952</td>\n",
       "    </tr>\n",
       "    <tr>\n",
       "      <th>(0.0, 100.0]</th>\n",
       "      <td>0</td>\n",
       "      <td>11</td>\n",
       "      <td>1</td>\n",
       "      <td>1</td>\n",
       "      <td>13</td>\n",
       "    </tr>\n",
       "    <tr>\n",
       "      <th>(100.0, 10000.0]</th>\n",
       "      <td>6</td>\n",
       "      <td>1</td>\n",
       "      <td>1321</td>\n",
       "      <td>10</td>\n",
       "      <td>1338</td>\n",
       "    </tr>\n",
       "    <tr>\n",
       "      <th>(10000.0, 100000.0]</th>\n",
       "      <td>4</td>\n",
       "      <td>1</td>\n",
       "      <td>52</td>\n",
       "      <td>350</td>\n",
       "      <td>407</td>\n",
       "    </tr>\n",
       "    <tr>\n",
       "      <th>(100000.0, 983931.0]</th>\n",
       "      <td>1</td>\n",
       "      <td>0</td>\n",
       "      <td>23</td>\n",
       "      <td>25</td>\n",
       "      <td>49</td>\n",
       "    </tr>\n",
       "    <tr>\n",
       "      <th>All</th>\n",
       "      <td>912</td>\n",
       "      <td>28</td>\n",
       "      <td>1431</td>\n",
       "      <td>388</td>\n",
       "      <td>2759</td>\n",
       "    </tr>\n",
       "  </tbody>\n",
       "</table>\n",
       "</div>"
      ],
      "text/plain": [
       "PAY_BINS              (-0.001, 0.1]  (0.1, 100.0]  (100.0, 10000.0]  \\\n",
       "BILL_BINS                                                             \n",
       "(-69777.001, 0.0]               901            15                34   \n",
       "(0.0, 100.0]                      0            11                 1   \n",
       "(100.0, 10000.0]                  6             1              1321   \n",
       "(10000.0, 100000.0]               4             1                52   \n",
       "(100000.0, 983931.0]              1             0                23   \n",
       "All                             912            28              1431   \n",
       "\n",
       "PAY_BINS              (10000.0, 873552.0]   All  \n",
       "BILL_BINS                                        \n",
       "(-69777.001, 0.0]                       2   952  \n",
       "(0.0, 100.0]                            1    13  \n",
       "(100.0, 10000.0]                       10  1338  \n",
       "(10000.0, 100000.0]                   350   407  \n",
       "(100000.0, 983931.0]                   25    49  \n",
       "All                                   388  2759  "
      ]
     },
     "metadata": {},
     "output_type": "display_data"
    },
    {
     "data": {
      "image/png": "[encoded data removed]",
      "text/plain": [
       "<Figure size 432x288 with 1 Axes>"
      ]
     },
     "metadata": {
      "needs_background": "light"
     },
     "output_type": "display_data"
    }
   ],
   "source": [
    "# First, lets create seperate dataframe to play with the data\n",
    "df_test = df_raw_data.copy()\n",
    "\n",
    "#let's create bins of how much is owed (bill_amount_bins) and how much is paid (pay_bins) - easier to cross-tab\n",
    "#REMEMBER - BILL BIN IN AUGUST SHOULD CORRESPOND TO PAY AMMOUNT IN SEPTEBMER SO BILL AMT_2 and PAY_AMT1\n",
    "bill_amount_bins = [df_test['BILL_AMT2'].min(), 0, 100, 10000, 100000,df_test['BILL_AMT2'].max()]\n",
    "df_test['BILL_BINS'] = pd.cut(df_test.BILL_AMT2, bill_amount_bins, include_lowest=True).astype(str)\n",
    "\n",
    "pay_bins = [df_test['PAY_AMT1'].min(), 0.1, 100, 10000, df_test['PAY_AMT1'].max()]\n",
    "df_test['PAY_BINS'] = pd.cut(df_test.PAY_AMT1, pay_bins, include_lowest=True).astype(str)\n",
    "\n",
    "#What does PAY_0 of 0, -1 and -2 mean?\n",
    "\n",
    "## How much paid vs billed for those with PAY_0 = 0\n",
    "display(Markdown(\"##### Pay_0 of 0: August bill vs amount paid in September\"))\n",
    "df_test_p0 = df_test[df_test.PAY_0 == 0]\n",
    "display(pd.crosstab(df_test_p0.BILL_BINS, df_test_p0.PAY_BINS, margins=True))\n",
    "\n",
    "fig, chart = plt.subplots()\n",
    "chart.scatter(df_test_p0['BILL_AMT2'], df_test_p0['PAY_AMT1'])\n",
    "chart.set_xlabel(\"BILL_AMT2\")\n",
    "chart.set_ylabel(\"PAY_AMT1\")\n",
    "plt.xlim([0.0, 500000])\n",
    "plt.ylim([0.0, 500000])\n",
    "plt.show()\n",
    "\n",
    "## How much paid vs billed for those with PAY_0 =-1\n",
    "display(Markdown(\"##### Pay_0 of -1: August bill vs amount paid in September\"))\n",
    "df_test_p0 = df_test[df_test.PAY_0 == -1]\n",
    "display(pd.crosstab(df_test_p0.BILL_BINS, df_test_p0.PAY_BINS, margins=True))\n",
    "\n",
    "fig, chart = plt.subplots()\n",
    "chart.scatter(df_test_p0['BILL_AMT2'], df_test_p0['PAY_AMT1'])\n",
    "chart.set_xlabel(\"BILL_AMT2\")\n",
    "chart.set_ylabel(\"PAY_AMT1\")\n",
    "plt.xlim([0.0, 500000])\n",
    "plt.ylim([0.0, 500000])\n",
    "plt.show()\n",
    "\n",
    "## How much paid vs billed for those with PAY_0 =-2\n",
    "display(Markdown(\"##### Pay_0 of -2: August bill vs amount paid in September\"))\n",
    "df_test_p0 = df_test[df_test.PAY_0 == -2]\n",
    "display(pd.crosstab(df_test_p0.BILL_BINS, df_test_p0.PAY_BINS, margins=True))\n",
    "\n",
    "fig, chart = plt.subplots()\n",
    "chart.scatter(df_test_p0['BILL_AMT2'], df_test_p0['PAY_AMT1'])\n",
    "chart.set_xlabel(\"BILL_AMT2\")\n",
    "chart.set_ylabel(\"PAY_AMT1\")\n",
    "plt.xlim([0.0, 500000])\n",
    "plt.ylim([0.0, 500000])\n",
    "plt.show()"
   ]
  },
  {
   "cell_type": "markdown",
   "metadata": {},
   "source": [
    "___You should see___: \n",
    "\n",
    "* It appears 0 generally means paying OK, except for ~3 folks who have a balance but paid 0 - we should remove them for now, but on a real case these folks should be re-tagged (with client approval)\n",
    "* It appears -1 generally means paying OK, but there are 355 (10 + 307 + 38) folks who paid nothing and had a bill - we should remove them for now, but on a real case these folks shoudl be re-tagged (with client approval)\n",
    "* It appears -2 generally means paying OK, except for 11 people who paid 0, but had a balance - we should remove them for now, but on a real case these folks shoudl be re-tagged (with client approval) \n",
    "\n",
    "__Next Steps__:\n",
    "* This data is clearly odd, let's click deeper\n",
    "* Let's understand what PAY_0 means by comparing it vs Billed Ammount and rates of default\n"
   ]
  },
  {
   "cell_type": "code",
   "execution_count": 13,
   "metadata": {},
   "outputs": [
    {
     "data": {
      "text/plain": [
       "<matplotlib.axes._subplots.AxesSubplot at 0x2b3a8d68710>"
      ]
     },
     "execution_count": 13,
     "metadata": {},
     "output_type": "execute_result"
    },
    {
     "data": {
      "image/png": "[encoded data removed]",
      "text/plain": [
       "<Figure size 432x288 with 2 Axes>"
      ]
     },
     "metadata": {
      "needs_background": "light"
     },
     "output_type": "display_data"
    }
   ],
   "source": [
    "plot_df = df_test.pivot_table(\n",
    "    index='BILL_BINS',\n",
    "    columns='PAY_0',\n",
    "    values='default.payment.next.month',\n",
    "    aggfunc=np.mean)\n",
    "\n",
    "sns.heatmap(plot_df, annot=True, fmt=\".1f\")\n"
   ]
  },
  {
   "cell_type": "markdown",
   "metadata": {},
   "source": [
    "__What you should see__\n",
    "\n",
    "* Heatmap of PAY_0 status vs how much was billed\n",
    "\n",
    "* Some  really weird stuff going on - this data may be really dirty: \n",
    " * 10-30% of people who make regular payments (-2,-1,0) and hold no balance (or have pre-paid) are in default - what is that all about?\n",
    " \n",
    "\n",
    "* Also some interesing stuff that seems reasonable - e.g. folks with large balances have high likelihood of defaulting and especially if they delayed payments many times. Seems like log regression should be able to pick up on this\n",
    "\n",
    "\n",
    "\n",
    "### Next steps\n",
    "* Let's sum up how many people are affected by this no balance, or make payment and yet default?\n",
    "* Hint - you should do a pandas crosstab and set margins=True and slce data only of folks who defaulted\n",
    "\n",
    "\n",
    "\n"
   ]
  },
  {
   "cell_type": "code",
   "execution_count": 22,
   "metadata": {},
   "outputs": [
    {
     "data": {
      "text/markdown": [
       "PAY0 vs BILL_BINS on those that default"
      ],
      "text/plain": [
       "<IPython.core.display.Markdown object>"
      ]
     },
     "metadata": {},
     "output_type": "display_data"
    },
    {
     "data": {
      "text/html": [
       "<div>\n",
       "<style scoped>\n",
       "    .dataframe tbody tr th:only-of-type {\n",
       "        vertical-align: middle;\n",
       "    }\n",
       "\n",
       "    .dataframe tbody tr th {\n",
       "        vertical-align: top;\n",
       "    }\n",
       "\n",
       "    .dataframe thead th {\n",
       "        text-align: right;\n",
       "    }\n",
       "</style>\n",
       "<table border=\"1\" class=\"dataframe\">\n",
       "  <thead>\n",
       "    <tr style=\"text-align: right;\">\n",
       "      <th>PAY_0</th>\n",
       "      <th>-2</th>\n",
       "      <th>-1</th>\n",
       "      <th>0</th>\n",
       "      <th>1</th>\n",
       "      <th>2</th>\n",
       "      <th>3</th>\n",
       "      <th>4</th>\n",
       "      <th>5</th>\n",
       "      <th>6</th>\n",
       "      <th>7</th>\n",
       "      <th>8</th>\n",
       "      <th>All</th>\n",
       "    </tr>\n",
       "    <tr>\n",
       "      <th>BILL_BINS</th>\n",
       "      <th></th>\n",
       "      <th></th>\n",
       "      <th></th>\n",
       "      <th></th>\n",
       "      <th></th>\n",
       "      <th></th>\n",
       "      <th></th>\n",
       "      <th></th>\n",
       "      <th></th>\n",
       "      <th></th>\n",
       "      <th></th>\n",
       "      <th></th>\n",
       "    </tr>\n",
       "  </thead>\n",
       "  <tbody>\n",
       "    <tr>\n",
       "      <th>(-69777.001, 0.0]</th>\n",
       "      <td>200</td>\n",
       "      <td>75</td>\n",
       "      <td>53</td>\n",
       "      <td>345</td>\n",
       "      <td>40</td>\n",
       "      <td>0</td>\n",
       "      <td>0</td>\n",
       "      <td>0</td>\n",
       "      <td>0</td>\n",
       "      <td>0</td>\n",
       "      <td>0</td>\n",
       "      <td>713</td>\n",
       "    </tr>\n",
       "    <tr>\n",
       "      <th>(0.0, 100.0]</th>\n",
       "      <td>0</td>\n",
       "      <td>4</td>\n",
       "      <td>2</td>\n",
       "      <td>3</td>\n",
       "      <td>0</td>\n",
       "      <td>0</td>\n",
       "      <td>0</td>\n",
       "      <td>0</td>\n",
       "      <td>0</td>\n",
       "      <td>0</td>\n",
       "      <td>0</td>\n",
       "      <td>9</td>\n",
       "    </tr>\n",
       "    <tr>\n",
       "      <th>(100.0, 10000.0]</th>\n",
       "      <td>47</td>\n",
       "      <td>308</td>\n",
       "      <td>181</td>\n",
       "      <td>269</td>\n",
       "      <td>222</td>\n",
       "      <td>95</td>\n",
       "      <td>5</td>\n",
       "      <td>3</td>\n",
       "      <td>0</td>\n",
       "      <td>0</td>\n",
       "      <td>0</td>\n",
       "      <td>1130</td>\n",
       "    </tr>\n",
       "    <tr>\n",
       "      <th>(10000.0, 100000.0]</th>\n",
       "      <td>14</td>\n",
       "      <td>82</td>\n",
       "      <td>1494</td>\n",
       "      <td>684</td>\n",
       "      <td>1261</td>\n",
       "      <td>139</td>\n",
       "      <td>51</td>\n",
       "      <td>12</td>\n",
       "      <td>6</td>\n",
       "      <td>3</td>\n",
       "      <td>11</td>\n",
       "      <td>3757</td>\n",
       "    </tr>\n",
       "    <tr>\n",
       "      <th>(100000.0, 983931.0]</th>\n",
       "      <td>10</td>\n",
       "      <td>13</td>\n",
       "      <td>612</td>\n",
       "      <td>141</td>\n",
       "      <td>390</td>\n",
       "      <td>25</td>\n",
       "      <td>12</td>\n",
       "      <td>3</td>\n",
       "      <td>3</td>\n",
       "      <td>4</td>\n",
       "      <td>7</td>\n",
       "      <td>1220</td>\n",
       "    </tr>\n",
       "    <tr>\n",
       "      <th>All</th>\n",
       "      <td>271</td>\n",
       "      <td>482</td>\n",
       "      <td>2342</td>\n",
       "      <td>1442</td>\n",
       "      <td>1913</td>\n",
       "      <td>259</td>\n",
       "      <td>68</td>\n",
       "      <td>18</td>\n",
       "      <td>9</td>\n",
       "      <td>7</td>\n",
       "      <td>18</td>\n",
       "      <td>6829</td>\n",
       "    </tr>\n",
       "  </tbody>\n",
       "</table>\n",
       "</div>"
      ],
      "text/plain": [
       "PAY_0                  -2   -1     0     1     2    3   4   5  6  7   8   All\n",
       "BILL_BINS                                                                    \n",
       "(-69777.001, 0.0]     200   75    53   345    40    0   0   0  0  0   0   713\n",
       "(0.0, 100.0]            0    4     2     3     0    0   0   0  0  0   0     9\n",
       "(100.0, 10000.0]       47  308   181   269   222   95   5   3  0  0   0  1130\n",
       "(10000.0, 100000.0]    14   82  1494   684  1261  139  51  12  6  3  11  3757\n",
       "(100000.0, 983931.0]   10   13   612   141   390   25  12   3  3  4   7  1220\n",
       "All                   271  482  2342  1442  1913  259  68  18  9  7  18  6829"
      ]
     },
     "metadata": {},
     "output_type": "display_data"
    }
   ],
   "source": [
    "#How many people does this affect\n",
    "display(Markdown(\"PAY0 vs BILL_BINS on those that default\"))\n",
    "display(pd.crosstab(df_test[df_test['default.payment.next.month']==1].BILL_BINS,df_test[df_test['default.payment.next.month']==1].PAY_0,margins=True))\n"
   ]
  },
  {
   "cell_type": "markdown",
   "metadata": {},
   "source": [
    "___You should see___: \n",
    "\n",
    "Looks like about 713 people who have no balance or negative balance (e.g. pre-paid) are in default - makes zero sense. The most likely explanation is they closed their account and the system flag is same as default. Interesting...\n",
    "\n",
    "We should drop these people as they are very much confusing signal with the noise. Warning on a real-case this would be the kind of thing you would need to check witht the client\n",
    "\n",
    "__ Next steps __:\n",
    "This leads to opposite question, is data on payment Pay_0 (since among most predictive variable) actually clean?"
   ]
  },
  {
   "cell_type": "markdown",
   "metadata": {},
   "source": [
    "### 1.8.2 Statistics check - co-linearity\n",
    "\n",
    "* We'd love to know how often are PAY_0 and PAY_1, PAY_1 and PAY_2 corelated\n",
    "* probably best way to do this is with pairplot and using a custom function to create a heatmap since default (scatter) will be silly\n",
    "\n"
   ]
  },
  {
   "cell_type": "code",
   "execution_count": 18,
   "metadata": {
    "scrolled": true
   },
   "outputs": [
    {
     "data": {
      "text/plain": [
       "<seaborn.axisgrid.PairGrid at 0x2b3ac934f98>"
      ]
     },
     "execution_count": 18,
     "metadata": {},
     "output_type": "execute_result"
    },
    {
     "data": {
      "image/png": "[encoded data removed]",
      "text/plain": [
       "<Figure size 1080x1080 with 42 Axes>"
      ]
     },
     "metadata": {
      "needs_background": "light"
     },
     "output_type": "display_data"
    }
   ],
   "source": [
    "columns_to_plot = ['PAY_0','PAY_2','PAY_3','PAY_4','PAY_5', 'PAY_6']\n",
    "# sns.pairplot(df_test, vars = columns_to_plot)\n",
    "\n",
    "\n",
    "def pairgrid_heatmap(x, y, **kws):\n",
    "    cmap = sns.light_palette(kws.pop(\"color\"), as_cmap=True)\n",
    "    plt.hist2d(x, y, cmap=cmap, cmin=1, **kws)\n",
    "    \n",
    "chart = sns.PairGrid(df_test[columns_to_plot])\n",
    "    \n",
    "chart.map_diag(plt.hist, bins=10)\n",
    "chart.map_offdiag(pairgrid_heatmap, bins=10)"
   ]
  },
  {
   "cell_type": "markdown",
   "metadata": {},
   "source": [
    "___What you should see:___\n",
    "    \n",
    "* think these PAY_X are all correlated\n",
    "* And also - apparently flag 1 is not used very much..."
   ]
  },
  {
   "cell_type": "markdown",
   "metadata": {},
   "source": [
    "## 1.9. Data Clean-up + additional Feature Engineering\n",
    "\n",
    "* Simple clean-up:\n",
    " * Drop 713 people who have no balance (or positive balance) and default?\n",
    " * Drop 369 folks who are categorized as paying, but paid 0 and have a balance - if we had time we'd clean data and set flags right here. This is a shrotcut you would not take in real life!!!\n",
    " \n",
    "* Feature engineering:\n",
    " * Convert -2 and -1 bill amt to 0 (all in good standing)\n",
    "  \n",
    "__WARNING: The code to drop here is REALLY DANGEROUS!!!__\n",
    "* At the very least to do this:\n",
    " * Client domain expert should approve this\n",
    " * You would need to document it in release notes.\n",
    " * you would need to make sure you re-do to this for all new data\n",
    " \n",
    "* The right thing to do is:\n",
    " * Work with domain experts to understnad what these values mean and if wrong, what is the right value and also work on their back-end systems to make sure wrong values don't happen again \n",
    " \n",
    "Good news is we're doing it memory (vs in file) so you can go back this time around"
   ]
  },
  {
   "cell_type": "markdown",
   "metadata": {},
   "source": [
    "### 1.9.1 First up - simple clean-up\n",
    "\n",
    "* create new dataframe for clean data - call it df_clean, by copying all of df_raw_data\n",
    "\n",
    "* Drop all bad records\n",
    " * Drop 713 people who have no balance (or positive balance) and default?\n",
    " * Drop 369 folks who are categorized as paying, but paid 0 and have a balance - if we had time we'd clean data and set flags right here. This is a shrotcut you would not take in real life!!!\n",
    " \n",
    "* After each drop you should list number of records, as a ZD check\n",
    " \n",
    "__Hint - the simplest way to do this is through pandas selection/slicing, by only slicing data you want and saving only that into df_clean__"
   ]
  },
  {
   "cell_type": "code",
   "execution_count": 55,
   "metadata": {},
   "outputs": [
    {
     "data": {
      "text/markdown": [
       "### Drop 713+ who have no balance and default"
      ],
      "text/plain": [
       "<IPython.core.display.Markdown object>"
      ]
     },
     "metadata": {},
     "output_type": "display_data"
    },
    {
     "data": {
      "text/plain": [
       "'Records Before drop 30000'"
      ]
     },
     "metadata": {},
     "output_type": "display_data"
    },
    {
     "data": {
      "text/plain": [
       "'Records After drop 29287'"
      ]
     },
     "metadata": {},
     "output_type": "display_data"
    },
    {
     "data": {
      "text/plain": [
       "'Records delta 713'"
      ]
     },
     "metadata": {},
     "output_type": "display_data"
    },
    {
     "data": {
      "text/markdown": [
       "### Drop 369 who did not make a payment and were mis-labeled as paying"
      ],
      "text/plain": [
       "<IPython.core.display.Markdown object>"
      ]
     },
     "metadata": {},
     "output_type": "display_data"
    },
    {
     "data": {
      "text/plain": [
       "'Records Before drop 29287'"
      ]
     },
     "metadata": {},
     "output_type": "display_data"
    },
    {
     "data": {
      "text/plain": [
       "'Records After drop 28918'"
      ]
     },
     "metadata": {},
     "output_type": "display_data"
    },
    {
     "data": {
      "text/plain": [
       "'Records delta 369'"
      ]
     },
     "metadata": {},
     "output_type": "display_data"
    },
    {
     "data": {
      "text/markdown": [
       "### Ensure we dropped non-paying customers who are pretending to be paying"
      ],
      "text/plain": [
       "<IPython.core.display.Markdown object>"
      ]
     },
     "metadata": {},
     "output_type": "display_data"
    },
    {
     "data": {
      "text/html": [
       "<div>\n",
       "<style scoped>\n",
       "    .dataframe tbody tr th:only-of-type {\n",
       "        vertical-align: middle;\n",
       "    }\n",
       "\n",
       "    .dataframe tbody tr th {\n",
       "        vertical-align: top;\n",
       "    }\n",
       "\n",
       "    .dataframe thead th {\n",
       "        text-align: right;\n",
       "    }\n",
       "</style>\n",
       "<table border=\"1\" class=\"dataframe\">\n",
       "  <thead>\n",
       "    <tr style=\"text-align: right;\">\n",
       "      <th>PAY_BINS</th>\n",
       "      <th>(-0.001, 0.1]</th>\n",
       "      <th>(0.1, 100.0]</th>\n",
       "      <th>(100.0, 10000.0]</th>\n",
       "      <th>(10000.0, 873552.0]</th>\n",
       "      <th>All</th>\n",
       "    </tr>\n",
       "    <tr>\n",
       "      <th>BILL_BINS</th>\n",
       "      <th></th>\n",
       "      <th></th>\n",
       "      <th></th>\n",
       "      <th></th>\n",
       "      <th></th>\n",
       "    </tr>\n",
       "  </thead>\n",
       "  <tbody>\n",
       "    <tr>\n",
       "      <th>(-1.0, 1.0]</th>\n",
       "      <td>183</td>\n",
       "      <td>0</td>\n",
       "      <td>6</td>\n",
       "      <td>1</td>\n",
       "      <td>190</td>\n",
       "    </tr>\n",
       "    <tr>\n",
       "      <th>(-69777.0, -1.0]</th>\n",
       "      <td>27</td>\n",
       "      <td>2</td>\n",
       "      <td>9</td>\n",
       "      <td>1</td>\n",
       "      <td>39</td>\n",
       "    </tr>\n",
       "    <tr>\n",
       "      <th>(1.0, 10000.0]</th>\n",
       "      <td>0</td>\n",
       "      <td>7</td>\n",
       "      <td>1494</td>\n",
       "      <td>6</td>\n",
       "      <td>1507</td>\n",
       "    </tr>\n",
       "    <tr>\n",
       "      <th>(10000.0, 100000.0]</th>\n",
       "      <td>0</td>\n",
       "      <td>0</td>\n",
       "      <td>8752</td>\n",
       "      <td>523</td>\n",
       "      <td>9275</td>\n",
       "    </tr>\n",
       "    <tr>\n",
       "      <th>(100000.0, 983931.0]</th>\n",
       "      <td>0</td>\n",
       "      <td>0</td>\n",
       "      <td>2613</td>\n",
       "      <td>1057</td>\n",
       "      <td>3670</td>\n",
       "    </tr>\n",
       "    <tr>\n",
       "      <th>All</th>\n",
       "      <td>210</td>\n",
       "      <td>9</td>\n",
       "      <td>12874</td>\n",
       "      <td>1588</td>\n",
       "      <td>14681</td>\n",
       "    </tr>\n",
       "  </tbody>\n",
       "</table>\n",
       "</div>"
      ],
      "text/plain": [
       "PAY_BINS              (-0.001, 0.1]  (0.1, 100.0]  (100.0, 10000.0]  \\\n",
       "BILL_BINS                                                             \n",
       "(-1.0, 1.0]                     183             0                 6   \n",
       "(-69777.0, -1.0]                 27             2                 9   \n",
       "(1.0, 10000.0]                    0             7              1494   \n",
       "(10000.0, 100000.0]               0             0              8752   \n",
       "(100000.0, 983931.0]              0             0              2613   \n",
       "All                             210             9             12874   \n",
       "\n",
       "PAY_BINS              (10000.0, 873552.0]    All  \n",
       "BILL_BINS                                         \n",
       "(-1.0, 1.0]                             1    190  \n",
       "(-69777.0, -1.0]                        1     39  \n",
       "(1.0, 10000.0]                          6   1507  \n",
       "(10000.0, 100000.0]                   523   9275  \n",
       "(100000.0, 983931.0]                 1057   3670  \n",
       "All                                  1588  14681  "
      ]
     },
     "metadata": {},
     "output_type": "display_data"
    },
    {
     "data": {
      "text/html": [
       "<div>\n",
       "<style scoped>\n",
       "    .dataframe tbody tr th:only-of-type {\n",
       "        vertical-align: middle;\n",
       "    }\n",
       "\n",
       "    .dataframe tbody tr th {\n",
       "        vertical-align: top;\n",
       "    }\n",
       "\n",
       "    .dataframe thead th {\n",
       "        text-align: right;\n",
       "    }\n",
       "</style>\n",
       "<table border=\"1\" class=\"dataframe\">\n",
       "  <thead>\n",
       "    <tr style=\"text-align: right;\">\n",
       "      <th>PAY_BINS</th>\n",
       "      <th>(-0.001, 0.1]</th>\n",
       "      <th>(0.1, 100.0]</th>\n",
       "      <th>(100.0, 10000.0]</th>\n",
       "      <th>(10000.0, 873552.0]</th>\n",
       "      <th>All</th>\n",
       "    </tr>\n",
       "    <tr>\n",
       "      <th>BILL_BINS</th>\n",
       "      <th></th>\n",
       "      <th></th>\n",
       "      <th></th>\n",
       "      <th></th>\n",
       "      <th></th>\n",
       "    </tr>\n",
       "  </thead>\n",
       "  <tbody>\n",
       "    <tr>\n",
       "      <th>(-1.0, 1.0]</th>\n",
       "      <td>463</td>\n",
       "      <td>1</td>\n",
       "      <td>7</td>\n",
       "      <td>1</td>\n",
       "      <td>472</td>\n",
       "    </tr>\n",
       "    <tr>\n",
       "      <th>(-69777.0, -1.0]</th>\n",
       "      <td>133</td>\n",
       "      <td>9</td>\n",
       "      <td>13</td>\n",
       "      <td>1</td>\n",
       "      <td>156</td>\n",
       "    </tr>\n",
       "    <tr>\n",
       "      <th>(1.0, 10000.0]</th>\n",
       "      <td>0</td>\n",
       "      <td>54</td>\n",
       "      <td>3283</td>\n",
       "      <td>17</td>\n",
       "      <td>3354</td>\n",
       "    </tr>\n",
       "    <tr>\n",
       "      <th>(10000.0, 100000.0]</th>\n",
       "      <td>0</td>\n",
       "      <td>4</td>\n",
       "      <td>306</td>\n",
       "      <td>864</td>\n",
       "      <td>1174</td>\n",
       "    </tr>\n",
       "    <tr>\n",
       "      <th>(100000.0, 983931.0]</th>\n",
       "      <td>0</td>\n",
       "      <td>0</td>\n",
       "      <td>46</td>\n",
       "      <td>54</td>\n",
       "      <td>100</td>\n",
       "    </tr>\n",
       "    <tr>\n",
       "      <th>All</th>\n",
       "      <td>596</td>\n",
       "      <td>68</td>\n",
       "      <td>3655</td>\n",
       "      <td>937</td>\n",
       "      <td>5256</td>\n",
       "    </tr>\n",
       "  </tbody>\n",
       "</table>\n",
       "</div>"
      ],
      "text/plain": [
       "PAY_BINS              (-0.001, 0.1]  (0.1, 100.0]  (100.0, 10000.0]  \\\n",
       "BILL_BINS                                                             \n",
       "(-1.0, 1.0]                     463             1                 7   \n",
       "(-69777.0, -1.0]                133             9                13   \n",
       "(1.0, 10000.0]                    0            54              3283   \n",
       "(10000.0, 100000.0]               0             4               306   \n",
       "(100000.0, 983931.0]              0             0                46   \n",
       "All                             596            68              3655   \n",
       "\n",
       "PAY_BINS              (10000.0, 873552.0]   All  \n",
       "BILL_BINS                                        \n",
       "(-1.0, 1.0]                             1   472  \n",
       "(-69777.0, -1.0]                        1   156  \n",
       "(1.0, 10000.0]                         17  3354  \n",
       "(10000.0, 100000.0]                   864  1174  \n",
       "(100000.0, 983931.0]                   54   100  \n",
       "All                                   937  5256  "
      ]
     },
     "metadata": {},
     "output_type": "display_data"
    },
    {
     "data": {
      "text/html": [
       "<div>\n",
       "<style scoped>\n",
       "    .dataframe tbody tr th:only-of-type {\n",
       "        vertical-align: middle;\n",
       "    }\n",
       "\n",
       "    .dataframe tbody tr th {\n",
       "        vertical-align: top;\n",
       "    }\n",
       "\n",
       "    .dataframe thead th {\n",
       "        text-align: right;\n",
       "    }\n",
       "</style>\n",
       "<table border=\"1\" class=\"dataframe\">\n",
       "  <thead>\n",
       "    <tr style=\"text-align: right;\">\n",
       "      <th>PAY_BINS</th>\n",
       "      <th>(-0.001, 0.1]</th>\n",
       "      <th>(0.1, 100.0]</th>\n",
       "      <th>(100.0, 10000.0]</th>\n",
       "      <th>(10000.0, 873552.0]</th>\n",
       "      <th>All</th>\n",
       "    </tr>\n",
       "    <tr>\n",
       "      <th>BILL_BINS</th>\n",
       "      <th></th>\n",
       "      <th></th>\n",
       "      <th></th>\n",
       "      <th></th>\n",
       "      <th></th>\n",
       "    </tr>\n",
       "  </thead>\n",
       "  <tbody>\n",
       "    <tr>\n",
       "      <th>(-1.0, 1.0]</th>\n",
       "      <td>560</td>\n",
       "      <td>1</td>\n",
       "      <td>8</td>\n",
       "      <td>1</td>\n",
       "      <td>570</td>\n",
       "    </tr>\n",
       "    <tr>\n",
       "      <th>(-69777.0, -1.0]</th>\n",
       "      <td>150</td>\n",
       "      <td>9</td>\n",
       "      <td>23</td>\n",
       "      <td>0</td>\n",
       "      <td>182</td>\n",
       "    </tr>\n",
       "    <tr>\n",
       "      <th>(1.0, 10000.0]</th>\n",
       "      <td>0</td>\n",
       "      <td>12</td>\n",
       "      <td>1322</td>\n",
       "      <td>11</td>\n",
       "      <td>1345</td>\n",
       "    </tr>\n",
       "    <tr>\n",
       "      <th>(10000.0, 100000.0]</th>\n",
       "      <td>0</td>\n",
       "      <td>1</td>\n",
       "      <td>52</td>\n",
       "      <td>350</td>\n",
       "      <td>403</td>\n",
       "    </tr>\n",
       "    <tr>\n",
       "      <th>(100000.0, 983931.0]</th>\n",
       "      <td>0</td>\n",
       "      <td>0</td>\n",
       "      <td>23</td>\n",
       "      <td>25</td>\n",
       "      <td>48</td>\n",
       "    </tr>\n",
       "    <tr>\n",
       "      <th>All</th>\n",
       "      <td>710</td>\n",
       "      <td>23</td>\n",
       "      <td>1428</td>\n",
       "      <td>387</td>\n",
       "      <td>2548</td>\n",
       "    </tr>\n",
       "  </tbody>\n",
       "</table>\n",
       "</div>"
      ],
      "text/plain": [
       "PAY_BINS              (-0.001, 0.1]  (0.1, 100.0]  (100.0, 10000.0]  \\\n",
       "BILL_BINS                                                             \n",
       "(-1.0, 1.0]                     560             1                 8   \n",
       "(-69777.0, -1.0]                150             9                23   \n",
       "(1.0, 10000.0]                    0            12              1322   \n",
       "(10000.0, 100000.0]               0             1                52   \n",
       "(100000.0, 983931.0]              0             0                23   \n",
       "All                             710            23              1428   \n",
       "\n",
       "PAY_BINS              (10000.0, 873552.0]   All  \n",
       "BILL_BINS                                        \n",
       "(-1.0, 1.0]                             1   570  \n",
       "(-69777.0, -1.0]                        0   182  \n",
       "(1.0, 10000.0]                         11  1345  \n",
       "(10000.0, 100000.0]                   350   403  \n",
       "(100000.0, 983931.0]                   25    48  \n",
       "All                                   387  2548  "
      ]
     },
     "metadata": {},
     "output_type": "display_data"
    },
    {
     "data": {
      "text/markdown": [
       "### Ensure we dropped customers with negative balance that are treated as defaulting"
      ],
      "text/plain": [
       "<IPython.core.display.Markdown object>"
      ]
     },
     "metadata": {},
     "output_type": "display_data"
    },
    {
     "data": {
      "text/plain": [
       "<matplotlib.axes._subplots.AxesSubplot at 0x2b3b2a727b8>"
      ]
     },
     "execution_count": 55,
     "metadata": {},
     "output_type": "execute_result"
    },
    {
     "data": {
      "image/png": "[encoded data removed]",
      "text/plain": [
       "<Figure size 432x288 with 2 Axes>"
      ]
     },
     "metadata": {
      "needs_background": "light"
     },
     "output_type": "display_data"
    }
   ],
   "source": [
    "df_clean = df_raw_data.copy()\n",
    "\n",
    "#drop 328 people who have no balance and yet defaulted (Remembre we need to do BILL_AMT2 because we care about August bill to set September flag)\n",
    "display(Markdown(\"### Drop 713+ who have no balance and default\"))\n",
    "records_before = len(df_clean.index)\n",
    "display(\"Records Before drop {}\".format(records_before))\n",
    "df_clean = df_clean[((df_clean.BILL_AMT2 <= 0) & (df_clean['default.payment.next.month'] <= 0)) | (df_clean.BILL_AMT2 > 0)]\n",
    "records_after = len(df_clean.index)\n",
    "display(\"Records After drop {}\".format(records_after))\n",
    "display(\"Records delta {}\".format(records_before - records_after))\n",
    "\n",
    "\n",
    "# drop 369 people who did not make a payment, had balance, but treated as duly paying\n",
    "display(Markdown(\"### Drop 369 who did not make a payment and were mis-labeled as paying\"))\n",
    "records_before = len(df_clean.index)\n",
    "display(\"Records Before drop {}\".format(records_before))\n",
    "df_clean = df_clean[(df_clean.PAY_0 > 0) | (df_clean.BILL_AMT2 <= 0) | ((df_clean.PAY_AMT1 > 0) & (df_clean.BILL_AMT2 > 0))]\n",
    "records_after = len(df_clean.index)\n",
    "display(\"Records After drop {}\".format(records_after))\n",
    "display(\"Records delta {}\".format(records_before - records_after))\n",
    "\n",
    "\n",
    "\n",
    "pay_bins = [df_clean['PAY_AMT1'].min(), 0.1, 100, 10000, df_clean['PAY_AMT1'].max()]\n",
    "df_clean['PAY_BINS'] = pd.cut(df_test.PAY_AMT1, pay_bins, include_lowest=True).astype(str)\n",
    "df_clean['BILL_BINS'] = pd.cut(df_clean.BILL_AMT2,[df_clean['BILL_AMT2'].min(),-1,1,10000,100000,df_clean['BILL_AMT2'].max()]).astype(str)\n",
    "\n",
    "display(Markdown(\"### Ensure we dropped non-paying customers who are pretending to be paying\"))\n",
    "\n",
    "\n",
    "df_test_p0 = df_clean[df_clean.PAY_0 == 0]\n",
    "display(pd.crosstab(df_test_p0.BILL_BINS, df_test_p0.PAY_BINS, margins=True))\n",
    "df_test_p0 = df_clean[df_clean.PAY_0 == -1]\n",
    "display(pd.crosstab(df_test_p0.BILL_BINS, df_test_p0.PAY_BINS, margins=True))\n",
    "df_test_p0 = df_clean[df_clean.PAY_0 == -2]\n",
    "display(pd.crosstab(df_test_p0.BILL_BINS, df_test_p0.PAY_BINS, margins=True))\n",
    "\n",
    "\n",
    "display(Markdown(\"### Ensure we dropped customers with negative balance that are treated as defaulting\"))\n",
    "\n",
    "plot_df = df_clean.pivot_table(index='BILL_BINS', columns='PAY_0', values='default.payment.next.month', aggfunc=np.mean)\n",
    "sns.heatmap(plot_df, annot=True, fmt=\".1f\")  \n",
    "\n",
    "\n"
   ]
  },
  {
   "cell_type": "markdown",
   "metadata": {},
   "source": [
    "___What you should see___:\n",
    "\n",
    "* We started with 30,000 records\n",
    "* We ended up with 28918 records\n",
    "* You should have a heat-map of PAY_0 vs BILL_BINS with default-rate as heat/color\n",
    " * In it you will se that nobody with balance below 1 is in default\n",
    "* You should also see that nobody with PAY_0 of 0,-1 or -2 is in position of paying 0 while having a balance"
   ]
  },
  {
   "cell_type": "markdown",
   "metadata": {},
   "source": [
    "### 1.9.2 Feature engineer the clean dataset\n",
    "\n",
    "* Create a new function to transform PAY_0 of -1 and -2 into 0\n",
    "* Since we only cleaned PAY_0 and not PAY_2, etc and those seem very correlated, let's not inlcude PAY_2 and above\n",
    "* Re-use dataframe mapper we used earlier\n",
    "* Save output to numpy_clean_fe and df_clean_fe"
   ]
  },
  {
   "cell_type": "code",
   "execution_count": 57,
   "metadata": {},
   "outputs": [
    {
     "name": "stderr",
     "output_type": "stream",
     "text": [
      "C:\\ML\\anaconda3\\lib\\site-packages\\sklearn\\utils\\validation.py:595: DataConversionWarning: Data with input dtype int64 was converted to float64 by StandardScaler.\n",
      "  warnings.warn(msg, DataConversionWarning)\n",
      "C:\\ML\\anaconda3\\lib\\site-packages\\sklearn\\preprocessing\\_function_transformer.py:98: FutureWarning: The default validate=True will be replaced by validate=False in 0.22.\n",
      "  \"validate=False in 0.22.\", FutureWarning)\n",
      "C:\\ML\\anaconda3\\lib\\site-packages\\sklearn\\utils\\validation.py:595: DataConversionWarning: Data with input dtype int64 was converted to float64 by StandardScaler.\n",
      "  warnings.warn(msg, DataConversionWarning)\n",
      "C:\\ML\\anaconda3\\lib\\site-packages\\sklearn\\preprocessing\\_function_transformer.py:98: FutureWarning: The default validate=True will be replaced by validate=False in 0.22.\n",
      "  \"validate=False in 0.22.\", FutureWarning)\n"
     ]
    },
    {
     "data": {
      "text/plain": [
       "(28918, 27)"
      ]
     },
     "metadata": {},
     "output_type": "display_data"
    },
    {
     "data": {
      "text/plain": [
       "array([[-1.12966763,  1.        ,  0.        ,  0.        ,  1.        ,\n",
       "         0.        ,  0.        ,  0.        ,  0.        ,  0.        ,\n",
       "         1.        ,  0.        ,  0.        , -1.24379813,  2.        ,\n",
       "        -0.65870187, -0.66588395, -0.68455647, -0.68891669, -0.67844499,\n",
       "        -0.66735499, -0.3489062 , -0.23001857, -0.30123344, -0.31556534,\n",
       "        -0.31951264, -0.29687129],\n",
       "       [-0.5901141 ,  1.        ,  0.        ,  0.        ,  1.        ,\n",
       "         0.        ,  0.        ,  0.        ,  0.        ,  0.        ,\n",
       "         0.        ,  1.        ,  0.        , -0.15566432,  0.        ,\n",
       "        -0.31767739, -0.51386065, -0.50085314, -0.46835929, -0.43509939,\n",
       "        -0.40892057, -0.25872568, -0.19519135, -0.24489988, -0.25140842,\n",
       "        -0.25402512, -0.0188268 ],\n",
       "       [-0.8984304 ,  1.        ,  0.        ,  0.        ,  1.        ,\n",
       "         0.        ,  0.        ,  0.        ,  0.        ,  0.        ,\n",
       "         1.        ,  0.        ,  0.        ,  0.17077582,  0.        ,\n",
       "        -0.07865325, -0.03787815,  0.00917696, -0.25315769, -0.20700766,\n",
       "        -0.17626478, -0.23009128, -0.17290365, -0.23363317, -0.24499272,\n",
       "        -0.24950648, -0.24126239],\n",
       "       [-0.8984304 ,  0.        ,  0.        ,  0.        ,  1.        ,\n",
       "         0.        ,  0.        ,  0.        ,  0.        ,  0.        ,\n",
       "         1.        ,  0.        ,  0.        ,  2.34704344,  0.        ,\n",
       "        -0.59536068, -0.63014978, -0.1828908 , -0.36664525, -0.36675815,\n",
       "        -0.34938542, -0.23009128,  1.31560558,  0.26210219,  0.26184699,\n",
       "        -0.27439174, -0.25911285],\n",
       "       [-0.8984304 ,  0.        ,  0.        ,  1.        ,  0.        ,\n",
       "         0.        ,  0.        ,  0.        ,  0.        ,  0.        ,\n",
       "         0.        ,  1.        ,  0.        ,  0.17077582,  0.        ,\n",
       "         0.1557792 ,  0.08507635,  0.12789184, -0.39043855, -0.35905796,\n",
       "        -0.33454319, -0.20038755, -0.18166413, -0.26422229, -0.25140842,\n",
       "        -0.25402512, -0.25238417]])"
      ]
     },
     "metadata": {},
     "output_type": "display_data"
    }
   ],
   "source": [
    "def transform_PAY(x):\n",
    "    x = np.apply_along_axis(lambda y: 0 if y < 0 else y, 1, x)\n",
    "    return x\n",
    "\n",
    "pipeline_mapper = DataFrameMapper([\n",
    "    (['LIMIT_BAL'], preprocessing.StandardScaler()),\n",
    "    (['SEX'], preprocessing.LabelBinarizer()),\n",
    "    (['EDUCATION'], preprocessing.LabelBinarizer()),\n",
    "    (['MARRIAGE'], preprocessing.LabelBinarizer()),\n",
    "    (['AGE'], preprocessing.StandardScaler()),\n",
    "    (['PAY_0'], preprocessing.FunctionTransformer(transform_PAY)),  \n",
    "    (['BILL_AMT1'], preprocessing.StandardScaler()),\n",
    "    (['BILL_AMT2'], preprocessing.StandardScaler()),\n",
    "    (['BILL_AMT3'], preprocessing.StandardScaler()),\n",
    "    (['BILL_AMT4'], preprocessing.StandardScaler()),\n",
    "    (['BILL_AMT5'], preprocessing.StandardScaler()),\n",
    "    (['BILL_AMT6'], preprocessing.StandardScaler()),\n",
    "    (['PAY_AMT1'], preprocessing.StandardScaler()),\n",
    "    (['PAY_AMT2'], preprocessing.StandardScaler()),\n",
    "    (['PAY_AMT3'], preprocessing.StandardScaler()),\n",
    "    (['PAY_AMT4'], preprocessing.StandardScaler()),\n",
    "    (['PAY_AMT5'], preprocessing.StandardScaler()),\n",
    "    (['PAY_AMT6'], preprocessing.StandardScaler()),\n",
    "])\n",
    "\n",
    "# transform columns from df_raw_Ddata into numpy_fe array according to our pipeline recipe above\n",
    "numpy_clean_fe = pipeline_mapper.fit_transform(df_clean)\n",
    "\n",
    "\n",
    "# get list of features from our feature engineered data-frame\n",
    "FEATURES = pipeline_mapper.transformed_names_\n",
    "\n",
    "#OPTIONAL - create new dataframe with transformed variables (in case we want to use it to examine data)\n",
    "# df_clean_fe = pd.DataFrame(data=numpy_clean_fe, columns=FEATURES)\n",
    "# display(df_clean_fe.head(10))\n",
    "\n",
    "display(numpy_clean_fe.shape)\n",
    "display(numpy_clean_fe[0:5])\n",
    "\n",
    "\n"
   ]
  },
  {
   "cell_type": "markdown",
   "metadata": {},
   "source": [
    "## 1.10 Re-Run Logistic Regression\n",
    "\n",
    "* Split newly cleaned data & train new logistic regression model\n",
    "* Examine performance:\n",
    " * Accuracy\n",
    " * AuROC\n",
    " * Confusion  matrix\n",
    "* Examine coefficients"
   ]
  },
  {
   "cell_type": "markdown",
   "metadata": {},
   "source": [
    "### 1.10.1 Split  data and train logistic regression\n",
    "\n",
    "* Determine which features you want to use \n",
    "* Determine TARGET\n",
    "* Split df_clean_fe  into X_train, X_test, y_train, y_test\n",
    "* Create a new logistic regression object\n",
    "* Train (fit) Logistic Regression model with X_train and  y_train"
   ]
  },
  {
   "cell_type": "code",
   "execution_count": 58,
   "metadata": {},
   "outputs": [
    {
     "data": {
      "text/plain": [
       "'Orginal distribution'"
      ]
     },
     "metadata": {},
     "output_type": "display_data"
    },
    {
     "data": {
      "text/html": [
       "<div>\n",
       "<style scoped>\n",
       "    .dataframe tbody tr th:only-of-type {\n",
       "        vertical-align: middle;\n",
       "    }\n",
       "\n",
       "    .dataframe tbody tr th {\n",
       "        vertical-align: top;\n",
       "    }\n",
       "\n",
       "    .dataframe thead th {\n",
       "        text-align: right;\n",
       "    }\n",
       "</style>\n",
       "<table border=\"1\" class=\"dataframe\">\n",
       "  <thead>\n",
       "    <tr style=\"text-align: right;\">\n",
       "      <th></th>\n",
       "      <th>counts</th>\n",
       "      <th>freqs</th>\n",
       "    </tr>\n",
       "    <tr>\n",
       "      <th>categories</th>\n",
       "      <th></th>\n",
       "      <th></th>\n",
       "    </tr>\n",
       "  </thead>\n",
       "  <tbody>\n",
       "    <tr>\n",
       "      <th>0</th>\n",
       "      <td>22947</td>\n",
       "      <td>0.79352</td>\n",
       "    </tr>\n",
       "    <tr>\n",
       "      <th>1</th>\n",
       "      <td>5971</td>\n",
       "      <td>0.20648</td>\n",
       "    </tr>\n",
       "  </tbody>\n",
       "</table>\n",
       "</div>"
      ],
      "text/plain": [
       "            counts    freqs\n",
       "categories                 \n",
       "0            22947  0.79352\n",
       "1             5971  0.20648"
      ]
     },
     "metadata": {},
     "output_type": "display_data"
    },
    {
     "name": "stderr",
     "output_type": "stream",
     "text": [
      "C:\\ML\\anaconda3\\lib\\site-packages\\sklearn\\linear_model\\logistic.py:433: FutureWarning: Default solver will be changed to 'lbfgs' in 0.22. Specify a solver to silence this warning.\n",
      "  FutureWarning)\n"
     ]
    },
    {
     "data": {
      "text/plain": [
       "LogisticRegression(C=1.0, class_weight=None, dual=False, fit_intercept=True,\n",
       "          intercept_scaling=1, max_iter=100, multi_class='warn',\n",
       "          n_jobs=None, penalty='l2', random_state=42, solver='warn',\n",
       "          tol=0.0001, verbose=0, warm_start=False)"
      ]
     },
     "execution_count": 58,
     "metadata": {},
     "output_type": "execute_result"
    }
   ],
   "source": [
    "#create numpy target \n",
    "numpy_target = df_clean[TARGET].values\n",
    "\n",
    "#Original distribution\n",
    "display(\"Orginal distribution\")\n",
    "display(pd.Categorical(df_clean[TARGET]).describe())\n",
    "\n",
    "# The function train_test_split, splits the arguments into two sets.\n",
    "X_train, X_test, y_train, y_test = sklearn.model_selection.train_test_split(numpy_clean_fe, numpy_target, test_size=0.2, random_state=2, stratify=numpy_target)\n",
    "\n",
    "linear_model = sklearn.linear_model.LogisticRegression(random_state=42)\n",
    "linear_model.fit(X_train, y_train)"
   ]
  },
  {
   "cell_type": "markdown",
   "metadata": {},
   "source": [
    "__What you should see:__\n",
    "* not  much really\n",
    "* just the logistic regression object that was created with all the paramaters"
   ]
  },
  {
   "cell_type": "markdown",
   "metadata": {},
   "source": [
    "### 1.10.2 Examine performance\n",
    "\n",
    "* Predict results into y_hat_test\n",
    "* Calculate and display test accuracy \n",
    "* Calculate and display AuROC\n",
    "* Display confusion matrix\n"
   ]
  },
  {
   "cell_type": "code",
   "execution_count": 59,
   "metadata": {},
   "outputs": [
    {
     "name": "stderr",
     "output_type": "stream",
     "text": [
      "C:\\ML\\anaconda3\\lib\\site-packages\\sklearn\\linear_model\\logistic.py:433: FutureWarning: Default solver will be changed to 'lbfgs' in 0.22. Specify a solver to silence this warning.\n",
      "  FutureWarning)\n"
     ]
    },
    {
     "data": {
      "text/markdown": [
       "###### Performance on test set"
      ],
      "text/plain": [
       "<IPython.core.display.Markdown object>"
      ]
     },
     "metadata": {},
     "output_type": "display_data"
    },
    {
     "data": {
      "text/plain": [
       "'Linear model test set accuracy: 0.8453'"
      ]
     },
     "metadata": {},
     "output_type": "display_data"
    },
    {
     "data": {
      "text/markdown": [
       "Linear model predicion distribution:"
      ],
      "text/plain": [
       "<IPython.core.display.Markdown object>"
      ]
     },
     "metadata": {},
     "output_type": "display_data"
    },
    {
     "data": {
      "text/html": [
       "<div>\n",
       "<style scoped>\n",
       "    .dataframe tbody tr th:only-of-type {\n",
       "        vertical-align: middle;\n",
       "    }\n",
       "\n",
       "    .dataframe tbody tr th {\n",
       "        vertical-align: top;\n",
       "    }\n",
       "\n",
       "    .dataframe thead th {\n",
       "        text-align: right;\n",
       "    }\n",
       "</style>\n",
       "<table border=\"1\" class=\"dataframe\">\n",
       "  <thead>\n",
       "    <tr style=\"text-align: right;\">\n",
       "      <th></th>\n",
       "      <th>counts</th>\n",
       "      <th>freqs</th>\n",
       "    </tr>\n",
       "    <tr>\n",
       "      <th>categories</th>\n",
       "      <th></th>\n",
       "      <th></th>\n",
       "    </tr>\n",
       "  </thead>\n",
       "  <tbody>\n",
       "    <tr>\n",
       "      <th>0</th>\n",
       "      <td>5099</td>\n",
       "      <td>0.88157</td>\n",
       "    </tr>\n",
       "    <tr>\n",
       "      <th>1</th>\n",
       "      <td>685</td>\n",
       "      <td>0.11843</td>\n",
       "    </tr>\n",
       "  </tbody>\n",
       "</table>\n",
       "</div>"
      ],
      "text/plain": [
       "            counts    freqs\n",
       "categories                 \n",
       "0             5099  0.88157\n",
       "1              685  0.11843"
      ]
     },
     "metadata": {},
     "output_type": "display_data"
    },
    {
     "data": {
      "text/markdown": [
       "\n",
       "\n",
       "auROC is: 84.14"
      ],
      "text/plain": [
       "<IPython.core.display.Markdown object>"
      ]
     },
     "metadata": {},
     "output_type": "display_data"
    },
    {
     "data": {
      "text/html": [
       "<div>\n",
       "<style scoped>\n",
       "    .dataframe tbody tr th:only-of-type {\n",
       "        vertical-align: middle;\n",
       "    }\n",
       "\n",
       "    .dataframe tbody tr th {\n",
       "        vertical-align: top;\n",
       "    }\n",
       "\n",
       "    .dataframe thead th {\n",
       "        text-align: right;\n",
       "    }\n",
       "</style>\n",
       "<table border=\"1\" class=\"dataframe\">\n",
       "  <thead>\n",
       "    <tr style=\"text-align: right;\">\n",
       "      <th></th>\n",
       "      <th>Predicted Not Default</th>\n",
       "      <th>Predicted to Default</th>\n",
       "    </tr>\n",
       "  </thead>\n",
       "  <tbody>\n",
       "    <tr>\n",
       "      <th>Actual Not Default</th>\n",
       "      <td>4397</td>\n",
       "      <td>193</td>\n",
       "    </tr>\n",
       "    <tr>\n",
       "      <th>Actual Default</th>\n",
       "      <td>702</td>\n",
       "      <td>492</td>\n",
       "    </tr>\n",
       "  </tbody>\n",
       "</table>\n",
       "</div>"
      ],
      "text/plain": [
       "                    Predicted Not Default  Predicted to Default\n",
       "Actual Not Default                   4397                   193\n",
       "Actual Default                        702                   492"
      ]
     },
     "metadata": {},
     "output_type": "display_data"
    }
   ],
   "source": [
    "# Run Logistic Regression Training\n",
    "linear_model = sklearn.linear_model.LogisticRegression(random_state=42)\n",
    "linear_model.fit(X_train, y_train)\n",
    "\n",
    "display(Markdown('###### Performance on test set'))\n",
    "#create prediciton\n",
    "y_hat_test = linear_model.predict(X_test)\n",
    "y_hat_test_proba = linear_model.predict_proba(X_test)\n",
    "\n",
    "# Accuracy\n",
    "lr_accuracy = sklearn.metrics.accuracy_score(y_test, y_hat_test)\n",
    "display('Linear model test set accuracy: {:.4f}'.format(lr_accuracy))\n",
    "display(Markdown('Linear model predicion distribution:'))\n",
    "display(pd.Categorical(y_hat_test).describe())\n",
    "\n",
    "# AuRoc\n",
    "false_positive_rate, true_positive_rate, thresholds = roc_curve(y_test, y_hat_test_proba[:,1])\n",
    "AuROC = sklearn.metrics.auc(false_positive_rate, true_positive_rate)\n",
    "display(Markdown('\\n\\nauROC is: {:.2f}'.format(AuROC * 100)))\n",
    "\n",
    "# Confusion matrix\n",
    "display(pd.DataFrame(confusion_matrix(y_test, y_hat_test), \n",
    "             columns=['Predicted Not Default', 'Predicted to Default'],\n",
    "             index=['Actual Not Default', 'Actual Default']))"
   ]
  },
  {
   "cell_type": "markdown",
   "metadata": {},
   "source": [
    "__What  you should see:__\n",
    "\n",
    "* Modest accuracy improvement of 85% (vs 83% before)\n",
    "* Modest auROC improvement from 82 to 84"
   ]
  },
  {
   "cell_type": "code",
   "execution_count": 60,
   "metadata": {},
   "outputs": [
    {
     "data": {
      "image/png": "[encoded data removed]",
      "text/plain": [
       "<Figure size 432x288 with 1 Axes>"
      ]
     },
     "metadata": {
      "needs_background": "light"
     },
     "output_type": "display_data"
    }
   ],
   "source": [
    "#ROC chart\n",
    "plt.plot(false_positive_rate, true_positive_rate, color='darkorange', label='ROC curve (area = %0.2f)' % AuROC)\n",
    "plt.plot([0, 1], [0, 1], color='navy', linestyle='--')\n",
    "plt.xlim([0.0, 1.0])\n",
    "plt.ylim([0.0, 1.05])\n",
    "plt.xlabel('False Positive Rate')\n",
    "plt.ylabel('True Positive Rate')\n",
    "plt.title('ROC')\n",
    "plt.legend(loc=\"lower right\")\n",
    "plt.show()"
   ]
  },
  {
   "cell_type": "markdown",
   "metadata": {},
   "source": [
    "### 1.10.3 Examine coefficients\n",
    "\n",
    "* Get coefficients from logistic regression object (attribute coef_)\n",
    "* pair them with features (maybe as a dictionary) and sort  by value (smallest to biggest)"
   ]
  },
  {
   "cell_type": "code",
   "execution_count": 61,
   "metadata": {},
   "outputs": [
    {
     "data": {
      "text/html": [
       "<div>\n",
       "<style scoped>\n",
       "    .dataframe tbody tr th:only-of-type {\n",
       "        vertical-align: middle;\n",
       "    }\n",
       "\n",
       "    .dataframe tbody tr th {\n",
       "        vertical-align: top;\n",
       "    }\n",
       "\n",
       "    .dataframe thead th {\n",
       "        text-align: right;\n",
       "    }\n",
       "</style>\n",
       "<table border=\"1\" class=\"dataframe\">\n",
       "  <thead>\n",
       "    <tr style=\"text-align: right;\">\n",
       "      <th></th>\n",
       "      <th>features</th>\n",
       "      <th>coefficients</th>\n",
       "    </tr>\n",
       "  </thead>\n",
       "  <tbody>\n",
       "    <tr>\n",
       "      <th>9</th>\n",
       "      <td>MARRIAGE_0</td>\n",
       "      <td>-1.075064</td>\n",
       "    </tr>\n",
       "    <tr>\n",
       "      <th>0</th>\n",
       "      <td>LIMIT_BAL</td>\n",
       "      <td>-1.037680</td>\n",
       "    </tr>\n",
       "    <tr>\n",
       "      <th>16</th>\n",
       "      <td>BILL_AMT2</td>\n",
       "      <td>-0.734147</td>\n",
       "    </tr>\n",
       "    <tr>\n",
       "      <th>7</th>\n",
       "      <td>EDUCATION_5</td>\n",
       "      <td>-0.661479</td>\n",
       "    </tr>\n",
       "    <tr>\n",
       "      <th>2</th>\n",
       "      <td>EDUCATION_0</td>\n",
       "      <td>-0.554243</td>\n",
       "    </tr>\n",
       "    <tr>\n",
       "      <th>6</th>\n",
       "      <td>EDUCATION_4</td>\n",
       "      <td>-0.490308</td>\n",
       "    </tr>\n",
       "    <tr>\n",
       "      <th>11</th>\n",
       "      <td>MARRIAGE_2</td>\n",
       "      <td>-0.410319</td>\n",
       "    </tr>\n",
       "    <tr>\n",
       "      <th>10</th>\n",
       "      <td>MARRIAGE_1</td>\n",
       "      <td>-0.371343</td>\n",
       "    </tr>\n",
       "    <tr>\n",
       "      <th>22</th>\n",
       "      <td>PAY_AMT2</td>\n",
       "      <td>-0.348770</td>\n",
       "    </tr>\n",
       "    <tr>\n",
       "      <th>19</th>\n",
       "      <td>BILL_AMT5</td>\n",
       "      <td>-0.160651</td>\n",
       "    </tr>\n",
       "    <tr>\n",
       "      <th>1</th>\n",
       "      <td>SEX</td>\n",
       "      <td>-0.158096</td>\n",
       "    </tr>\n",
       "    <tr>\n",
       "      <th>25</th>\n",
       "      <td>PAY_AMT5</td>\n",
       "      <td>-0.130928</td>\n",
       "    </tr>\n",
       "    <tr>\n",
       "      <th>21</th>\n",
       "      <td>PAY_AMT1</td>\n",
       "      <td>-0.123435</td>\n",
       "    </tr>\n",
       "    <tr>\n",
       "      <th>3</th>\n",
       "      <td>EDUCATION_1</td>\n",
       "      <td>-0.089973</td>\n",
       "    </tr>\n",
       "    <tr>\n",
       "      <th>18</th>\n",
       "      <td>BILL_AMT4</td>\n",
       "      <td>-0.081803</td>\n",
       "    </tr>\n",
       "    <tr>\n",
       "      <th>5</th>\n",
       "      <td>EDUCATION_3</td>\n",
       "      <td>-0.058815</td>\n",
       "    </tr>\n",
       "    <tr>\n",
       "      <th>26</th>\n",
       "      <td>PAY_AMT6</td>\n",
       "      <td>-0.054620</td>\n",
       "    </tr>\n",
       "    <tr>\n",
       "      <th>24</th>\n",
       "      <td>PAY_AMT4</td>\n",
       "      <td>-0.019708</td>\n",
       "    </tr>\n",
       "    <tr>\n",
       "      <th>23</th>\n",
       "      <td>PAY_AMT3</td>\n",
       "      <td>-0.017680</td>\n",
       "    </tr>\n",
       "    <tr>\n",
       "      <th>8</th>\n",
       "      <td>EDUCATION_6</td>\n",
       "      <td>-0.003627</td>\n",
       "    </tr>\n",
       "    <tr>\n",
       "      <th>12</th>\n",
       "      <td>MARRIAGE_3</td>\n",
       "      <td>-0.003445</td>\n",
       "    </tr>\n",
       "    <tr>\n",
       "      <th>4</th>\n",
       "      <td>EDUCATION_2</td>\n",
       "      <td>-0.001726</td>\n",
       "    </tr>\n",
       "    <tr>\n",
       "      <th>17</th>\n",
       "      <td>BILL_AMT3</td>\n",
       "      <td>0.090904</td>\n",
       "    </tr>\n",
       "    <tr>\n",
       "      <th>20</th>\n",
       "      <td>BILL_AMT6</td>\n",
       "      <td>0.135936</td>\n",
       "    </tr>\n",
       "    <tr>\n",
       "      <th>13</th>\n",
       "      <td>AGE</td>\n",
       "      <td>0.248312</td>\n",
       "    </tr>\n",
       "    <tr>\n",
       "      <th>14</th>\n",
       "      <td>PAY_0</td>\n",
       "      <td>1.313959</td>\n",
       "    </tr>\n",
       "    <tr>\n",
       "      <th>15</th>\n",
       "      <td>BILL_AMT1</td>\n",
       "      <td>1.563872</td>\n",
       "    </tr>\n",
       "  </tbody>\n",
       "</table>\n",
       "</div>"
      ],
      "text/plain": [
       "       features  coefficients\n",
       "9    MARRIAGE_0     -1.075064\n",
       "0     LIMIT_BAL     -1.037680\n",
       "16    BILL_AMT2     -0.734147\n",
       "7   EDUCATION_5     -0.661479\n",
       "2   EDUCATION_0     -0.554243\n",
       "6   EDUCATION_4     -0.490308\n",
       "11   MARRIAGE_2     -0.410319\n",
       "10   MARRIAGE_1     -0.371343\n",
       "22     PAY_AMT2     -0.348770\n",
       "19    BILL_AMT5     -0.160651\n",
       "1           SEX     -0.158096\n",
       "25     PAY_AMT5     -0.130928\n",
       "21     PAY_AMT1     -0.123435\n",
       "3   EDUCATION_1     -0.089973\n",
       "18    BILL_AMT4     -0.081803\n",
       "5   EDUCATION_3     -0.058815\n",
       "26     PAY_AMT6     -0.054620\n",
       "24     PAY_AMT4     -0.019708\n",
       "23     PAY_AMT3     -0.017680\n",
       "8   EDUCATION_6     -0.003627\n",
       "12   MARRIAGE_3     -0.003445\n",
       "4   EDUCATION_2     -0.001726\n",
       "17    BILL_AMT3      0.090904\n",
       "20    BILL_AMT6      0.135936\n",
       "13          AGE      0.248312\n",
       "14        PAY_0      1.313959\n",
       "15    BILL_AMT1      1.563872"
      ]
     },
     "metadata": {},
     "output_type": "display_data"
    }
   ],
   "source": [
    "#get coefficients (same order as features fed into Logistic Regression)\n",
    "coefficients = linear_model.coef_\n",
    "\n",
    "#put it in a nice dataframe and sort from most impact to least, sicne raw print-out is ugly\n",
    "display(pd.DataFrame({'features': FEATURES, 'coefficients': coefficients[0]}).sort_values('coefficients'))"
   ]
  },
  {
   "cell_type": "markdown",
   "metadata": {},
   "source": [
    "___What you should see___:\n",
    "* Feature importance interpretation:\n",
    " * Top 3 indicators of non-default:\n",
    "  * LIMIT_BAL - Size of your balance limit is now negatively correlated - this tells us bank is good at giving bigger balance to safer people\n",
    "  * BILL_AMT2 - size of  your bill 2 months ago - this is weird and likely some kind of colinearity between it AND   BILL_AMT1\n",
    "  * MARRIAGE_0\t- being married strongly suggest default - very, very odd...but we saw in data it's a real, alebeit weak signal\n",
    " * Top 3 indicators of default:\n",
    "  * BILL_AMT1 - size of your last bill\n",
    "  * PAY_0 - payment status (i.e. on time vs late and how late)\n",
    "  * AGE - being older makes you likely to default more. This is real, but think overfitting since going from 20s to 30s make you less of a risk and then it becomes a bigger risk as you're over 50 - a non-linear algorithm (e.g. tree-based) would pick up on this, or you could feature engineer bins and feed as one hot"
   ]
  },
  {
   "cell_type": "markdown",
   "metadata": {},
   "source": [
    "# Sprint 2\n",
    "\n",
    "__Plan:__\n",
    "1. Let's try training with a non-linear model such as XGBoost\n",
    "2. Let's explore potential features to engineer\n",
    "3. Let's engineer features with a strong signal and create new training set\n",
    "4. Let's re-run XGboost with new features\n",
    "\n",
    "\n"
   ]
  },
  {
   "cell_type": "markdown",
   "metadata": {},
   "source": [
    "## 2.1 Let's try running XGBoost and see what happens\n",
    "\n",
    "__Steps:__\n",
    "\n",
    "* Create  new XGBClassifer object\n",
    "* Train it with same training data from last logistic regression model\n",
    "* Run prediction on test data and see performance:\n",
    " * Accuracy\n",
    " * AuROC\n",
    " * confusion matrix"
   ]
  },
  {
   "cell_type": "code",
   "execution_count": 62,
   "metadata": {},
   "outputs": [
    {
     "data": {
      "text/plain": [
       "'XGBoost model test set accuracy: 0.8589'"
      ]
     },
     "metadata": {},
     "output_type": "display_data"
    },
    {
     "data": {
      "text/markdown": [
       "XGBoost model predicion distribution:"
      ],
      "text/plain": [
       "<IPython.core.display.Markdown object>"
      ]
     },
     "metadata": {},
     "output_type": "display_data"
    },
    {
     "data": {
      "text/html": [
       "<div>\n",
       "<style scoped>\n",
       "    .dataframe tbody tr th:only-of-type {\n",
       "        vertical-align: middle;\n",
       "    }\n",
       "\n",
       "    .dataframe tbody tr th {\n",
       "        vertical-align: top;\n",
       "    }\n",
       "\n",
       "    .dataframe thead th {\n",
       "        text-align: right;\n",
       "    }\n",
       "</style>\n",
       "<table border=\"1\" class=\"dataframe\">\n",
       "  <thead>\n",
       "    <tr style=\"text-align: right;\">\n",
       "      <th></th>\n",
       "      <th>counts</th>\n",
       "      <th>freqs</th>\n",
       "    </tr>\n",
       "    <tr>\n",
       "      <th>categories</th>\n",
       "      <th></th>\n",
       "      <th></th>\n",
       "    </tr>\n",
       "  </thead>\n",
       "  <tbody>\n",
       "    <tr>\n",
       "      <th>0</th>\n",
       "      <td>4888</td>\n",
       "      <td>0.84509</td>\n",
       "    </tr>\n",
       "    <tr>\n",
       "      <th>1</th>\n",
       "      <td>896</td>\n",
       "      <td>0.15491</td>\n",
       "    </tr>\n",
       "  </tbody>\n",
       "</table>\n",
       "</div>"
      ],
      "text/plain": [
       "            counts    freqs\n",
       "categories                 \n",
       "0             4888  0.84509\n",
       "1              896  0.15491"
      ]
     },
     "metadata": {},
     "output_type": "display_data"
    },
    {
     "data": {
      "text/markdown": [
       "\n",
       "\n",
       "auROC is: 87.89"
      ],
      "text/plain": [
       "<IPython.core.display.Markdown object>"
      ]
     },
     "metadata": {},
     "output_type": "display_data"
    },
    {
     "data": {
      "text/html": [
       "<div>\n",
       "<style scoped>\n",
       "    .dataframe tbody tr th:only-of-type {\n",
       "        vertical-align: middle;\n",
       "    }\n",
       "\n",
       "    .dataframe tbody tr th {\n",
       "        vertical-align: top;\n",
       "    }\n",
       "\n",
       "    .dataframe thead th {\n",
       "        text-align: right;\n",
       "    }\n",
       "</style>\n",
       "<table border=\"1\" class=\"dataframe\">\n",
       "  <thead>\n",
       "    <tr style=\"text-align: right;\">\n",
       "      <th></th>\n",
       "      <th>Predicted Not Default</th>\n",
       "      <th>Predicted to Default</th>\n",
       "    </tr>\n",
       "  </thead>\n",
       "  <tbody>\n",
       "    <tr>\n",
       "      <th>Actual Not Default</th>\n",
       "      <td>4331</td>\n",
       "      <td>259</td>\n",
       "    </tr>\n",
       "    <tr>\n",
       "      <th>Actual Default</th>\n",
       "      <td>557</td>\n",
       "      <td>637</td>\n",
       "    </tr>\n",
       "  </tbody>\n",
       "</table>\n",
       "</div>"
      ],
      "text/plain": [
       "                    Predicted Not Default  Predicted to Default\n",
       "Actual Not Default                   4331                   259\n",
       "Actual Default                        557                   637"
      ]
     },
     "metadata": {},
     "output_type": "display_data"
    }
   ],
   "source": [
    "#Create XGBoost classifer\n",
    "XG_model = XGBClassifier()\n",
    "#Train new model\n",
    "XG_model.fit(X_train, y_train)\n",
    "\n",
    "y_hat_test = XG_model.predict(X_test)\n",
    "y_hat_test_proba = XG_model.predict_proba(X_test)\n",
    "\n",
    "# Accuracy\n",
    "xg_accuracy = sklearn.metrics.accuracy_score(y_test, y_hat_test)\n",
    "display('XGBoost model test set accuracy: {:.4f}'.format(xg_accuracy))\n",
    "display(Markdown('XGBoost model predicion distribution:'))\n",
    "display(pd.Categorical(y_hat_test).describe())\n",
    "\n",
    "# AuRoc\n",
    "false_positive_rate, true_positive_rate, thresholds = roc_curve(y_test, y_hat_test_proba[:,1])\n",
    "AuROC = sklearn.metrics.auc(false_positive_rate, true_positive_rate)\n",
    "display(Markdown('\\n\\nauROC is: {:.2f}'.format(AuROC * 100)))\n",
    "\n",
    "# Confusion matrix\n",
    "display(pd.DataFrame(confusion_matrix(y_test, y_hat_test), \n",
    "             columns=['Predicted Not Default', 'Predicted to Default'],\n",
    "             index=['Actual Not Default', 'Actual Default']))"
   ]
  },
  {
   "cell_type": "markdown",
   "metadata": {},
   "source": [
    "___What yuou should see___:\n",
    "* Accuracy improved a little bit over Log Regression - from 85% to 86%\n",
    "* AuRock improved quite a bit too - from 85 to 88\n",
    "* We are predicting defaults closer to the  true frequency in the population\n",
    "\n",
    "___Next up:___ Let's see what features it's reacting to most"
   ]
  },
  {
   "cell_type": "code",
   "execution_count": 63,
   "metadata": {},
   "outputs": [
    {
     "data": {
      "text/html": [
       "<div>\n",
       "<style scoped>\n",
       "    .dataframe tbody tr th:only-of-type {\n",
       "        vertical-align: middle;\n",
       "    }\n",
       "\n",
       "    .dataframe tbody tr th {\n",
       "        vertical-align: top;\n",
       "    }\n",
       "\n",
       "    .dataframe thead th {\n",
       "        text-align: right;\n",
       "    }\n",
       "</style>\n",
       "<table border=\"1\" class=\"dataframe\">\n",
       "  <thead>\n",
       "    <tr style=\"text-align: right;\">\n",
       "      <th></th>\n",
       "      <th>features</th>\n",
       "      <th>importance</th>\n",
       "    </tr>\n",
       "  </thead>\n",
       "  <tbody>\n",
       "    <tr>\n",
       "      <th>15</th>\n",
       "      <td>BILL_AMT1</td>\n",
       "      <td>0.221465</td>\n",
       "    </tr>\n",
       "    <tr>\n",
       "      <th>16</th>\n",
       "      <td>BILL_AMT2</td>\n",
       "      <td>0.153322</td>\n",
       "    </tr>\n",
       "    <tr>\n",
       "      <th>0</th>\n",
       "      <td>LIMIT_BAL</td>\n",
       "      <td>0.109029</td>\n",
       "    </tr>\n",
       "    <tr>\n",
       "      <th>22</th>\n",
       "      <td>PAY_AMT2</td>\n",
       "      <td>0.080068</td>\n",
       "    </tr>\n",
       "    <tr>\n",
       "      <th>21</th>\n",
       "      <td>PAY_AMT1</td>\n",
       "      <td>0.078365</td>\n",
       "    </tr>\n",
       "    <tr>\n",
       "      <th>14</th>\n",
       "      <td>PAY_0</td>\n",
       "      <td>0.073254</td>\n",
       "    </tr>\n",
       "    <tr>\n",
       "      <th>13</th>\n",
       "      <td>AGE</td>\n",
       "      <td>0.061329</td>\n",
       "    </tr>\n",
       "    <tr>\n",
       "      <th>24</th>\n",
       "      <td>PAY_AMT4</td>\n",
       "      <td>0.044293</td>\n",
       "    </tr>\n",
       "    <tr>\n",
       "      <th>23</th>\n",
       "      <td>PAY_AMT3</td>\n",
       "      <td>0.037479</td>\n",
       "    </tr>\n",
       "    <tr>\n",
       "      <th>25</th>\n",
       "      <td>PAY_AMT5</td>\n",
       "      <td>0.032368</td>\n",
       "    </tr>\n",
       "    <tr>\n",
       "      <th>19</th>\n",
       "      <td>BILL_AMT5</td>\n",
       "      <td>0.030664</td>\n",
       "    </tr>\n",
       "    <tr>\n",
       "      <th>17</th>\n",
       "      <td>BILL_AMT3</td>\n",
       "      <td>0.020443</td>\n",
       "    </tr>\n",
       "    <tr>\n",
       "      <th>18</th>\n",
       "      <td>BILL_AMT4</td>\n",
       "      <td>0.020443</td>\n",
       "    </tr>\n",
       "    <tr>\n",
       "      <th>20</th>\n",
       "      <td>BILL_AMT6</td>\n",
       "      <td>0.011925</td>\n",
       "    </tr>\n",
       "    <tr>\n",
       "      <th>26</th>\n",
       "      <td>PAY_AMT6</td>\n",
       "      <td>0.006814</td>\n",
       "    </tr>\n",
       "    <tr>\n",
       "      <th>11</th>\n",
       "      <td>MARRIAGE_2</td>\n",
       "      <td>0.005111</td>\n",
       "    </tr>\n",
       "    <tr>\n",
       "      <th>1</th>\n",
       "      <td>SEX</td>\n",
       "      <td>0.003407</td>\n",
       "    </tr>\n",
       "    <tr>\n",
       "      <th>12</th>\n",
       "      <td>MARRIAGE_3</td>\n",
       "      <td>0.003407</td>\n",
       "    </tr>\n",
       "    <tr>\n",
       "      <th>3</th>\n",
       "      <td>EDUCATION_1</td>\n",
       "      <td>0.003407</td>\n",
       "    </tr>\n",
       "    <tr>\n",
       "      <th>4</th>\n",
       "      <td>EDUCATION_2</td>\n",
       "      <td>0.001704</td>\n",
       "    </tr>\n",
       "    <tr>\n",
       "      <th>7</th>\n",
       "      <td>EDUCATION_5</td>\n",
       "      <td>0.001704</td>\n",
       "    </tr>\n",
       "    <tr>\n",
       "      <th>5</th>\n",
       "      <td>EDUCATION_3</td>\n",
       "      <td>0.000000</td>\n",
       "    </tr>\n",
       "    <tr>\n",
       "      <th>8</th>\n",
       "      <td>EDUCATION_6</td>\n",
       "      <td>0.000000</td>\n",
       "    </tr>\n",
       "    <tr>\n",
       "      <th>6</th>\n",
       "      <td>EDUCATION_4</td>\n",
       "      <td>0.000000</td>\n",
       "    </tr>\n",
       "    <tr>\n",
       "      <th>2</th>\n",
       "      <td>EDUCATION_0</td>\n",
       "      <td>0.000000</td>\n",
       "    </tr>\n",
       "    <tr>\n",
       "      <th>10</th>\n",
       "      <td>MARRIAGE_1</td>\n",
       "      <td>0.000000</td>\n",
       "    </tr>\n",
       "    <tr>\n",
       "      <th>9</th>\n",
       "      <td>MARRIAGE_0</td>\n",
       "      <td>0.000000</td>\n",
       "    </tr>\n",
       "  </tbody>\n",
       "</table>\n",
       "</div>"
      ],
      "text/plain": [
       "       features  importance\n",
       "15    BILL_AMT1    0.221465\n",
       "16    BILL_AMT2    0.153322\n",
       "0     LIMIT_BAL    0.109029\n",
       "22     PAY_AMT2    0.080068\n",
       "21     PAY_AMT1    0.078365\n",
       "14        PAY_0    0.073254\n",
       "13          AGE    0.061329\n",
       "24     PAY_AMT4    0.044293\n",
       "23     PAY_AMT3    0.037479\n",
       "25     PAY_AMT5    0.032368\n",
       "19    BILL_AMT5    0.030664\n",
       "17    BILL_AMT3    0.020443\n",
       "18    BILL_AMT4    0.020443\n",
       "20    BILL_AMT6    0.011925\n",
       "26     PAY_AMT6    0.006814\n",
       "11   MARRIAGE_2    0.005111\n",
       "1           SEX    0.003407\n",
       "12   MARRIAGE_3    0.003407\n",
       "3   EDUCATION_1    0.003407\n",
       "4   EDUCATION_2    0.001704\n",
       "7   EDUCATION_5    0.001704\n",
       "5   EDUCATION_3    0.000000\n",
       "8   EDUCATION_6    0.000000\n",
       "6   EDUCATION_4    0.000000\n",
       "2   EDUCATION_0    0.000000\n",
       "10   MARRIAGE_1    0.000000\n",
       "9    MARRIAGE_0    0.000000"
      ]
     },
     "execution_count": 63,
     "metadata": {},
     "output_type": "execute_result"
    }
   ],
   "source": [
    "pd.DataFrame({'features': FEATURES, 'importance': XG_model.feature_importances_}).sort_values('importance', ascending=False)"
   ]
  },
  {
   "cell_type": "markdown",
   "metadata": {},
   "source": [
    "__What you should see__:\n",
    "* Looks like alsmot all features are used (except most education levels and marriage value of 1, 0)\n",
    "* Looks like size of last two bills is pretty important, as is size of credit (Similar to log-regression)\n",
    "* Also, looks like how much was owed and paid for last 2 months is an important  signal too"
   ]
  },
  {
   "cell_type": "markdown",
   "metadata": {},
   "source": [
    "## 2.2 Let's explore potential features\n",
    "\n",
    "* Two potential hypothesis\n",
    " * Share of  credit used\n",
    " * Sudden spike in spend\n",
    "* Approach:\n",
    " * Manually create a feature\n",
    " * Explore if feature  has signal through charts, cross-tabs, etc."
   ]
  },
  {
   "cell_type": "markdown",
   "metadata": {},
   "source": [
    "### 2.2.1 Feature Engineering - Share  of credit used\n",
    "\n",
    "* Let's define debt load as percent - how much is owed vs size of credit available and call that column \"Balance_ratio\"\n",
    "* Let's create a function to calculate it\n",
    "* Then let's see if there is a signal in that flag (e.g. histogram)"
   ]
  },
  {
   "cell_type": "code",
   "execution_count": 64,
   "metadata": {},
   "outputs": [
    {
     "data": {
      "image/png": "[encoded data removed]",
      "text/plain": [
       "<Figure size 432x288 with 1 Axes>"
      ]
     },
     "metadata": {
      "needs_background": "light"
     },
     "output_type": "display_data"
    },
    {
     "data": {
      "image/png": "[encoded data removed]",
      "text/plain": [
       "<Figure size 432x288 with 1 Axes>"
      ]
     },
     "metadata": {
      "needs_background": "light"
     },
     "output_type": "display_data"
    }
   ],
   "source": [
    "def flag_high_balance(row):\n",
    "    #  we don't wwant to be  dividing by 0 :) \n",
    "    if row['BILL_AMT1'] > 0 and row['LIMIT_BAL'] > 0:\n",
    "        return (row['BILL_AMT1'] / row['LIMIT_BAL'])\n",
    "    else:\n",
    "        return 0\n",
    "\n",
    "#apply  custom function to create a new field Balance_ratio \n",
    "df_clean['Balance_ratio'] = df_clean.apply(flag_high_balance, axis=1)\n",
    "\n",
    "#create histogram  of payers vs defaulters and what Balance ratio \n",
    "plt.hist(df_clean[(df_clean['default.payment.next.month'] == 0)]['Balance_ratio'].dropna(), bins=40, alpha=0.5, label='Payers', density = True)\n",
    "plt.hist(df_clean[(df_clean['default.payment.next.month'] == 1)]['Balance_ratio'].dropna(), bins=40, alpha=0.5, label='Defaulters', density = True)\n",
    "plt.legend(loc='upper right')\n",
    "plt.show()\n",
    "\n",
    "#create histogram  of payers vs defaulters: Look only at balance ration <2 to remoe effects of long-tail\n",
    "plt.hist(df_clean[(df_clean['default.payment.next.month'] == 0) & (df_clean['Balance_ratio']<2) ]['Balance_ratio'].dropna(), bins=40, alpha=0.5, label='Payers', density = True)\n",
    "plt.hist(df_clean[(df_clean['default.payment.next.month'] == 1) & (df_clean['Balance_ratio']<2) ]['Balance_ratio'].dropna(), bins=40, alpha=0.5, label='Defaulters', density = True)\n",
    "plt.legend(loc='upper right')\n",
    "plt.show()\n"
   ]
  },
  {
   "cell_type": "markdown",
   "metadata": {},
   "source": [
    "___What you should see:___\n",
    "\n",
    "* Histogram of Payers vs defaulters distribution\n",
    "* You should see that defaulters:\n",
    " * Much larger share is skewed to the right (higher debt load) vs payers\n",
    " * Above 1.25, it's all defaulters\n",
    "\n",
    "___This is definitely a signal and we should use it___\n"
   ]
  },
  {
   "cell_type": "markdown",
   "metadata": {},
   "source": [
    "### 2.2.2 Next up - let's look at  folks who are suddenly spending a lot more than usual\n",
    "\n",
    "* Let's define spending spike is last month's bill vs average from previous five \n",
    "* Let's create a function to calculate how much of a spike we have\n",
    "* Then let's see if there is a signal in that variable"
   ]
  },
  {
   "cell_type": "code",
   "execution_count": 65,
   "metadata": {},
   "outputs": [
    {
     "data": {
      "image/png": "[encoded data removed]",
      "text/plain": [
       "<Figure size 432x288 with 1 Axes>"
      ]
     },
     "metadata": {
      "needs_background": "light"
     },
     "output_type": "display_data"
    },
    {
     "data": {
      "image/png": "[encoded data removed]",
      "text/plain": [
       "<Figure size 432x288 with 1 Axes>"
      ]
     },
     "metadata": {
      "needs_background": "light"
     },
     "output_type": "display_data"
    }
   ],
   "source": [
    "def flag_spend_spike(row):\n",
    "    if row['BILL_AMT1'] > 0 and row['BILL_AMT2'] >= 0 and (\n",
    "        row['BILL_AMT3'] >= 0 and row['BILL_AMT4'] >= 0 and (\n",
    "            row['BILL_AMT5'] >= 0 and row['BILL_AMT6'] >= 0)):\n",
    "        \n",
    "        five_month_sum = row['BILL_AMT2'] + row['BILL_AMT3'] + \\\n",
    "            row['BILL_AMT4'] + row['BILL_AMT5'] + row['BILL_AMT6']\n",
    "       \n",
    "        if (five_month_sum > 0):\n",
    "            return row['BILL_AMT1'] / (five_month_sum / 5)\n",
    "        else:\n",
    "            return 0\n",
    "    else:\n",
    "        return 0\n",
    "\n",
    "#Create new variable\n",
    "df_clean['SpendSpike_Ratio'] = df_clean.apply(flag_spend_spike, axis=1)\n",
    "\n",
    "#Histogram\n",
    "plt.hist(df_clean[(df_clean['default.payment.next.month'] == 0)]['SpendSpike_Ratio'].dropna(), bins=20, alpha=0.5, label='Payers', density = True)\n",
    "plt.hist(df_clean[(df_clean['default.payment.next.month'] == 1)]['SpendSpike_Ratio'].dropna(), bins=20, alpha=0.5, label='Defaulters', density = True)\n",
    "plt.legend(loc='upper right')\n",
    "plt.show()\n",
    "\n",
    "#Histoggram, but without the long tail\n",
    "plt.hist(df_clean[(df_clean['default.payment.next.month'] == 0) & (df_clean['SpendSpike_Ratio'] < 10)]['SpendSpike_Ratio'].dropna(), bins=20, alpha=0.5, label='Payers', density = True)\n",
    "plt.hist(df_clean[(df_clean['default.payment.next.month'] == 1) & (df_clean['SpendSpike_Ratio'] < 10)]['SpendSpike_Ratio'].dropna(), bins=20, alpha=0.5, label='Defaulters', density = True)\n",
    "plt.legend(loc='upper right')\n",
    "plt.show()"
   ]
  },
  {
   "cell_type": "markdown",
   "metadata": {},
   "source": [
    "__What you should see:__\n",
    "* Histogram of  payers vs defaulters\n",
    " * Histogram has outliers, so probably good idea to limit to 0 to 10x ratio\n",
    "* Looking at histogram, it doesn't seem like a very strong signal\n",
    " * It becomes stronger at extremes (e.g. 5x more spending than usual)"
   ]
  },
  {
   "cell_type": "markdown",
   "metadata": {},
   "source": [
    "## 2.3 Adding  new features into training data-set   \n",
    "\n",
    "* Bring back DataFrameMapper\n",
    " * Add in two new features\n",
    " * Toth will need to be normalized with StandardScaler\n",
    "\n",
    "* Transforme df_clean into numpy_clean_biz_fe and optionally into dataframe df_clean_biz_fe\n",
    "* Display first  10 rows"
   ]
  },
  {
   "cell_type": "code",
   "execution_count": 66,
   "metadata": {},
   "outputs": [
    {
     "name": "stderr",
     "output_type": "stream",
     "text": [
      "C:\\ML\\anaconda3\\lib\\site-packages\\sklearn\\utils\\validation.py:595: DataConversionWarning: Data with input dtype int64 was converted to float64 by StandardScaler.\n",
      "  warnings.warn(msg, DataConversionWarning)\n",
      "C:\\ML\\anaconda3\\lib\\site-packages\\sklearn\\preprocessing\\_function_transformer.py:98: FutureWarning: The default validate=True will be replaced by validate=False in 0.22.\n",
      "  \"validate=False in 0.22.\", FutureWarning)\n",
      "C:\\ML\\anaconda3\\lib\\site-packages\\sklearn\\utils\\validation.py:595: DataConversionWarning: Data with input dtype int64 was converted to float64 by StandardScaler.\n",
      "  warnings.warn(msg, DataConversionWarning)\n",
      "C:\\ML\\anaconda3\\lib\\site-packages\\sklearn\\preprocessing\\_function_transformer.py:98: FutureWarning: The default validate=True will be replaced by validate=False in 0.22.\n",
      "  \"validate=False in 0.22.\", FutureWarning)\n"
     ]
    },
    {
     "data": {
      "text/plain": [
       "(28918, 29)"
      ]
     },
     "metadata": {},
     "output_type": "display_data"
    },
    {
     "data": {
      "text/plain": [
       "array([[-1.12966763,  1.        ,  0.        ,  0.        ,  1.        ,\n",
       "         0.        ,  0.        ,  0.        ,  0.        ,  0.        ,\n",
       "         1.        ,  0.        ,  0.        , -1.24379813,  2.        ,\n",
       "        -0.65870187, -0.66588395, -0.68455647, -0.68891669, -0.67844499,\n",
       "        -0.66735499, -0.3489062 , -0.23001857, -0.30123344, -0.31556534,\n",
       "        -0.31951264, -0.29687129, -0.58578094,  0.41130943],\n",
       "       [-0.5901141 ,  1.        ,  0.        ,  0.        ,  1.        ,\n",
       "         0.        ,  0.        ,  0.        ,  0.        ,  0.        ,\n",
       "         0.        ,  1.        ,  0.        , -0.15566432,  0.        ,\n",
       "        -0.31767739, -0.51386065, -0.50085314, -0.46835929, -0.43509939,\n",
       "        -0.40892057, -0.25872568, -0.19519135, -0.24489988, -0.25140842,\n",
       "        -0.25402512, -0.0188268 , -0.27139034,  0.04875445],\n",
       "       [-0.8984304 ,  1.        ,  0.        ,  0.        ,  1.        ,\n",
       "         0.        ,  0.        ,  0.        ,  0.        ,  0.        ,\n",
       "         1.        ,  0.        ,  0.        ,  0.17077582,  0.        ,\n",
       "        -0.07865325, -0.03787815,  0.00917696, -0.25315769, -0.20700766,\n",
       "        -0.17626478, -0.23009128, -0.17290365, -0.23363317, -0.24499272,\n",
       "        -0.24950648, -0.24126239,  1.2246175 , -0.03713612],\n",
       "       [-0.8984304 ,  0.        ,  0.        ,  0.        ,  1.        ,\n",
       "         0.        ,  0.        ,  0.        ,  0.        ,  0.        ,\n",
       "         1.        ,  0.        ,  0.        ,  2.34704344,  0.        ,\n",
       "        -0.59536068, -0.63014978, -0.1828908 , -0.36664525, -0.36675815,\n",
       "        -0.34938542, -0.23009128,  1.31560558,  0.26210219,  0.26184699,\n",
       "        -0.27439174, -0.25911285, -0.64249045, -0.13484247],\n",
       "       [-0.8984304 ,  0.        ,  0.        ,  1.        ,  0.        ,\n",
       "         0.        ,  0.        ,  0.        ,  0.        ,  0.        ,\n",
       "         0.        ,  1.        ,  0.        ,  0.17077582,  0.        ,\n",
       "         0.1557792 ,  0.08507635,  0.12789184, -0.39043855, -0.35905796,\n",
       "        -0.33454319, -0.20038755, -0.18166413, -0.26422229, -0.25140842,\n",
       "        -0.25402512, -0.25238417,  2.07173264,  0.02968576]])"
      ]
     },
     "metadata": {},
     "output_type": "display_data"
    }
   ],
   "source": [
    "pipeline_mapper = DataFrameMapper([\n",
    "    (['LIMIT_BAL'], preprocessing.StandardScaler()),\n",
    "    (['SEX'], preprocessing.LabelBinarizer()),\n",
    "    (['EDUCATION'], preprocessing.LabelBinarizer()),\n",
    "    (['MARRIAGE'], preprocessing.LabelBinarizer()),\n",
    "    (['AGE'], preprocessing.StandardScaler()),\n",
    "    (['PAY_0'], preprocessing.FunctionTransformer(transform_PAY)),  \n",
    "    (['BILL_AMT1'], preprocessing.StandardScaler()),\n",
    "    (['BILL_AMT2'], preprocessing.StandardScaler()),\n",
    "    (['BILL_AMT3'], preprocessing.StandardScaler()),\n",
    "    (['BILL_AMT4'], preprocessing.StandardScaler()),\n",
    "    (['BILL_AMT5'], preprocessing.StandardScaler()),\n",
    "    (['BILL_AMT6'], preprocessing.StandardScaler()),\n",
    "    (['PAY_AMT1'], preprocessing.StandardScaler()),\n",
    "    (['PAY_AMT2'], preprocessing.StandardScaler()),\n",
    "    (['PAY_AMT3'], preprocessing.StandardScaler()),\n",
    "    (['PAY_AMT4'], preprocessing.StandardScaler()),\n",
    "    (['PAY_AMT5'], preprocessing.StandardScaler()),\n",
    "    (['PAY_AMT6'], preprocessing.StandardScaler()),\n",
    "    (['Balance_ratio'], preprocessing.StandardScaler()),\n",
    "    (['SpendSpike_Ratio'], preprocessing.StandardScaler()),\n",
    "])\n",
    "\n",
    "# transform columns from df_raw_Ddata into numpy_fe array according to our pipeline recipe above\n",
    "numpy_clean_biz_fe = pipeline_mapper.fit_transform(df_clean)\n",
    "\n",
    "FEATURES = pipeline_mapper.transformed_names_\n",
    "\n",
    "#OPTIONAL - create new dataframe with transformed variables (in case we want to use it to examine data)\n",
    "# df_clean_biz_fe = pd.DataFrame(data=numpy_clean_biz_fe, columns=FEATURES)\n",
    "# display(df_clean_biz_fe.head(10))\n",
    "\n",
    "display(numpy_clean_biz_fe.shape)\n",
    "display(numpy_clean_biz_fe[0:5])\n",
    "\n"
   ]
  },
  {
   "cell_type": "markdown",
   "metadata": {},
   "source": [
    "__What you should see:__\n",
    "* Same 10 rows we had last time, but we two new variables so number of columns is 29 (vs 27 before)"
   ]
  },
  {
   "cell_type": "markdown",
   "metadata": {},
   "source": [
    "## 2.4 Re-run XGBoost\n",
    "\n",
    "* Split  new data between train and test into: X_train, X_test, y_train, y_test\n",
    "* re-train XG_model\n",
    "* See performance:\n",
    " * Accuracy\n",
    " * AuROC\n",
    " * Confusion matrix\n",
    " "
   ]
  },
  {
   "cell_type": "code",
   "execution_count": 67,
   "metadata": {},
   "outputs": [
    {
     "data": {
      "text/plain": [
       "'XGBoost model test set accuracy: 0.8651'"
      ]
     },
     "metadata": {},
     "output_type": "display_data"
    },
    {
     "data": {
      "text/markdown": [
       "XGBoost model predicion distribution:"
      ],
      "text/plain": [
       "<IPython.core.display.Markdown object>"
      ]
     },
     "metadata": {},
     "output_type": "display_data"
    },
    {
     "data": {
      "text/html": [
       "<div>\n",
       "<style scoped>\n",
       "    .dataframe tbody tr th:only-of-type {\n",
       "        vertical-align: middle;\n",
       "    }\n",
       "\n",
       "    .dataframe tbody tr th {\n",
       "        vertical-align: top;\n",
       "    }\n",
       "\n",
       "    .dataframe thead th {\n",
       "        text-align: right;\n",
       "    }\n",
       "</style>\n",
       "<table border=\"1\" class=\"dataframe\">\n",
       "  <thead>\n",
       "    <tr style=\"text-align: right;\">\n",
       "      <th></th>\n",
       "      <th>counts</th>\n",
       "      <th>freqs</th>\n",
       "    </tr>\n",
       "    <tr>\n",
       "      <th>categories</th>\n",
       "      <th></th>\n",
       "      <th></th>\n",
       "    </tr>\n",
       "  </thead>\n",
       "  <tbody>\n",
       "    <tr>\n",
       "      <th>0</th>\n",
       "      <td>4848</td>\n",
       "      <td>0.838174</td>\n",
       "    </tr>\n",
       "    <tr>\n",
       "      <th>1</th>\n",
       "      <td>936</td>\n",
       "      <td>0.161826</td>\n",
       "    </tr>\n",
       "  </tbody>\n",
       "</table>\n",
       "</div>"
      ],
      "text/plain": [
       "            counts     freqs\n",
       "categories                  \n",
       "0             4848  0.838174\n",
       "1              936  0.161826"
      ]
     },
     "metadata": {},
     "output_type": "display_data"
    },
    {
     "data": {
      "text/markdown": [
       "\n",
       "\n",
       "auROC is: 88.56"
      ],
      "text/plain": [
       "<IPython.core.display.Markdown object>"
      ]
     },
     "metadata": {},
     "output_type": "display_data"
    },
    {
     "data": {
      "text/html": [
       "<div>\n",
       "<style scoped>\n",
       "    .dataframe tbody tr th:only-of-type {\n",
       "        vertical-align: middle;\n",
       "    }\n",
       "\n",
       "    .dataframe tbody tr th {\n",
       "        vertical-align: top;\n",
       "    }\n",
       "\n",
       "    .dataframe thead th {\n",
       "        text-align: right;\n",
       "    }\n",
       "</style>\n",
       "<table border=\"1\" class=\"dataframe\">\n",
       "  <thead>\n",
       "    <tr style=\"text-align: right;\">\n",
       "      <th></th>\n",
       "      <th>Predicted Not Default</th>\n",
       "      <th>Predicted to Default</th>\n",
       "    </tr>\n",
       "  </thead>\n",
       "  <tbody>\n",
       "    <tr>\n",
       "      <th>Actual Not Default</th>\n",
       "      <td>4329</td>\n",
       "      <td>261</td>\n",
       "    </tr>\n",
       "    <tr>\n",
       "      <th>Actual Default</th>\n",
       "      <td>519</td>\n",
       "      <td>675</td>\n",
       "    </tr>\n",
       "  </tbody>\n",
       "</table>\n",
       "</div>"
      ],
      "text/plain": [
       "                    Predicted Not Default  Predicted to Default\n",
       "Actual Not Default                   4329                   261\n",
       "Actual Default                        519                   675"
      ]
     },
     "metadata": {},
     "output_type": "display_data"
    }
   ],
   "source": [
    "numpy_target = df_clean[TARGET].values\n",
    "\n",
    "X_train, X_test, y_train, y_test = sklearn.model_selection.train_test_split(numpy_clean_biz_fe, numpy_target, test_size=0.2, random_state=2, stratify=numpy_target)\n",
    "\n",
    "XG_model = XGBClassifier(seed=42)\n",
    "XG_model.fit(X_train, y_train)\n",
    "\n",
    "y_hat_test = XG_model.predict(X_test)\n",
    "y_hat_test_proba = XG_model.predict_proba(X_test)\n",
    "\n",
    "# Accuracy\n",
    "xg_accuracy = sklearn.metrics.accuracy_score(y_test, y_hat_test)\n",
    "display('XGBoost model test set accuracy: {:.4f}'.format(xg_accuracy))\n",
    "display(Markdown('XGBoost model predicion distribution:'))\n",
    "display(pd.Categorical(y_hat_test).describe())\n",
    "\n",
    "# AuRoc\n",
    "false_positive_rate, true_positive_rate, thresholds = roc_curve(y_test, y_hat_test_proba[:,1])\n",
    "AuROC = sklearn.metrics.auc(false_positive_rate, true_positive_rate)\n",
    "display(Markdown('\\n\\nauROC is: {:.2f}'.format(AuROC * 100)))\n",
    "\n",
    "# Confusion matrix\n",
    "display(pd.DataFrame(confusion_matrix(y_test, y_hat_test), \n",
    "             columns=['Predicted Not Default', 'Predicted to Default'],\n",
    "             index=['Actual Not Default', 'Actual Default']))"
   ]
  },
  {
   "cell_type": "markdown",
   "metadata": {},
   "source": [
    "___What you should see:___\n",
    "\n",
    "* Accuracy is slightly better at 87 (vs 86)\n",
    "* AuC has slighlty improved to 89 (from 88)\n",
    "\n",
    "* At this point, think safe to say we're hitting diminishing returns..."
   ]
  },
  {
   "cell_type": "markdown",
   "metadata": {},
   "source": [
    "# Sprint 3 - ZD and prepare for handoff\n",
    "\n",
    "1. Run Feature importance\n",
    "2. Build cost function savings\n",
    "3. Tune the model for best economic performance\n",
    "4. Prepare for hand-off"
   ]
  },
  {
   "cell_type": "markdown",
   "metadata": {},
   "source": [
    "## 3.1. Feature importance\n",
    "\n",
    "* Run feature importance within XGBoost\n",
    " * hint saves in feature_importances_ attribute\n",
    "* Display in decreasing  order of importance"
   ]
  },
  {
   "cell_type": "code",
   "execution_count": 68,
   "metadata": {},
   "outputs": [
    {
     "data": {
      "text/html": [
       "<div>\n",
       "<style scoped>\n",
       "    .dataframe tbody tr th:only-of-type {\n",
       "        vertical-align: middle;\n",
       "    }\n",
       "\n",
       "    .dataframe tbody tr th {\n",
       "        vertical-align: top;\n",
       "    }\n",
       "\n",
       "    .dataframe thead th {\n",
       "        text-align: right;\n",
       "    }\n",
       "</style>\n",
       "<table border=\"1\" class=\"dataframe\">\n",
       "  <thead>\n",
       "    <tr style=\"text-align: right;\">\n",
       "      <th></th>\n",
       "      <th>features</th>\n",
       "      <th>importance</th>\n",
       "    </tr>\n",
       "  </thead>\n",
       "  <tbody>\n",
       "    <tr>\n",
       "      <th>27</th>\n",
       "      <td>Balance_ratio</td>\n",
       "      <td>0.149007</td>\n",
       "    </tr>\n",
       "    <tr>\n",
       "      <th>28</th>\n",
       "      <td>SpendSpike_Ratio</td>\n",
       "      <td>0.132450</td>\n",
       "    </tr>\n",
       "    <tr>\n",
       "      <th>16</th>\n",
       "      <td>BILL_AMT2</td>\n",
       "      <td>0.120861</td>\n",
       "    </tr>\n",
       "    <tr>\n",
       "      <th>14</th>\n",
       "      <td>PAY_0</td>\n",
       "      <td>0.087748</td>\n",
       "    </tr>\n",
       "    <tr>\n",
       "      <th>22</th>\n",
       "      <td>PAY_AMT2</td>\n",
       "      <td>0.082781</td>\n",
       "    </tr>\n",
       "    <tr>\n",
       "      <th>13</th>\n",
       "      <td>AGE</td>\n",
       "      <td>0.067881</td>\n",
       "    </tr>\n",
       "    <tr>\n",
       "      <th>21</th>\n",
       "      <td>PAY_AMT1</td>\n",
       "      <td>0.062914</td>\n",
       "    </tr>\n",
       "    <tr>\n",
       "      <th>15</th>\n",
       "      <td>BILL_AMT1</td>\n",
       "      <td>0.041391</td>\n",
       "    </tr>\n",
       "    <tr>\n",
       "      <th>24</th>\n",
       "      <td>PAY_AMT4</td>\n",
       "      <td>0.039735</td>\n",
       "    </tr>\n",
       "    <tr>\n",
       "      <th>23</th>\n",
       "      <td>PAY_AMT3</td>\n",
       "      <td>0.036424</td>\n",
       "    </tr>\n",
       "    <tr>\n",
       "      <th>0</th>\n",
       "      <td>LIMIT_BAL</td>\n",
       "      <td>0.034768</td>\n",
       "    </tr>\n",
       "    <tr>\n",
       "      <th>25</th>\n",
       "      <td>PAY_AMT5</td>\n",
       "      <td>0.034768</td>\n",
       "    </tr>\n",
       "    <tr>\n",
       "      <th>17</th>\n",
       "      <td>BILL_AMT3</td>\n",
       "      <td>0.029801</td>\n",
       "    </tr>\n",
       "    <tr>\n",
       "      <th>19</th>\n",
       "      <td>BILL_AMT5</td>\n",
       "      <td>0.023179</td>\n",
       "    </tr>\n",
       "    <tr>\n",
       "      <th>20</th>\n",
       "      <td>BILL_AMT6</td>\n",
       "      <td>0.014901</td>\n",
       "    </tr>\n",
       "    <tr>\n",
       "      <th>18</th>\n",
       "      <td>BILL_AMT4</td>\n",
       "      <td>0.011589</td>\n",
       "    </tr>\n",
       "    <tr>\n",
       "      <th>11</th>\n",
       "      <td>MARRIAGE_2</td>\n",
       "      <td>0.009934</td>\n",
       "    </tr>\n",
       "    <tr>\n",
       "      <th>26</th>\n",
       "      <td>PAY_AMT6</td>\n",
       "      <td>0.006623</td>\n",
       "    </tr>\n",
       "    <tr>\n",
       "      <th>7</th>\n",
       "      <td>EDUCATION_5</td>\n",
       "      <td>0.004967</td>\n",
       "    </tr>\n",
       "    <tr>\n",
       "      <th>1</th>\n",
       "      <td>SEX</td>\n",
       "      <td>0.003311</td>\n",
       "    </tr>\n",
       "    <tr>\n",
       "      <th>12</th>\n",
       "      <td>MARRIAGE_3</td>\n",
       "      <td>0.003311</td>\n",
       "    </tr>\n",
       "    <tr>\n",
       "      <th>4</th>\n",
       "      <td>EDUCATION_2</td>\n",
       "      <td>0.001656</td>\n",
       "    </tr>\n",
       "    <tr>\n",
       "      <th>5</th>\n",
       "      <td>EDUCATION_3</td>\n",
       "      <td>0.000000</td>\n",
       "    </tr>\n",
       "    <tr>\n",
       "      <th>10</th>\n",
       "      <td>MARRIAGE_1</td>\n",
       "      <td>0.000000</td>\n",
       "    </tr>\n",
       "    <tr>\n",
       "      <th>9</th>\n",
       "      <td>MARRIAGE_0</td>\n",
       "      <td>0.000000</td>\n",
       "    </tr>\n",
       "    <tr>\n",
       "      <th>8</th>\n",
       "      <td>EDUCATION_6</td>\n",
       "      <td>0.000000</td>\n",
       "    </tr>\n",
       "    <tr>\n",
       "      <th>6</th>\n",
       "      <td>EDUCATION_4</td>\n",
       "      <td>0.000000</td>\n",
       "    </tr>\n",
       "    <tr>\n",
       "      <th>2</th>\n",
       "      <td>EDUCATION_0</td>\n",
       "      <td>0.000000</td>\n",
       "    </tr>\n",
       "    <tr>\n",
       "      <th>3</th>\n",
       "      <td>EDUCATION_1</td>\n",
       "      <td>0.000000</td>\n",
       "    </tr>\n",
       "  </tbody>\n",
       "</table>\n",
       "</div>"
      ],
      "text/plain": [
       "            features  importance\n",
       "27     Balance_ratio    0.149007\n",
       "28  SpendSpike_Ratio    0.132450\n",
       "16         BILL_AMT2    0.120861\n",
       "14             PAY_0    0.087748\n",
       "22          PAY_AMT2    0.082781\n",
       "13               AGE    0.067881\n",
       "21          PAY_AMT1    0.062914\n",
       "15         BILL_AMT1    0.041391\n",
       "24          PAY_AMT4    0.039735\n",
       "23          PAY_AMT3    0.036424\n",
       "0          LIMIT_BAL    0.034768\n",
       "25          PAY_AMT5    0.034768\n",
       "17         BILL_AMT3    0.029801\n",
       "19         BILL_AMT5    0.023179\n",
       "20         BILL_AMT6    0.014901\n",
       "18         BILL_AMT4    0.011589\n",
       "11        MARRIAGE_2    0.009934\n",
       "26          PAY_AMT6    0.006623\n",
       "7        EDUCATION_5    0.004967\n",
       "1                SEX    0.003311\n",
       "12        MARRIAGE_3    0.003311\n",
       "4        EDUCATION_2    0.001656\n",
       "5        EDUCATION_3    0.000000\n",
       "10        MARRIAGE_1    0.000000\n",
       "9         MARRIAGE_0    0.000000\n",
       "8        EDUCATION_6    0.000000\n",
       "6        EDUCATION_4    0.000000\n",
       "2        EDUCATION_0    0.000000\n",
       "3        EDUCATION_1    0.000000"
      ]
     },
     "metadata": {},
     "output_type": "display_data"
    }
   ],
   "source": [
    "display(\n",
    "    pd.DataFrame({\n",
    "        'features': FEATURES,\n",
    "        'importance': XG_model.feature_importances_\n",
    "    }).sort_values('importance', ascending=False))"
   ]
  },
  {
   "cell_type": "markdown",
   "metadata": {},
   "source": [
    "__What you should see__:\n",
    "\n",
    "You should see in descending order what variables have most predictive power (e.g. Balance ratio, size of balance, whether paying regularly, how much did last increase spike)\n",
    "\n",
    "* A few cool things to notice:\n",
    "* Our engineered features have risen to the top (e.g. balance ratio and spendspike raito)\n",
    "* Interestingly enough, although spend-spike did not look promisng, it must be that XGBoost found it to be helpful with some other variables\n",
    "\n",
    "__IMPORTANT: XGBoost  just tells us how often variables are used to reach a prediciton, but no in what direction does that coefficient run. This is an example of a complex model also having less explainability__"
   ]
  },
  {
   "cell_type": "markdown",
   "metadata": {},
   "source": [
    "## 3.2 Let's build a cost model\n",
    "\n",
    "* Understand total cost of these defaults today (on test data) and what would it be with current model \n",
    " * Those who don't default will eventually pay 98%\n",
    " * In a default, on average you recover 10% of balance\n",
    " * If you can spot it early, on average you recover 40% (many will still default, but most will actually pay back reduced ammount) \n",
    " * If you predict it wrong, you get 40% whereas you would have gotten 98% otherwise\n",
    "\n",
    "* Calcualte what is their return on the portfolio today in 3 scenarios:\n",
    " * With no intervention - i.e. as is today - baseline\n",
    " * With our intervention - us\n",
    " * With perfect knowledge - the bear\n",
    " \n",
    "*  Also, calculate  value of false positives (since they really cost us a lot)\n",
    "\n",
    "___Hint - you could just iterate over every single entry, calcualte net return for all 3 scenarios and save each one in a seperate variable___\n",
    " \n"
   ]
  },
  {
   "cell_type": "code",
   "execution_count": 69,
   "metadata": {},
   "outputs": [
    {
     "data": {
      "text/markdown": [
       "XGBoost model test set accuracy: 0.8698"
      ],
      "text/plain": [
       "<IPython.core.display.Markdown object>"
      ]
     },
     "metadata": {},
     "output_type": "display_data"
    }
   ],
   "source": [
    "y_hat = XG_model.predict(numpy_clean_biz_fe)\n",
    "xg_accuracy = sklearn.metrics.accuracy_score(numpy_target, y_hat)\n",
    "display(Markdown('XGBoost model test set accuracy: {:.4f}'.format(xg_accuracy)))\n",
    "\n",
    "EXPECTED_REPAY = 0.98\n",
    "DEFAULT_RECOUP = 0.10\n",
    "PRE_DEFAULT_RC = 0.40"
   ]
  },
  {
   "cell_type": "code",
   "execution_count": 70,
   "metadata": {},
   "outputs": [
    {
     "name": "stdout",
     "output_type": "stream",
     "text": [
      "Baseline value of loans:\t\t 1,120,491,509\n",
      "Perfect knoweldge value of loans:\t 1,248,920,150\n",
      "ML Model value of loans:\t\t 1,151,663,130\n",
      "Cost of false positives:\t\t 45,026,997\n",
      "\n",
      "\n",
      "\n",
      "% gain 2.78%\n",
      "% gained of possible gain 24.27%\n",
      "\n",
      "\n",
      "\n",
      "% additional gain possible without false positives 4.02%\n"
     ]
    }
   ],
   "source": [
    "# smaller dataframe for cost model calcs\n",
    "final_df = pd.DataFrame()\n",
    "\n",
    "# we  have to use  df_clean, not df_clean_biz_fe  b/c value of loans  has been normalized\n",
    "final_df['BILL_AMT1'] = df_clean['BILL_AMT1']\n",
    "final_df['Default'] = df_clean[TARGET]\n",
    "final_df['yhat'] = y_hat\n",
    "\n",
    "\n",
    "final_df['loans_Baseline'] = (final_df['BILL_AMT1'] * EXPECTED_REPAY) * (\n",
    "    1-final_df['Default']) + (final_df['BILL_AMT1'] * DEFAULT_RECOUP) * final_df['Default']\n",
    "\n",
    "final_df['loans_PerfectModel'] = (final_df['BILL_AMT1'] * EXPECTED_REPAY) * (\n",
    "    1-final_df['Default']) + (final_df['BILL_AMT1'] * PRE_DEFAULT_RC) * final_df['Default']\n",
    "\n",
    "final_df['loans_withModel'] = (final_df['BILL_AMT1']*PRE_DEFAULT_RC) * \\\n",
    "    final_df['yhat'] + (1 - final_df['yhat']) * final_df['loans_Baseline']\n",
    "\n",
    "final_df['bad_predictions'] = (final_df['BILL_AMT1'] * (\n",
    "    EXPECTED_REPAY-PRE_DEFAULT_RC)) * (1-final_df['Default']) * final_df['yhat']\n",
    "\n",
    "print('Baseline value of loans:\\t\\t {0:,.0f}'.format(\n",
    "    final_df['loans_Baseline'].sum()))\n",
    "print('Perfect knoweldge value of loans:\\t {0:,.0f}'.format(\n",
    "    final_df['loans_PerfectModel'].sum()))\n",
    "print('ML Model value of loans:\\t\\t {0:,.0f}'.format(\n",
    "    final_df['loans_withModel'].sum()))\n",
    "print('Cost of false positives:\\t\\t {0:,.0f}'.format(\n",
    "    final_df['bad_predictions'].sum()))\n",
    "print('\\n\\n')\n",
    "print('% gain {:.02%}'.format(\n",
    "    (final_df['loans_withModel'].sum()/final_df['loans_Baseline'].sum())-1))\n",
    "print('% gained of possible gain {:.02%}'.format((final_df['loans_withModel'].sum(\n",
    ") - final_df['loans_Baseline'].sum())/(final_df['loans_PerfectModel'].sum()-final_df['loans_Baseline'].sum())))\n",
    "print('\\n\\n')\n",
    "print('% additional gain possible without false positives {:.02%}'.format(\n",
    "    final_df['bad_predictions'].sum()/final_df['loans_Baseline'].sum()))"
   ]
  },
  {
   "cell_type": "markdown",
   "metadata": {},
   "source": [
    "___What you should see___:\n",
    "\n",
    "* Model gets additional ~3% lift in extra \"revenue\"\n",
    "* However, it only captured ~24% of what was possible with perfect information\n",
    "* If we didn't make false positives (assumed someobody will default, when they did not), we could have increased revenue by additional 4%\n",
    "\n",
    "### Next step: Let's see if we can reduce number of false posives\n",
    "* How many false positives have probability just barely over 50%\n",
    "* If we increased probability required, what would be economic impact?"
   ]
  },
  {
   "cell_type": "markdown",
   "metadata": {},
   "source": [
    "## 3.3 Tune the model\n",
    "\n",
    "* Let't see if accuracy improves when model is more confident\n",
    "* Tune algorithm to predict at the threshold where maximum revenue is reached"
   ]
  },
  {
   "cell_type": "markdown",
   "metadata": {},
   "source": [
    "### 3.3.1 Examine if  higher model probability  leads to better outcomes\n",
    "\n",
    "* Get probabilities for each prediction - hint XG_model has predict_proba() function you can use \n",
    "* Bin probabilities into 10 bins (0-100)\n",
    "* For each bin show what is actual rate of default - you can just use cross-tab"
   ]
  },
  {
   "cell_type": "code",
   "execution_count": 71,
   "metadata": {},
   "outputs": [
    {
     "data": {
      "text/html": [
       "<div>\n",
       "<style scoped>\n",
       "    .dataframe tbody tr th:only-of-type {\n",
       "        vertical-align: middle;\n",
       "    }\n",
       "\n",
       "    .dataframe tbody tr th {\n",
       "        vertical-align: top;\n",
       "    }\n",
       "\n",
       "    .dataframe thead th {\n",
       "        text-align: right;\n",
       "    }\n",
       "</style>\n",
       "<table border=\"1\" class=\"dataframe\">\n",
       "  <thead>\n",
       "    <tr style=\"text-align: right;\">\n",
       "      <th>Default</th>\n",
       "      <th>0</th>\n",
       "      <th>1</th>\n",
       "    </tr>\n",
       "    <tr>\n",
       "      <th>PROBABILITY_BINS</th>\n",
       "      <th></th>\n",
       "      <th></th>\n",
       "    </tr>\n",
       "  </thead>\n",
       "  <tbody>\n",
       "    <tr>\n",
       "      <th>(0.0, 0.1]</th>\n",
       "      <td>0.978023</td>\n",
       "      <td>0.021977</td>\n",
       "    </tr>\n",
       "    <tr>\n",
       "      <th>(0.1, 0.2]</th>\n",
       "      <td>0.855509</td>\n",
       "      <td>0.144491</td>\n",
       "    </tr>\n",
       "    <tr>\n",
       "      <th>(0.2, 0.3]</th>\n",
       "      <td>0.732650</td>\n",
       "      <td>0.267350</td>\n",
       "    </tr>\n",
       "    <tr>\n",
       "      <th>(0.3, 0.4]</th>\n",
       "      <td>0.588832</td>\n",
       "      <td>0.411168</td>\n",
       "    </tr>\n",
       "    <tr>\n",
       "      <th>(0.4, 0.5]</th>\n",
       "      <td>0.558621</td>\n",
       "      <td>0.441379</td>\n",
       "    </tr>\n",
       "    <tr>\n",
       "      <th>(0.5, 0.6]</th>\n",
       "      <td>0.447853</td>\n",
       "      <td>0.552147</td>\n",
       "    </tr>\n",
       "    <tr>\n",
       "      <th>(0.6, 0.7]</th>\n",
       "      <td>0.315714</td>\n",
       "      <td>0.684286</td>\n",
       "    </tr>\n",
       "    <tr>\n",
       "      <th>(0.7, 0.8]</th>\n",
       "      <td>0.228419</td>\n",
       "      <td>0.771581</td>\n",
       "    </tr>\n",
       "    <tr>\n",
       "      <th>(0.8, 0.9]</th>\n",
       "      <td>0.144366</td>\n",
       "      <td>0.855634</td>\n",
       "    </tr>\n",
       "    <tr>\n",
       "      <th>(0.9, 1.0]</th>\n",
       "      <td>0.016722</td>\n",
       "      <td>0.983278</td>\n",
       "    </tr>\n",
       "    <tr>\n",
       "      <th>All</th>\n",
       "      <td>0.793520</td>\n",
       "      <td>0.206480</td>\n",
       "    </tr>\n",
       "  </tbody>\n",
       "</table>\n",
       "</div>"
      ],
      "text/plain": [
       "Default                  0         1\n",
       "PROBABILITY_BINS                    \n",
       "(0.0, 0.1]        0.978023  0.021977\n",
       "(0.1, 0.2]        0.855509  0.144491\n",
       "(0.2, 0.3]        0.732650  0.267350\n",
       "(0.3, 0.4]        0.588832  0.411168\n",
       "(0.4, 0.5]        0.558621  0.441379\n",
       "(0.5, 0.6]        0.447853  0.552147\n",
       "(0.6, 0.7]        0.315714  0.684286\n",
       "(0.7, 0.8]        0.228419  0.771581\n",
       "(0.8, 0.9]        0.144366  0.855634\n",
       "(0.9, 1.0]        0.016722  0.983278\n",
       "All               0.793520  0.206480"
      ]
     },
     "execution_count": 71,
     "metadata": {},
     "output_type": "execute_result"
    }
   ],
   "source": [
    "y_probabilities = XG_model.predict_proba(numpy_clean_biz_fe)[:,1]\n",
    "\n",
    "final_df['yhat_prob'] = y_probabilities\n",
    "\n",
    "final_df['PROBABILITY_BINS'] = pd.cut(final_df.yhat_prob,[0,.1,.2,.3,.4,.5,.6,.7,.8,.9,1]).astype(str)\n",
    "\n",
    "pd.crosstab(final_df['PROBABILITY_BINS'], final_df['Default'],normalize='index',margins=True )"
   ]
  },
  {
   "cell_type": "markdown",
   "metadata": {},
   "source": [
    "___What you should see___:\n",
    "\n",
    "* Cross tab of probability of default bins with  actual probabolity\n",
    "* Looks like increased probability does have many fewer false positive\n",
    "\n",
    "### Next steps\n",
    "\n",
    "* Let's test different cut-offs of probability and see what happens to the total value created"
   ]
  },
  {
   "cell_type": "markdown",
   "metadata": {},
   "source": [
    "### 3.3.2 Tune model to optimize for revenue gain\n",
    "\n",
    "* Run through every probability threshold from 0.5 to 1 in 0.01 increments\n",
    "* For each cut-off, calcualte total value of loans with ML model prediciton\n",
    "* Model benefit  what model predicts is optimal cut-off where  cost of false positives is outweighted by benefit of true positives\n",
    "\n",
    "___Warning - this a a lot of loops - will take a minute  or two to compute___\n"
   ]
  },
  {
   "cell_type": "code",
   "execution_count": 72,
   "metadata": {},
   "outputs": [
    {
     "data": {
      "text/plain": [
       "'At probability threshold of 0.00, revenue gain is -45.46%'"
      ]
     },
     "metadata": {},
     "output_type": "display_data"
    },
    {
     "data": {
      "text/plain": [
       "'At probability threshold of 0.01, revenue gain is -44.50%'"
      ]
     },
     "metadata": {},
     "output_type": "display_data"
    },
    {
     "data": {
      "text/plain": [
       "'At probability threshold of 0.02, revenue gain is -42.36%'"
      ]
     },
     "metadata": {},
     "output_type": "display_data"
    },
    {
     "data": {
      "text/plain": [
       "'At probability threshold of 0.03, revenue gain is -39.87%'"
      ]
     },
     "metadata": {},
     "output_type": "display_data"
    },
    {
     "data": {
      "text/plain": [
       "'At probability threshold of 0.04, revenue gain is -37.45%'"
      ]
     },
     "metadata": {},
     "output_type": "display_data"
    },
    {
     "data": {
      "text/plain": [
       "'At probability threshold of 0.05, revenue gain is -35.73%'"
      ]
     },
     "metadata": {},
     "output_type": "display_data"
    },
    {
     "data": {
      "text/plain": [
       "'At probability threshold of 0.06, revenue gain is -34.51%'"
      ]
     },
     "metadata": {},
     "output_type": "display_data"
    },
    {
     "data": {
      "text/plain": [
       "'At probability threshold of 0.07, revenue gain is -33.22%'"
      ]
     },
     "metadata": {},
     "output_type": "display_data"
    },
    {
     "data": {
      "text/plain": [
       "'At probability threshold of 0.08, revenue gain is -31.67%'"
      ]
     },
     "metadata": {},
     "output_type": "display_data"
    },
    {
     "data": {
      "text/plain": [
       "'At probability threshold of 0.09, revenue gain is -30.01%'"
      ]
     },
     "metadata": {},
     "output_type": "display_data"
    },
    {
     "data": {
      "text/plain": [
       "'At probability threshold of 0.10, revenue gain is -28.44%'"
      ]
     },
     "metadata": {},
     "output_type": "display_data"
    },
    {
     "data": {
      "text/plain": [
       "'At probability threshold of 0.11, revenue gain is -26.40%'"
      ]
     },
     "metadata": {},
     "output_type": "display_data"
    },
    {
     "data": {
      "text/plain": [
       "'At probability threshold of 0.12, revenue gain is -23.63%'"
      ]
     },
     "metadata": {},
     "output_type": "display_data"
    },
    {
     "data": {
      "text/plain": [
       "'At probability threshold of 0.13, revenue gain is -20.97%'"
      ]
     },
     "metadata": {},
     "output_type": "display_data"
    },
    {
     "data": {
      "text/plain": [
       "'At probability threshold of 0.14, revenue gain is -18.55%'"
      ]
     },
     "metadata": {},
     "output_type": "display_data"
    },
    {
     "data": {
      "text/plain": [
       "'At probability threshold of 0.15, revenue gain is -15.14%'"
      ]
     },
     "metadata": {},
     "output_type": "display_data"
    },
    {
     "data": {
      "text/plain": [
       "'At probability threshold of 0.16, revenue gain is -12.01%'"
      ]
     },
     "metadata": {},
     "output_type": "display_data"
    },
    {
     "data": {
      "text/plain": [
       "'At probability threshold of 0.17, revenue gain is -9.46%'"
      ]
     },
     "metadata": {},
     "output_type": "display_data"
    },
    {
     "data": {
      "text/plain": [
       "'At probability threshold of 0.18, revenue gain is -7.31%'"
      ]
     },
     "metadata": {},
     "output_type": "display_data"
    },
    {
     "data": {
      "text/plain": [
       "'At probability threshold of 0.19, revenue gain is -5.71%'"
      ]
     },
     "metadata": {},
     "output_type": "display_data"
    },
    {
     "data": {
      "text/plain": [
       "'At probability threshold of 0.20, revenue gain is -4.51%'"
      ]
     },
     "metadata": {},
     "output_type": "display_data"
    },
    {
     "data": {
      "text/plain": [
       "'At probability threshold of 0.21, revenue gain is -3.51%'"
      ]
     },
     "metadata": {},
     "output_type": "display_data"
    },
    {
     "data": {
      "text/plain": [
       "'At probability threshold of 0.22, revenue gain is -2.56%'"
      ]
     },
     "metadata": {},
     "output_type": "display_data"
    },
    {
     "data": {
      "text/plain": [
       "'At probability threshold of 0.23, revenue gain is -1.78%'"
      ]
     },
     "metadata": {},
     "output_type": "display_data"
    },
    {
     "data": {
      "text/plain": [
       "'At probability threshold of 0.24, revenue gain is -1.11%'"
      ]
     },
     "metadata": {},
     "output_type": "display_data"
    },
    {
     "data": {
      "text/plain": [
       "'At probability threshold of 0.25, revenue gain is -0.56%'"
      ]
     },
     "metadata": {},
     "output_type": "display_data"
    },
    {
     "data": {
      "text/plain": [
       "'At probability threshold of 0.26, revenue gain is -0.01%'"
      ]
     },
     "metadata": {},
     "output_type": "display_data"
    },
    {
     "data": {
      "text/plain": [
       "'At probability threshold of 0.27, revenue gain is 0.53%'"
      ]
     },
     "metadata": {},
     "output_type": "display_data"
    },
    {
     "data": {
      "text/plain": [
       "'At probability threshold of 0.28, revenue gain is 0.79%'"
      ]
     },
     "metadata": {},
     "output_type": "display_data"
    },
    {
     "data": {
      "text/plain": [
       "'At probability threshold of 0.29, revenue gain is 1.14%'"
      ]
     },
     "metadata": {},
     "output_type": "display_data"
    },
    {
     "data": {
      "text/plain": [
       "'At probability threshold of 0.30, revenue gain is 1.34%'"
      ]
     },
     "metadata": {},
     "output_type": "display_data"
    },
    {
     "data": {
      "text/plain": [
       "'At probability threshold of 0.31, revenue gain is 1.59%'"
      ]
     },
     "metadata": {},
     "output_type": "display_data"
    },
    {
     "data": {
      "text/plain": [
       "'At probability threshold of 0.32, revenue gain is 1.72%'"
      ]
     },
     "metadata": {},
     "output_type": "display_data"
    },
    {
     "data": {
      "text/plain": [
       "'At probability threshold of 0.33, revenue gain is 1.84%'"
      ]
     },
     "metadata": {},
     "output_type": "display_data"
    },
    {
     "data": {
      "text/plain": [
       "'At probability threshold of 0.34, revenue gain is 1.86%'"
      ]
     },
     "metadata": {},
     "output_type": "display_data"
    },
    {
     "data": {
      "text/plain": [
       "'At probability threshold of 0.35, revenue gain is 1.95%'"
      ]
     },
     "metadata": {},
     "output_type": "display_data"
    },
    {
     "data": {
      "text/plain": [
       "'At probability threshold of 0.36, revenue gain is 2.05%'"
      ]
     },
     "metadata": {},
     "output_type": "display_data"
    },
    {
     "data": {
      "text/plain": [
       "'At probability threshold of 0.37, revenue gain is 2.08%'"
      ]
     },
     "metadata": {},
     "output_type": "display_data"
    },
    {
     "data": {
      "text/plain": [
       "'At probability threshold of 0.38, revenue gain is 2.12%'"
      ]
     },
     "metadata": {},
     "output_type": "display_data"
    },
    {
     "data": {
      "text/plain": [
       "'At probability threshold of 0.39, revenue gain is 2.15%'"
      ]
     },
     "metadata": {},
     "output_type": "display_data"
    },
    {
     "data": {
      "text/plain": [
       "'At probability threshold of 0.40, revenue gain is 2.19%'"
      ]
     },
     "metadata": {},
     "output_type": "display_data"
    },
    {
     "data": {
      "text/plain": [
       "'At probability threshold of 0.41, revenue gain is 2.23%'"
      ]
     },
     "metadata": {},
     "output_type": "display_data"
    },
    {
     "data": {
      "text/plain": [
       "'At probability threshold of 0.42, revenue gain is 2.28%'"
      ]
     },
     "metadata": {},
     "output_type": "display_data"
    },
    {
     "data": {
      "text/plain": [
       "'At probability threshold of 0.43, revenue gain is 2.35%'"
      ]
     },
     "metadata": {},
     "output_type": "display_data"
    },
    {
     "data": {
      "text/plain": [
       "'At probability threshold of 0.44, revenue gain is 2.36%'"
      ]
     },
     "metadata": {},
     "output_type": "display_data"
    },
    {
     "data": {
      "text/plain": [
       "'At probability threshold of 0.45, revenue gain is 2.40%'"
      ]
     },
     "metadata": {},
     "output_type": "display_data"
    },
    {
     "data": {
      "text/plain": [
       "'At probability threshold of 0.46, revenue gain is 2.48%'"
      ]
     },
     "metadata": {},
     "output_type": "display_data"
    },
    {
     "data": {
      "text/plain": [
       "'At probability threshold of 0.47, revenue gain is 2.54%'"
      ]
     },
     "metadata": {},
     "output_type": "display_data"
    },
    {
     "data": {
      "text/plain": [
       "'At probability threshold of 0.48, revenue gain is 2.60%'"
      ]
     },
     "metadata": {},
     "output_type": "display_data"
    },
    {
     "data": {
      "text/plain": [
       "'At probability threshold of 0.49, revenue gain is 2.71%'"
      ]
     },
     "metadata": {},
     "output_type": "display_data"
    },
    {
     "data": {
      "text/plain": [
       "'At probability threshold of 0.50, revenue gain is 2.78%'"
      ]
     },
     "metadata": {},
     "output_type": "display_data"
    },
    {
     "data": {
      "text/plain": [
       "'At probability threshold of 0.51, revenue gain is 2.82%'"
      ]
     },
     "metadata": {},
     "output_type": "display_data"
    },
    {
     "data": {
      "text/plain": [
       "'At probability threshold of 0.52, revenue gain is 2.82%'"
      ]
     },
     "metadata": {},
     "output_type": "display_data"
    },
    {
     "data": {
      "text/plain": [
       "'At probability threshold of 0.53, revenue gain is 2.88%'"
      ]
     },
     "metadata": {},
     "output_type": "display_data"
    },
    {
     "data": {
      "text/plain": [
       "'At probability threshold of 0.54, revenue gain is 2.95%'"
      ]
     },
     "metadata": {},
     "output_type": "display_data"
    },
    {
     "data": {
      "text/plain": [
       "'At probability threshold of 0.55, revenue gain is 2.95%'"
      ]
     },
     "metadata": {},
     "output_type": "display_data"
    },
    {
     "data": {
      "text/plain": [
       "'At probability threshold of 0.56, revenue gain is 2.99%'"
      ]
     },
     "metadata": {},
     "output_type": "display_data"
    },
    {
     "data": {
      "text/plain": [
       "'At probability threshold of 0.57, revenue gain is 3.07%'"
      ]
     },
     "metadata": {},
     "output_type": "display_data"
    },
    {
     "data": {
      "text/plain": [
       "'At probability threshold of 0.58, revenue gain is 3.04%'"
      ]
     },
     "metadata": {},
     "output_type": "display_data"
    },
    {
     "data": {
      "text/plain": [
       "'At probability threshold of 0.59, revenue gain is 3.04%'"
      ]
     },
     "metadata": {},
     "output_type": "display_data"
    },
    {
     "data": {
      "text/plain": [
       "'At probability threshold of 0.60, revenue gain is 3.02%'"
      ]
     },
     "metadata": {},
     "output_type": "display_data"
    },
    {
     "data": {
      "text/plain": [
       "'At probability threshold of 0.61, revenue gain is 3.04%'"
      ]
     },
     "metadata": {},
     "output_type": "display_data"
    },
    {
     "data": {
      "text/plain": [
       "'At probability threshold of 0.62, revenue gain is 3.04%'"
      ]
     },
     "metadata": {},
     "output_type": "display_data"
    },
    {
     "data": {
      "text/plain": [
       "'At probability threshold of 0.63, revenue gain is 3.03%'"
      ]
     },
     "metadata": {},
     "output_type": "display_data"
    },
    {
     "data": {
      "text/plain": [
       "'At probability threshold of 0.64, revenue gain is 2.96%'"
      ]
     },
     "metadata": {},
     "output_type": "display_data"
    },
    {
     "data": {
      "text/plain": [
       "'At probability threshold of 0.65, revenue gain is 2.87%'"
      ]
     },
     "metadata": {},
     "output_type": "display_data"
    },
    {
     "data": {
      "text/plain": [
       "'At probability threshold of 0.66, revenue gain is 2.81%'"
      ]
     },
     "metadata": {},
     "output_type": "display_data"
    },
    {
     "data": {
      "text/plain": [
       "'At probability threshold of 0.67, revenue gain is 2.75%'"
      ]
     },
     "metadata": {},
     "output_type": "display_data"
    },
    {
     "data": {
      "text/plain": [
       "'At probability threshold of 0.68, revenue gain is 2.74%'"
      ]
     },
     "metadata": {},
     "output_type": "display_data"
    },
    {
     "data": {
      "text/plain": [
       "'At probability threshold of 0.69, revenue gain is 2.70%'"
      ]
     },
     "metadata": {},
     "output_type": "display_data"
    },
    {
     "data": {
      "text/plain": [
       "'At probability threshold of 0.70, revenue gain is 2.64%'"
      ]
     },
     "metadata": {},
     "output_type": "display_data"
    },
    {
     "data": {
      "text/plain": [
       "'At probability threshold of 0.71, revenue gain is 2.57%'"
      ]
     },
     "metadata": {},
     "output_type": "display_data"
    },
    {
     "data": {
      "text/plain": [
       "'At probability threshold of 0.72, revenue gain is 2.47%'"
      ]
     },
     "metadata": {},
     "output_type": "display_data"
    },
    {
     "data": {
      "text/plain": [
       "'At probability threshold of 0.73, revenue gain is 2.41%'"
      ]
     },
     "metadata": {},
     "output_type": "display_data"
    },
    {
     "data": {
      "text/plain": [
       "'At probability threshold of 0.74, revenue gain is 2.30%'"
      ]
     },
     "metadata": {},
     "output_type": "display_data"
    },
    {
     "data": {
      "text/plain": [
       "'At probability threshold of 0.75, revenue gain is 2.16%'"
      ]
     },
     "metadata": {},
     "output_type": "display_data"
    },
    {
     "data": {
      "text/plain": [
       "'At probability threshold of 0.76, revenue gain is 2.04%'"
      ]
     },
     "metadata": {},
     "output_type": "display_data"
    },
    {
     "data": {
      "text/plain": [
       "'At probability threshold of 0.77, revenue gain is 1.94%'"
      ]
     },
     "metadata": {},
     "output_type": "display_data"
    },
    {
     "data": {
      "text/plain": [
       "'At probability threshold of 0.78, revenue gain is 1.84%'"
      ]
     },
     "metadata": {},
     "output_type": "display_data"
    },
    {
     "data": {
      "text/plain": [
       "'At probability threshold of 0.79, revenue gain is 1.74%'"
      ]
     },
     "metadata": {},
     "output_type": "display_data"
    },
    {
     "data": {
      "text/plain": [
       "'At probability threshold of 0.80, revenue gain is 1.66%'"
      ]
     },
     "metadata": {},
     "output_type": "display_data"
    },
    {
     "data": {
      "text/plain": [
       "'At probability threshold of 0.81, revenue gain is 1.59%'"
      ]
     },
     "metadata": {},
     "output_type": "display_data"
    },
    {
     "data": {
      "text/plain": [
       "'At probability threshold of 0.82, revenue gain is 1.47%'"
      ]
     },
     "metadata": {},
     "output_type": "display_data"
    },
    {
     "data": {
      "text/plain": [
       "'At probability threshold of 0.83, revenue gain is 1.40%'"
      ]
     },
     "metadata": {},
     "output_type": "display_data"
    },
    {
     "data": {
      "text/plain": [
       "'At probability threshold of 0.84, revenue gain is 1.34%'"
      ]
     },
     "metadata": {},
     "output_type": "display_data"
    },
    {
     "data": {
      "text/plain": [
       "'At probability threshold of 0.85, revenue gain is 1.24%'"
      ]
     },
     "metadata": {},
     "output_type": "display_data"
    },
    {
     "data": {
      "text/plain": [
       "'At probability threshold of 0.86, revenue gain is 1.16%'"
      ]
     },
     "metadata": {},
     "output_type": "display_data"
    },
    {
     "data": {
      "text/plain": [
       "'At probability threshold of 0.87, revenue gain is 1.09%'"
      ]
     },
     "metadata": {},
     "output_type": "display_data"
    },
    {
     "data": {
      "text/plain": [
       "'At probability threshold of 0.88, revenue gain is 1.02%'"
      ]
     },
     "metadata": {},
     "output_type": "display_data"
    },
    {
     "data": {
      "text/plain": [
       "'At probability threshold of 0.89, revenue gain is 0.89%'"
      ]
     },
     "metadata": {},
     "output_type": "display_data"
    },
    {
     "data": {
      "text/plain": [
       "'At probability threshold of 0.90, revenue gain is 0.81%'"
      ]
     },
     "metadata": {},
     "output_type": "display_data"
    },
    {
     "data": {
      "text/plain": [
       "'At probability threshold of 0.91, revenue gain is 0.73%'"
      ]
     },
     "metadata": {},
     "output_type": "display_data"
    },
    {
     "data": {
      "text/plain": [
       "'At probability threshold of 0.92, revenue gain is 0.65%'"
      ]
     },
     "metadata": {},
     "output_type": "display_data"
    },
    {
     "data": {
      "text/plain": [
       "'At probability threshold of 0.93, revenue gain is 0.52%'"
      ]
     },
     "metadata": {},
     "output_type": "display_data"
    },
    {
     "data": {
      "text/plain": [
       "'At probability threshold of 0.94, revenue gain is 0.41%'"
      ]
     },
     "metadata": {},
     "output_type": "display_data"
    },
    {
     "data": {
      "text/plain": [
       "'At probability threshold of 0.95, revenue gain is 0.29%'"
      ]
     },
     "metadata": {},
     "output_type": "display_data"
    },
    {
     "data": {
      "text/plain": [
       "'At probability threshold of 0.96, revenue gain is 0.19%'"
      ]
     },
     "metadata": {},
     "output_type": "display_data"
    },
    {
     "data": {
      "text/plain": [
       "'At probability threshold of 0.97, revenue gain is 0.09%'"
      ]
     },
     "metadata": {},
     "output_type": "display_data"
    },
    {
     "data": {
      "text/plain": [
       "'At probability threshold of 0.98, revenue gain is 0.02%'"
      ]
     },
     "metadata": {},
     "output_type": "display_data"
    },
    {
     "data": {
      "text/plain": [
       "'At probability threshold of 0.99, revenue gain is 0.02%'"
      ]
     },
     "metadata": {},
     "output_type": "display_data"
    },
    {
     "data": {
      "image/png": "[encoded data removed]",
      "text/plain": [
       "<Figure size 432x288 with 1 Axes>"
      ]
     },
     "metadata": {
      "needs_background": "light"
     },
     "output_type": "display_data"
    },
    {
     "name": "stdout",
     "output_type": "stream",
     "text": [
      "Max savings is at 57.000000% of 3.071741%\n"
     ]
    }
   ],
   "source": [
    "rev_gain = []\n",
    "\n",
    "for threshold in np.arange(0.00, 1.0, 0.01):\n",
    "\n",
    "    final_df['yhat'] =  final_df['yhat_prob'].apply(lambda x: 1 if x > threshold else 0)\n",
    "    \n",
    "    final_df['loans_withModel'] = (final_df['BILL_AMT1']*PRE_DEFAULT_RC)*final_df['yhat'] + (1- final_df['yhat']) * final_df['loans_Baseline']\n",
    "\n",
    "    gain_perc = (final_df['loans_withModel'].sum()/final_df['loans_Baseline'].sum())-1\n",
    "\n",
    "    rev_gain.append((threshold,gain_perc))       \n",
    "    display(f\"At probability threshold of {threshold:.2f}, revenue gain is {gain_perc*100:.2f}%\")\n",
    "\n",
    "max_sav_tuple = sorted(rev_gain,key=lambda x: x[1], reverse=True)[0]\n",
    "\n",
    "fig, chart = plt.subplots()\n",
    "\n",
    "chart.scatter([x[0] for x in rev_gain], [x[1]for x in rev_gain])\n",
    "chart.set_xlabel(\"threshold\")\n",
    "chart.set_ylabel(\"Savings(%)\")\n",
    "plt.show()\n",
    "\n",
    "\n",
    "print('Max savings is at {:%} of {:%}'.format(max_sav_tuple[0],max_sav_tuple[1]))"
   ]
  },
  {
   "cell_type": "markdown",
   "metadata": {
    "collapsed": true
   },
   "source": [
    "___What you should see___\n",
    "\n",
    "* so there you have it - if we set thresholda at 58%, we can get extra .3% of revenue\n",
    "* For a company with 100B USD in loans, this represents annual improvment of 3B and this .3% represents $300M"
   ]
  },
  {
   "cell_type": "code",
   "execution_count": null,
   "metadata": {},
   "outputs": [],
   "source": []
  }
 ],
 "metadata": {
  "kernelspec": {
   "display_name": "Python 3",
   "language": "python",
   "name": "python3"
  },
  "language_info": {
   "codemirror_mode": {
    "name": "ipython",
    "version": 3
   },
   "file_extension": ".py",
   "mimetype": "text/x-python",
   "name": "python",
   "nbconvert_exporter": "python",
   "pygments_lexer": "ipython3",
   "version": "3.6.8"
  },
  "toc": {
   "base_numbering": 1,
   "nav_menu": {},
   "number_sections": false,
   "sideBar": true,
   "skip_h1_title": false,
   "title_cell": "Table of Contents",
   "title_sidebar": "Contents",
   "toc_cell": false,
   "toc_position": {
    "height": "358px",
    "left": "928px",
    "top": "135.2px",
    "width": "307px"
   },
   "toc_section_display": true,
   "toc_window_display": true
  }
 },
 "nbformat": 4,
 "nbformat_minor": 2
}
